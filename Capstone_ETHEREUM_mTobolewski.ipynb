{
  "nbformat": 4,
  "nbformat_minor": 0,
  "metadata": {
    "colab": {
      "name": "Capstone_ETHEREUM_mTobolewski.ipynb",
      "provenance": [],
      "collapsed_sections": [],
      "include_colab_link": true
    },
    "kernelspec": {
      "name": "python3",
      "display_name": "Python 3"
    }
  },
  "cells": [
    {
      "cell_type": "markdown",
      "metadata": {
        "id": "view-in-github",
        "colab_type": "text"
      },
      "source": [
        "<a href=\"https://colab.research.google.com/github/mt-470/data-470-capstone/blob/master/Capstone_ETHEREUM_mTobolewski.ipynb\" target=\"_parent\"><img src=\"https://colab.research.google.com/assets/colab-badge.svg\" alt=\"Open In Colab\"/></a>"
      ]
    },
    {
      "cell_type": "markdown",
      "metadata": {
        "id": "OB60Zd0C2Oxd",
        "colab_type": "text"
      },
      "source": [
        "Madeline Tobolewski\n",
        "\n",
        "DATA 470 - Dr. Manilich\n",
        "\n",
        "16 December 2019\n",
        "\n",
        "Capstone Paper\n",
        "\n",
        "# **An Analysis of the Ethereum and Ethereum Classic Blockchains**"
      ]
    },
    {
      "cell_type": "markdown",
      "metadata": {
        "id": "3-80VdFh9vgI",
        "colab_type": "text"
      },
      "source": [
        "Ethereum is a cryptocurrency platform dependent on smart contracts. Ethereum is operated by its cryptocurrency, Ether or ETH, and is used to build and execute smart contracts and distributed autonomous applications, or DApps (Ethereum 2019). It is able to do this all without a centralized authority, censorship, or third-party requirements. Two years after the launch of Ethereum, the creators and users of the platform decided to create the Decentralized Autonomous Organization, or DAO. The DAO was built to act as a decentralized venture capital fund for decentralized crypto projects. The idea was to make a stateless decentralized organization with no board of directors or employees but instead would use independent investors as its key actors. 1 Not long after that, a crucial flaw the DAO code was exploited by hackers, and they lost over $50 million. This led to an outcry in the cryptocurrency online world, especially among DAO investors, and more specifically among members of the Ethereum community. This largely negative reaction was mainly because such a large sum of money raised by investors was taken right out the DAO’s account (Ethereum 2019). This left some individuals presuming that Ethereum blockchain itself was hacked and the project had failed. To understand the Ethereum cryptocurrency we know today, it is important to analyze its predecessor, Ethereum Classic. \n",
        "Background\n",
        "\n",
        "*__Background__* \n",
        "\n",
        "The intention of this project is to analyze the elements of popular cryptocurrency blockchains to better understand their network structures and operations. The primary focus of this study is the Ethereum blockchain network, while acknowledging the Bitcoin network consistently as a comparable blockchain application in which to compare the network structures. Ethereum and Bitcoin both use the Nakamoto consensus to regulate their blockchains’ transaction serialization and are similar architecturally. Primary differences in the two cryptocurrencies include their APIs, abstractions, and wire protocol (Gencer, et al. 2018).\n",
        "Blockchain technologies have been quickly extending their presence among a variety of industries, not the least of which includes the financial sector and cryptocurrency markets. This rapid expansion and implementation of blockchain has proven its potential to be altered and adopted by any company or organization seeking to more securely transfer, verify, and log data. In the writing, Blockchain Technology: Beyond Bitcoin, Crosby et al. describes blockchain as, \n",
        "\n",
        "> *Essentially, a distributed database of records, or public ledger of all transactions or digital events that have been executed and shared among participating parties. Each transaction in the public ledger is verified by consensus of a majority of the participants in the system. Once entered, information can never be erased. The blockchain contains a certain and verifiable record of every single transaction ever made. (Crosby, et al. 2016)*\n",
        "\n",
        "\n",
        "The creation of the cryptocurrency, Bitcoin, in 2009 and the creation of blockchain are synonymous, and in recent years the success of Bitcoin has inspired other companies and individuals to jump onto the blockchain bandwagon. Most of these other projects aim to build onto the foundation of the Bitcoin network itself to leverage the high value placed in the system and the vast amount of computation that goes into the consensus mechanism (Wood n.d.).\n",
        "\n",
        "\n",
        "The Ethereum, a cryptocurrency introduced in 2015, is a decentralized virtual machine, which can execute programs – called contracts – written in a Turing-complete bytecode language, called Ethereum Virtual Machine (EVM) (Wood n.d.) (Bartoletti, Carta, et al. 2019). Every contract has a permanent storage where to keep data, and a set of functions which can be invoked either by users or by other contracts. Users and contracts can own a cryptocurrency (called ether, or ETH), and send/receive ether to/from users or other contracts (Bartoletti, Carta, et al. 2019). The Ethereum blockchain is similar in a variety of ways to the Bitcoin blockchain, although there are significant differences. The main difference between Ethereum and Bitcoin, in regard to the blockchain architecture, is that Ethereum blocks contain a copy of both the transaction list and the most recent state, while Bitcoin only blocks only contain a copy of the transaction list. Aside from that, two other values, the block number and the difficulty, are also stored in the block (Chinchilla 2019).\n",
        "\n",
        "\n",
        "The first exploration into the concept of smart contracts was done in the late 1990s, and it showed clear potential to support the algorithmic enforcement of agreements.  However, until very recently, in 2015, no specific system was proposed to create or implement such a system. Smart contracts are distributed programs that control the flow of the digital currency, Ether, and allow for expressing a broad spectrum of financial applications. No new concept goes unaffected by negative implications, as the significant semantic complexity increases the risk of programming errors (Grishchenko, Maffei and Schneidewind 2018). \n",
        "\n",
        "\n",
        "In the research piece, Dissecting Ponzi schemes on Ethereum: Identification, analysis, and impact, by Bartoletti, Carta et al. explain the process in which transactions are initiated and executed, as well as how contracts are tied into the process. The process is broken down as follows:\n",
        "\n",
        "> Users can send transactions to the Ethereum network in order to: (i) create new contracts; (ii) invoke a function of a contract; (iii) transfer ether to contracts or to other users. All the transactions sent by users, called external transactions, are recorded on a public, append-only data structure — the blockchain. Upon receiving an external transaction, a contract can fire some internal transactions, which are not explicitly recorded on the blockchain, but still have effects on the balance of users and of other contracts. (Bartoletti, Carta, et al. 2019)\n",
        "\n",
        "An understanding of the contract execution code and the heightened possibility for security risks is paramount to analyzing the Ethereum blockchain data. However, the analyzation of smart contracts is difficult for a few reasons. The first being that Ethereum smart contracts are developed in Solidity, a language which features transaction-oriented mechanisms and a number of non-standard semantic behaviors. Additionally, smart contracts are uploaded onto a blockchain in the form of EVM bytecode, a stack-based low-level code featuring dynamic code creation and execution, and, generally, minimal static information (Bartoletti, Carta, et al. 2019).\n",
        "\n",
        "\n",
        "These concerns in mind, Ethereum is still particularly notable due to the varied potential of the smart contracts’ functionality. The ability to be implemented many ways ranging from public cryptocurrency markets to permissioned consortium business-logic practices makes it even more vital to have insight into the process of hashing and transaction information. Also, I wanted to analyze the DAO Smart Contract before and after the DAO Hack and the resulting hard fork.  \n",
        "\n",
        "*__Methodology & Analysis__*\n",
        "\n",
        "To analyze the data from the aforementioned datasets, I used the Google Colaboratory to run Jupyter Notebooks. In the notebooks I used a series of SQL functions to query the information from Google BigQuery. \n",
        "\n",
        "The first thing I wanted to visualize were the top miners, ranked by rewards, in the last thirty days. To accomplish this, I ran the following SQL command:\n",
        "\n",
        "\n",
        "```\n",
        "blocks_ETC = client.query('''\n",
        "WITH mined_block AS (\n",
        "  SELECT miner, DATE(timestamp)\n",
        "  FROM `bigquery-public-data.crypto_ethereum_classic.blocks` \n",
        "  WHERE DATE(timestamp) > DATE_SUB(CURRENT_DATE(), INTERVAL 1 MONTH)\n",
        "  ORDER BY miner ASC)\n",
        "SELECT miner, COUNT(miner) AS total_block_reward \n",
        "FROM mined_block \n",
        "GROUP BY miner \n",
        "ORDER BY total_block_reward ASC\n",
        "''')\n",
        "```\n",
        "\n",
        "\n"
      ]
    },
    {
      "cell_type": "markdown",
      "metadata": {
        "id": "e7JqhGwhdq9n",
        "colab_type": "text"
      },
      "source": [
        "The above query produced an output for the Ethereum Classic data. After running the command for Ethereum as well, I used Plotly for Python to make a pie chart. \n",
        "\n",
        "#### Ethereum Classic – Top 30 Miners by Rewards\n",
        "\n",
        "![image.png](data:image/png;base64,iVBORw0KGgoAAAANSUhEUgAAAdQAAADzCAYAAAA/+edWAAAAAXNSR0IArs4c6QAAAAlwSFlzAAALEwAACxMBAJqcGAAAAm1pVFh0WE1MOmNvbS5hZG9iZS54bXAAAAAAADx4OnhtcG1ldGEgeG1sbnM6eD0iYWRvYmU6bnM6bWV0YS8iIHg6eG1wdGs9IlhNUCBDb3JlIDUuNC4wIj4KICAgPHJkZjpSREYgeG1sbnM6cmRmPSJodHRwOi8vd3d3LnczLm9yZy8xOTk5LzAyLzIyLXJkZi1zeW50YXgtbnMjIj4KICAgICAgPHJkZjpEZXNjcmlwdGlvbiByZGY6YWJvdXQ9IiIKICAgICAgICAgICAgeG1sbnM6dGlmZj0iaHR0cDovL25zLmFkb2JlLmNvbS90aWZmLzEuMC8iPgogICAgICAgICA8dGlmZjpYUmVzb2x1dGlvbj43MjwvdGlmZjpYUmVzb2x1dGlvbj4KICAgICAgICAgPHRpZmY6WVJlc29sdXRpb24+NzI8L3RpZmY6WVJlc29sdXRpb24+CiAgICAgICAgIDx0aWZmOlJlc29sdXRpb25Vbml0PjI8L3RpZmY6UmVzb2x1dGlvblVuaXQ+CiAgICAgICAgIDx0aWZmOkNvbXByZXNzaW9uPjE8L3RpZmY6Q29tcHJlc3Npb24+CiAgICAgICAgIDx0aWZmOk9yaWVudGF0aW9uPjE8L3RpZmY6T3JpZW50YXRpb24+CiAgICAgICAgIDx0aWZmOlBob3RvbWV0cmljSW50ZXJwcmV0YXRpb24+MjwvdGlmZjpQaG90b21ldHJpY0ludGVycHJldGF0aW9uPgogICAgICA8L3JkZjpEZXNjcmlwdGlvbj4KICAgPC9yZGY6UkRGPgo8L3g6eG1wbWV0YT4K0ULlwgAAQABJREFUeAHs3QmA3VV1P/A7k31j30GYAALiiiK4G3HDtlZFxQ0EcUO01D9q3WpVtK22aq1WsRZLtIq4gQuyiRB2ZJFNlrAlgUASshKyTGZ7//O5kxteJpNJApOZ95LfhZf33u93f+eec+5vzvee+zvnvJZatFS1SgOVBioNVBqoNFBp4ElpoPVJXV1dXGmg0kClgUoDlQYqDWQNVIBa3QiVBioNVBqoNFBpYBA0UAHqICixIlFpoNJApYFKA5UGKkCt7oFKA5UGKg1UGqg0MAgaqAB1EJRYkag0UGmg0kClgUoDIysVNIgGerpSrXNFqnUsTym/r+x972yP946UenqDsVtSLXWMGJtu6m5L7bXRafSIljRyRGsa2dqaRq3+PGpkaxo7akTaZuyotM24Uam1taVBhKzYqDRQaaDSwJargZYqbWaIJrfWk8Gy1v5oqq1almorFqaeJQ+m2qMPxfuc+L40pY6VvaDaCUx9jveuVfH+OKCOqHWlJRP2SO9bckKasWq7NHZkLYNpL6iuBtcAVoA6KQB1UgDqdhPGpJ0njU07ThqTdorXztuMTTvEsUnjRqbtx49O40ZX66ohuguqYSoNVBrYgjVQWdLNMbm8zVVLU23l4tSz+MHUs2hm6gngrD32SOqJV235ojgXnmh3Z7y6wvuMV04HDk+yZfUrlfcRqWXU+DVcttS6U8vo8WlsgOCo7tbo1ZO6enpf4bz6PzfpxZxa7y1Bc2SA7IjwVEeEJzsy3icE2O623fi01w7j057bj0977xifd5qYdtt2XHi2I9PEOF+1SgOVBioNVBrYeA1UgLrxuhq4Z4Biz6L7U/cjd6WeuXel7gX3Bog+nFL78gDXFeFxBnhqABNYavljPMYeMbr3+yb+my+Pf1rq6a2hsXqMNd97Mbuzuyd1Bn6v7OhK8x9dmW6dtTBvCU8YMzKD7Hbhse6904R00O7bpmc8Zbt0wG7bpO3Dm61apYFKA5UGKg0MrIEKUAfWz8BnY0u257F5qevuP6TOe69MtcUPx9btol6vMwNngGUB0NYRA9PapLMZSjfpitI5w+zqfzJrq08sb+9Mj63sTHMWrUh3zF6cLrx5dgbYnbcZk/bdZVI64uA90nMn75h2mDg6ja+2iIs6B+29o6snefXX7C7Ywq9apYFKA42tgQpQN2V+ujvys8/uhTNSz/x7U/eD18fr5ti+DQ80npFml7PliXucG8+Kjd2yubvxVw3U07Zw2O3VTehTrxc785GuNPORZemyO+al7QJMn7X3DunZe2+f3/ffdVLi0VbtyWnAbv+5sYA5/6bZ6wSQ2bZ/zj7bpxNfdWDMz5oJ6nfARx99NC1evDjttNNOaeLEif32cbAzdksefvjh9JSnPCWtWLEizZgxI02YMCG/PCIYMSIC2rbZJo0Z07szoc+CBQvSLrvskpYuXZp64hFDazw6GD9+fL/jLF++PM2fPz/T2GGHHdLKlSvTsmXLUnd3d6a9/fbb52P6jB07Nu266675ON7R33nnnTNt1z3yyCNZDn1Gjx6dFi1alJYsWZK22267LCe+8IO30lxX+MQjWdzf62t4QxcvdEc2Dd3HHnssX09nxqILvKDrGjKh7Vo616e9vT2Re9KkSVnX999/fxo1alTaY489sjzjxo3LMtIT+trIkbFDFHOg37x58zIP9OB430ZP5rrMMx5cgw96MH/9NWMtXLgw0T+d0D9dFV7LNV1dXemhhx5Ke+65Z7/j60dneNh9993X6KtcX97Nk9fee++d+65atSqfoqdyf9IneeiUrHSONl2QC4/uSboo92Oh34jv685WI3I5zDzVVi5JXTOuSt0PXJu6590bgUSCiB7tjbxtDRUCUa8ha4zD+g3EYLCRR4g/0F7HunesJcs60iV/eThdevucHNhkO/i5k3dKh++/U94iHh3RxVXbdA3UYvkya8GydNX0eflZdz2F7kDU0SNjgWOFM8CUz5kzJ/3sZz/Lhh4gvOUtb8mgU0+rfGbkfv3rX6cPfOAD6fe//30Ght122y2DkD4A4K//+q/TYYcdli9hXPU76qij0jXXXJMYxrlz52aDfvzxx2eDWp7Vo33WWWdl4+fzW9/61nTbbbfl6/bff/+07bbbppe85CX5OxoA6DWveU02mD//+c8z/4wqurfccku64447MigBgJe+9KXpsssuy8CBpze/+c1p1qxZ2QC/4Q1vKOKladOm5TGBy1Of+tT0ohe9KJ8rPJaOvmtXXHFFevDBBzPYvOAFL0iveMUr8vFLLrkkeX3+859Pd911V7r++usz4DH4r3vd69LNN9+cdQao6Pz1r399uuCCC/K1gOrYY4/N/P3hD39Iz3/+87MOyQ/sX/ayl2UQpk/X3n777ZlPgEovwGry5MmpyFV4v++++9JvfvObPLcA+Z3vfGe66aabMi9A/dnPfnbWL3At12DInP7iF7/I4EnGvfbaK/ND18CYvgG+Rj7z/a53vSsDr2N9FyT4MD/veMc71pp/fUv7y1/+kq666qr0wQ9+MP3gBz/ICwxAicdnPvOZuZuF3cUXX5zHsgC58MIL04033pjvTYupyy+/PAOrRcDb3/729QJ8GXO43ytAHWAGehbelzqnX5y6778inonOys9DYwkVd1cAByDtfyE4AMXBOsUQ9BqDwaK4MXTibzRSc3pBc8HS9jQ/XtfdtyCdfd3YdEA8c33lM3ZPL9x/5wy2G0Ov6vO4BlpDuTlS+/FtgnyypSU8xo1Ie2LsAQhDD1hvuOGGNHPmzGy4GVYGe8qUKemnP/1pmj17dmKMgREAYFxf+9rXZlBjxO69995ssH0+44wzslfF0PMK0eetfetb30oHHXRQBqFf/epX2Qi/6lWvSrwbXtBJJ52UzjnnnAxE6DgOoHk0jKrPgBmv+jP46L/tbW9L//Iv/5L5fdaznpXa2toyWNx6663ZuOOTVzN16tTsvQCEYoQPOeSQ9Ld/+7fZ42GAAaOFAlnxCASe9rSnpZe//OUJeBv3yCOPzLy8+MUvzouMSy+9NF/HqNMp8MMncEML2FmM8J5e/epX5/dzzz03y8djBIA8rX/7t3/LiwHgTs/kBcAf+tCHMmBYKFj0mDM0zdc+++yTgQzgWEBYiPzVX/1VBlCfeXG8NNdYTJib6667Lr8AK2/u2muvTc95znPSlVdemcczR0cccUSmy8O3uNhvv/0yCKJtLj71qU9lntwnP/7xj7N+3Xw8cCBMT+aBbt077iFzyoOlm+9+97vZK7dgeuMb35juvPPO9Nvf/jZ7uTxR9wsvFF/mlJ4sUM4+++w8BlnJRRb3o3uNl29MOi9jol0828f/chrrU+VS9JmPWuR9ds+9La268jtpxZnvTx3TTkvds+8MMI0UlpZA0BER/Tqoz0P7MNAkXxl50cI98Uc4Z8mKNO2OOemzP7sxnfiDa9KPrrgvTZ+zNAmAqtrm1wBDyJgyuICkbJcBL0YXADBiDD+PACiVLVNGi+cHVHkIjD/w2HfffdP555+fvSgGmcErW8FoAEjAdN5552Wj6Brj8JQZQXwACN6OLUWeKF4YfPwChauvvjqDBj4ZSkYXsDLSvD7H8PN///d/2XjjGd0zzzwze1V4RAvfgAIIGp+BZpxPP/307HkCK0YegNADY49/njG5dtxxx2zEeb08WmABWIEs3hl3NHmSp512Wu4LTIwLWPUHmLaBzQFZ9SWXbXV0nvvc5+bP3//+9zMvgB3wkunPf/5zOvjgg7PnZnsUf7/73e/yMXyTy5w9/elPz3TpyeKADOTlDZtH26KO8Vh5sYCT920x4jUzFljG5xECV7wCczLwTs0fXVhk8Hbxd8ABByRASZ/0+JOf/CRf98pXvnLNbghZyMmbBH74951O0DCWd/QtoNw/7i1jGsscWPA5/6Y3vSnzAITNv/kyL/SPTqO3ClBXz1BtWQQX3Xleav/dP6SVPz85dVz2vVRbFtu6ADRv6bY0+lwOC3+0wrsCsLzXe+YuTf/2u9vSh8+4Jn3h7FvSH2N7ePHy3mcnw8LgVjCo7TireoZR47UxYACD8eVpMOqM8Atf+MK8/Qh0AYAtSMDHWNmi/dOf/pQOP/zwNcaax/WMZzwj0zMOsOMR8s48C2QcjeU4MGIIOzoibzoaIPIdIH/1q1/N24MMPBDQgASDamsQIOLjj3/8Y36miy+NR/OZz3wmezQ8JXKecMIJGWx4eWQlG1oMM3mN95WvfCUDFPCYPn16Nu62OvENrG25Wkgceuih+TsQAPI8PVuZxgJMdGYRAKiA68c+9rEs09133535Iw898gQ1nhdgAN4ADRAAFwsLevn7v//7LCdvVbPV7Bm2LXbACIxtFQMs8uGdDujHAgbg4BPgowGQgTc9eFn0AElevPEsOswPHu0aHHfccdkLtKVsJ4K3ecwxx2TPncx2GYC/ubVQAPbuCzTcR3T3N3/zN1le95AFD6ClH9dY2OHBTgYgLgueU045JX3hC1/INOxcoGfODjzwwAzedK0BfveDd9faEreosLXcDIC61W/59ix5IHXdOy0idS+JdJe7I8UlPNEUMDFybJ7g6p9N04CIVPqzHXzujbPStNsfzs9Zj3j67unFB+ySdomiElUbfA3wJKbF9iJDxaB6ZsdLaWtry8+/PMfjSQAHW6AMOYMFCIGe5rkZzwQ4MIqTw+tEgzFmgAEqwwe40dcHCHoG5x0gMPAMPW/FO7ADUMZAA8C4nrcMoIArrwwYMv5o2RoERjxYhpqhZ0x5P7ZheWKOkdWYxvEZgOtHRnIAe14QLwdQ4w09XhhAwg8e9GfELUDQsoAAgrZ7gRpgIANAQdc4dAJMPCN873vfm0GN3r/2ta9lXejzwAMPZLnLIsP1wIne8UEP5oysPF6yGBMoAUn6ple6Mn++82TNo4UDffEC8WFrFk26MX+AyGd82jFwDPAZk+dsjP/8z//M47oOr4DaAgRQ4rW8jEk/ZKdL9wTwtkgAuuR+3vOel+8N82gOLFDMJWBHx31j7umFvHi2vYsfcwmk3StoWay4Jzwvnxpb+xYTZefB+I3cRnwhWiMzuLl463lsbuq45vup4/LvhGf6x1RbMs/SPrAgtnWHNMBo0yRsjWen7aMmpvPan5UWd40J73Don6VuDMe8Vq/O7gi4mb8sXXNPPN+J14rO7iQ6ePTIYXsAvTHsD2kfM3jtvfPTjfcvDKPZmy8cNjcMb2RgRVDSPjtPTEc+e6+sz/UxxhgywgwcrwvA8iZ4ZAwwIw4EGTDg43ljvQfFu9Cf8QI8GppAx9ama4EMg2jrkZE2HiBAm2cFnHhTrgN+vA/eLqCYGduN+vGAgBxA0Mf1U+LZLgPNEzG2Z2VoAReGF5DweAAEg2sLEOihjTfX4gsd4MeAuw5wOGZhAAwYbnzz0unBwgJg2Vpsi4WHPmSiF/3Ky1hAB7/45t06hp7rPfPEoz4ABS08kYF86OjnM2Dw2fNdfemERwj4zIutd6BrPgA8HQIi8wro6IBnSW5eMJroAUjH8Fb4x59FDzBFB8CRkS7pGfAZjy7sCABO8tGH+8M86+MeMK8WOu4l+gVsvnvZNbAwoxNj4Qcd8wzwzQPAJrvvgtIKqOPD/eo6943jeMILD9t3MuPRmHhr5LbVlR5U8q/zzvNT581np55HZvRarRypG5asCdqIqJS0ZPxu6cNLjkn3rdwmjWxpjueUDEdXgKs6w4e07ZiOecl+6bD9dkoKSmztLVST/jxzYbp51qIAzbW14dzeUcGKh9/33No9q2+VBioNDLcGthpAVXBB6kvnX36bumfGfj1vtLX5vKReQN19NaBOahpALTc6gOiu9URpw9HppQdGVOpz9krP37cC1qKf6r3SQKWB5tXAVuEedM24PHVc9+PU/dBtvdG6VaTusN2xsTMWi4DWtHJVVzovChlcE1udh++/S3rToXunFz1152Hjqxq40kClgUoDT1YDWzSgitztuOYHqfP283qrGbHmwLTpW7h5w5CHOphqMxW2f5cu70h/uHV2+lM8Xz36Bfukt71wcv5lnMEcq6JVaaDSQKWBodDAFgmotfalqeuei1LHDT9LPXPuia3dELMJt3eH4gYY7jHKb7U+trIjnXbx9HRFVAt690ufGs8Md0vjRjXflvwT0mfsg3fPvTWqcN2xbkBcbI+3brtXGtn24nXP9TOYZ9UCZAarCa4RECLwZKAmKEUAy4bGFjwkUGZD9OrHqpep/nN9n4E+i7Ilg4Cc/lp+vh8BRYKCBuJ/Q2Nv6Dw+yC7wqTTX0AneBhq79F/fOzpaXxoCe8hVP+b6aPQ9viF5Sv/++tG3Rt71tf6u69t3Y++/vtcN1/ctDlC750SI/g0/jjSYKFYfvy+6ZXikw3V7DN24MGBMeKx3PLgkfeW3t6bbZy/K3uo+OzZ2VN9gaKgWoNl5zyWp89qf9C7+6on2RP3b/Q5PI/d5wYCAylhLlRDJ2dbWltMY+hpRxlW6iOhZ0ZqiMjfURGZKHREt3LdJ9hd5KqL4l7/8ZTr66KPXACVDKB1FRK7zokRFekqFMK7I1r5Ncj9AEOFJHikscjRLGo2cSOk+ijuI8BUZW9/wKr3DtYy1aFORtqoG6VvK/rlmckT+Gkdj/OXf0omUGlGt0mTwLAqVTqWckEl0Lh7km9KvCFXRp64XgSxS1TELBvoRfSvKlwzTIkXGu+jXMq70IhG8cnjpCk3RuqKtAWFpxiYbHepDPhHTFjL0bE5FzxqrNH2kwUhpUcRBE3GNVxHd6IjkFTmLD7qnAxHBiknQPR7wotGJSGb6Ek1NDmlDaJKZvkvDK3rouy/NjUheJQf1p0/6ch+I6kVbmhN9iwQuc2su5KTKIRYV3ehti0mbqXWuSJ03/SStuuzbUXP31gg6ihXbFuiVNkvazBO98RWIWBWpNbfPXpKjXkfGH/3kSBtRlm+LbWH4umdelXpm3dK7kx/GMwfNeQ/j1br97mnUwX8VgLr+1T6DxCgCCoYckEhdYJwBKVAALAyl9BfGHbAxmIyfvsBEKonvMyPNhdckRUIOpH7OMXi8DgZR+UF9GOGpU6fm9AapGgCPMZbAL59QIQh8qarEiDLQjDKeAQJejfed73wngxbQIQvwB8ZoSFm56KKLsoEGCLxhRhcIM8QlnULKCUNOTqAh/1HZPjyiJ80EsJLDuHIe9QHWxqIvZQrlUZZ0FrJpgIaO8EIfii7QlbQZ/DtXag3Lv5SviQbQKaDlOMD3XfqLKlDSXApoAz+yAUCgrU8BWeBCX0CaLunR3Bi7pCuZD8Uo7rnnntxX/q35lzNKX65XLYkeLATw7BgdmhPgJ2UGTeeBtepVjrkX0KdHMlgAmG9AZy6BJW/bQkgNZIsKoK7qE7BVBAPAeqdzPJOTPskjNct9af7co3Qr75g87olN2dXIEzYM/zy+BBqGwQdrSMUZVl32zdQ1/fJeIB3A8AzWmBWdzacB+avaHQGq//qbW9ONMxakj7zmaWnXbcdtvkGHnXLITO7Vsq9hp79ja072fmC0GB9GhyfJG2AEGWMeEyPIaAIfXoIkejmfDBXgY7gZSF4Ar41xZOAZQjmhQJChY/hU1ZEbCNzkczKmDCBjDEAZVNV8eFSMpYLxPAz88OwcA3rf+MY3ssEGaqox8XB5aYDOtQy78XjHgI4nzJMDYq43rvN4tRhgeN///vfn6keAvxhsNXsBFACzECArkAPwFh7Asi08eh6e84y9cQAwICM72vSCBkDgQWkABrg7LmdUs9CQk8vrAjb0bH7MAR0pVuFVeACwAJ5M+tORXFLX4A8Q0uunP/3pDOhAXUlFuaS8RQsBuqBj+gPoKjWRD4DyBi1OjG9hQtf0a+7xaC7JCfDoxuLD2FMif9eihPx2AyyS8OW78wAWCKKHjuL3FicWIsbEt3mjH7y459BzD+IRDcBrMYF/c2h8OsIr2vh2f1i8uMeaoTX3sr87qrzc8bu04hcfTl13XLoaTJtbpGa4aYaKx+ytdnWn39zwQPrET29I198fP9UVf4hVW1cD5VmZM4wPI2QLlgfDQzoiyvEp9Qagvv3tb2ewBbIMKKOleAAwUFDAZ43XAjRU5Dn55JNzWT601NJlRDVeCmMItD7+8Y9nMAXugJWh1Mo7MMIDw2kMRdnf8573pB/+8IfZi2K0bWmiSR7biMAK+KIHbC0AGOvCJ6AFLDPDowKkGh6BCaNvQQEAvWyRAhBem5qy3v0azoc//OG8hUkXisMDALTQxItr0AKEAFqzWAEWFgzF2KMHGJUIJLOxgb5j9GNOlNBTfhBd5wE3T5Os5siYwImMvEjXWCABKQ0QAl2AxwPXXOszbxfAWlSRiWz05FdjjIkGAAeCFjaAl640Cwr1dXmZvHQNTeO7RgOCFllAHQADP4sQLzqgE7Iqz6iso+NoFM8ScKPlOO/UHNuVcBw/inG43yzuLJTcG35hxn1hEdAMrWnRR4GGVdf+T2q/6N9TbcFDvc+eGrjCUTPcDI3II2/Vdu/NMxamz//ypnTWNTPT0vgh9Ko9rgHGDCjycBgphpNRdJz3Y8XvuGdspSYqQ8tj0YCS7TZGkFfEMBaPjCFj8BhBRp6xAzje9eOxMMbGAiKOe/kMaBlU78AQnUKLcWaQAVdbeIi2Hnk4ANU4jCiPGwiiz7MBkp/73OeyMQZuBcCAAMOv8Q5tbQM1PBnHmBojDlxsq5btS+cZeTrTz5gADB9edOO5JJAqW7NAktfoeSovnbyeVfK8/AqM/rwx+uVZksUWrAZcLGTMB93i0Yt+LIDsCGg8dADnWaWtV33oyxjmxjG0gPKUAFdl++wq4KXMmXF8NhfGsyghLwA+/vjjM23bx0DQQoGsPG3juJfQ9cKLZiFkp4F37J7yMjfm1zgWSXjy2bx6t3XrvO8WPuaZrHZDytwCT9d+8pOfzPeWHQH3p2Zu8E7+ZmhNueXr12A6Lv+v1DXzxi32WWkz3DxDySNQfWjRivTN82/PAUt/99qD025b0hZwLaIiu7vWzYaKoKTktYFmW86vufz7v/979up4EAqf8wgZM88xGftpsXULTGzBMXYMm603hpFxdkx/W4gABogxrrxahhcge/bK6NqWA0SuYUg9U2W0GVxejOdvatsqHdcWoMm7BMzAjherYL7AFgXpXc9DBma2pW27egap2WoEdLZ71Z8FGjxDgI53/DHu+CUnow10NIYZoABpnjUDTQ4/RcbgAxLbvOThuQFJfXmUPEegaOsRr/TC67OtCfyNB8Q8Q+W5kc2OAO+T/J7F0olxbMeSGRD7Tu/4xBs6njmiSX/kt2ghE7ChY/qxePEclX41vNG9uQE65Rdg/CwaWjxr1+GDfBYUaPq5NQsQY00JwDRPxqezqbEF7p4hs3vCmEocut5iC3DzJjWLCXWGgZ17wi6Arfavf/3r+VoF/y3U/EKP+xI/Fj/muMyFuXUtHs2t+SEfHfK46cZ9SbfN0JquUlJXBG+0X/DPqbbo4dVeaXOsXAbrZmjW0oODJb8Vdk/s+h62387pU3/7zLRf1AVu9lYLA9tx/f+mrj+f03tP1wsUYDqi7ZA09rWfX/dcfb/4zPACFwDGUPvOgNIZg8uIMpC81rKt5xyAAVKOM8AAl5HksfjuWp6f82U72NCMrOvR5Q0x9gwfoNCMj7bvAMoYzjOSaPJcjGFbVwM0XsXbLNt/5HENAEAPH4CSx4MvshZe8eH6QsM4rjUuoKSfssVtTB4aWekDj8UTQts1vqPhOn3waowiu/NFtnxvBv90hqfCL4/MPKBDR/oVr5NOXI8mefHqnLF590Cczi1sjOmlf2m+A3X64Alr5PQquwLooM9zRh9Q0iM9kAdf5MWXF171Nz/Oo6M5RjY0StPHcaDneL2u0DEPQBIP+MO7OTZvZCz3StFVmVt9ilxkr5e5jN2I700DqLWu+Cmo285OHVee3vuzanWT2oiK3Vw8be2AWvTa2dWT9o7o30/8zTPSyw4KQ9Hk66paexjaeMUT0CLi6vfIKx01PrVMAFJ9z/XpWn2tNFBpYFg10BRbvrXO5VE6cGq8zuwtHbgFpsMM613QhIOrsvTAgmXx26uR8rFsVXr9c/eOZ63NCzgtY7dNXlWrNFBpoHk10PCAWoufWVt11WlR1P78FD9XEttezbGXvnlvCcDRvOAxWLrxg+YPL1qevnnBHTlQ6ZiX7Bs/dP74dtRgjVPRqTRQaaDSwMZooKEBtWfRfan9wn9J3TNuCCAdFRhSGcveSZU6UqWP0IXShUuiHvB/BqjOf6w9nfTqg9L40Q19W/dOYZ9/O7rjOVZ3/9HLI6N05uiRY/pcUX2tNFBpoNE00LCWp3v+Xan94q+mnpk3ry4fWHlkjXbzNAo/8lXlp/706hmpPZ6tnvSqA9MOE5oHgPB+2d3np8vvOz+eBa+9A1OL6N8Dd3t2esfzPhjnBl5QCjYR2CKIR5DO+ppgoRJd2rePIBnBIAJKBMcIDpEmIphGzmQJ9qm/TtCJoBgBOq4XoetzCYLRV7CLQBl81Qe1FDqCbwT+CICpD3wSrCIqVDQr+QTBCA4io8+CYIzTtxmrBMU4J+hGX3wKohEU45go4xLwQi94oxvn6FIwDT0IlikNH/g1Ljn7NtfiWVSrRh/0hufSXzBRCTjSX3CUY64RrGMMKSoCh3zHs3P476/RnXkQHITu+vRSfy2aeCN/idytP18+0wtdoO0+oFvBROYBn85rZHQMv+4hAUxk7q+VYCr6LgFN/fVzjDx4RK/RW0MCas/86WnVBaemnofu3GBkY6MruOJvaDQgX5XxP+e6Wam9oyv9faTV7LxN/8XQh4ajTRmllmYvuT/dPPPS2LJe+0+yJwC1NR5z9NQiH3QAQGXAzjrrrDUg8pa3vGUtEMANIyZtQ4Sn8yV6s3BKf3I7FQ9gKOUJMojSMFS9Aaj1jQGXOgMMjo+8RsZe7qT8TWPJ25SeoxlX2suHPvShdcYFjAoqMMgAWWpKASO0FX448cQTc8k7AOsY3oAIYJTKU98Ur1C4Qc4pvvEi1cV1J5xwQk61KcUnjIl34EVOqSfSQWZGgYVpkWLkPBCR2lPAQUqK61WNcr5vAzD0ctRRR+X0E/IBIek10nLoWZqI3NrPfvazOYeVzoFLW1tbLvAgBcqCwByhR266ed/73rcOqOKz5KfiX6qN+0FRhPU1ACl1xZhSfAYCVJHhKmPJxZVeY1GAJ/JZbNG3BZPCDNKZzImcVYAtBYfc9U1febvSnjTpPHKg+2sqTbmvydL3/uuv/3AfW/duGGaOenimAabds+OXN2zzVq3SwEZqwB86Y3X+zbPTsvi91X9647PTDhObw1MFlsC0L6C21FrW8Vr7U4ccQZ7UkUcemXMr5XQChSlTpmSdAAD5fbwvQMQ4a8BBvieDzRhLqge2jN3vf//7DGxoyVHUT3/eGgPH2+SNoMdIAmHnFQfgTQAoBhVIM/i8DPMjdxRtvDhfiiiceuqpGTwVbZADypCq1oQ+sAZGvDlgxMhrKv0YU07mu9/97mzgp0YuJQAjk0YmxR54Qq4HIKo/yZnEB29OagaQAZ4a71P+JTAEzgAEAMpbtSABfGipNiRnVy4l/f3kJz/JPNOvF93hmyeospLP8l7x5Hr0zZ2CDsATPTrCr9zbkvcJWOgTrwBM/qd5UKTCNRYYgIlHawFB565R4lA+qPHU4J0c+a1ycPFggaFMpOIR6Fr0AHY0LCDwrCSkfnYNvNAybz/60Y+yPuSRWrS4TvEK1wJL/QqfdhfMpXksMllcyUcGumR1HZ7pWa6q+9h8WGgBaP2aoQ28hzTEEnQvvCetvCiemc7mmVZgOsTq3yKGy6Aaj5cvue3hdOrZt6SFEQG8pTdgxvgBAVtxJbfQ9//93//NhtJWHI9Hoj3D7RqG+xe/+EU2ZgpDMGZevENGErigxyh7KTeofCDDKfGfYWXQCz3eDpq8FsaQYQd4Cgcw0EALyOjP+OsLGAAtfoC48cnCw3PsiCjHZxwA7ToFFIAU/sw1UGfUleMDxIoBkAVIuJ6nZAyAQweAQz6kLVlAqaSg4wASKJNBo0Nj8o7xyRMF1MYF9sZVRIIe0ObhATZbxMDEGK7HBx1bULgOkKiixNszH0DVmAoZAA7bm65Dj+y8Mp4fj1WxDrsCQF21I4UUgJR5ApAKKFhcFL04D0iNh3fX817xrB8dkI8e6IX85sUCgWwWG/iwQCI/ft0bZLSocM7cAHb03Av0Yt4tWIwHjMmjWAVgpQv3j2PGc4/qTwcWbWjyhi1e/vu//zsvVCyAKkDdRCvWs3hmag8w7XngtgDThnOcN1GaqvtwasBTLdG+0+6ck74aaTVzlvQ+4xlOnjbn2Awog8cwaQCAwWIIGVyG2jamxnB56V88OJ6VvvVbcwwYGjwHzxm9AzKeIQBkVOvpoQmE0GKoGWRG11aqBlQBJoDjGXrHN0OuapDxgQ6vChgBVkCFJ0abbMa1zcirBSD4Z4R5fYCAITYmeYFCAQYgbjxgol6vpnLRBz/4wcxL8UrxQ47SAPgHPvCBDCL4x4dtZGDhM5q2tQE6bwvwAUElHoE08KP/Y489NgMgD1WtXV4pHagcRT+8RHotlaeAluuNYwcAGKnNawfAdeYCaANogK3fZz7zmbw4MIZxLSqKN2kMerbAAGoWNuS0Pes6CxFeMo+S7uwGWNSYf7o2Pnldb+FiqxhY88o1cpPFPQZ09TNf9I5/Cyy6t3hwj2ilj3tVc735ct/hj26BMV3ZXXHvlfs7X9Cg/zQEcvU8+mBq/0OAqZ+vqtJiGvRWaS62wjZGa0l/vO2hANeUTnnd05vomeqm65rnVLZVGWceDG+Ol6BNi+dsjCOjaYsVcAEyRhMQtYWH5hmhbWNbg8CPsQZiwA14uQZwMMaMJQPJ8DGyjCHvV0F3oDYztpsZdf0ZaQaa12EM9BltYwEcPPB+GU9gAaA8i/W8Drjq4wXUnPd8EMgzxsYBrraRyVcCZ/BlLGALiBhsfBgHHfIAUjJotpbJATjozndeI2Bj2MkCFHhz9At8eU5kwScZ6MscWFAAEQ3fFh9lAQNwbXvaIqVPXhpduNb4tjt5fHROx7xLAGkL2wv/QJM3TH+ACVhaKBgTHfNTfvTAtQDX4gBd13h3v9AdACQj/o0PKOnEvBtfKUXf6Qpw8hpt/fJEXY9/fSwszAl+0LI4cJ+Rhy5djw/8GJ/+6M4Y5pRO6QlfeHffWky5l9yL5K5f7GTlNuA/w/57qD1L56T23/9j/B7kn8P+wfdsCRtQVY3B0pb+e6iDqWV3Uvx9p3vmRsTk/MfSiw/YNY0dtXYU7WCO90RpRcG3dPPsa9MdD1+XSdRqPcF370tQ0m7btaWX7f+6AYOSbJUxUoyXrTeGiRGztciLcw7AMIr6MpiMVlsAKcBhlG0vuo5hZhw9c2VsgRSvyfavvq6xBcwwAh3bdgwpeoyo63mMPEyGvFwPbI3BsAIM3grwYpQBIg/EszP08QhAgA3g9+wPUOHfOGjjhwcE8IA50CMjXvFEbu+Oeeed8UzJAAyM59ml/ngmK+OOLmAFMBYCQIZO0QDm6DH2PEQ6ANSuwydQYPidB7j4dp4eBGiRq/CIH14eHQJY2+k8fB4a4KMHwA9QzI9z9GpuABD+AZYxeKFAR3AP/i02bB8XANcH765B13XOAyw6LzsBtup5pPSJf/IDUPOEJzpyPZDFJ7l5lWQ3V+4zfJgrfHoOTb/4cY37xtjmkNyuIZcxgatX6eN+KXNJN0C80duwlh7sWT4/dVz2H6nzlvPCM62emW7MzVKVHtwYLa3dB6h2xR/0sS/bP50cv6vaaKAKUG+ZfX26Y+6f1wFN0b17bjc5vWy/12RjtbZk1bdKA5UGGkkDw7blW+tYljqu+l78nukfUq9n2khqqXjZkjQQi+Y0MryGc66flXbfdlx6x4v2je9xsEFaS2pJz9nrsPxqEJYqNioNVBp4Ahp4/An8E7j4yVzSccP/pc6bfxuuQ7gPLF7VKg1sRg24xVa0d6Uzpt2TLr2jN+ViMw5Xka40UGlgK9TAsABq513npY6rp0ameUR4VWC6Fd52wyOyikrSaP7jvL+kOx/qzTccHk6qUSsNVBrYEjUw5Fu+3Q/fHD8O/t0UT5+riN4t8Y5qcJmA6uyFy9M///qW9KWjD0mTd26A31ONTZoVD8xMK2c/EJu/a69xPV8ds0Pklh4UVYoafPEpcEaQkFdpgpUEpAjUEbAyFE2QjKCroRiPbGSsl3mwZNxU2oJ+6Bk/G6NvAUD41ndzNAFQG8PH5hh7uGgOKaD2LJ6RVl32n6kn/zj44390wyV8Ne7WqYGRI1rTLQ8syjmqX3zzIWnXbYe3RKEfGF9w8QVpzi9/nFpGrP0nWQujtO2hL0oHfv6fI9Rg7XP1s8c4SgcR/SmKVsGCvoaSoZViItpTBKzISRGochCBoahVTcQt46yJ2BTJKX1DxKm0DGkffQFELqNoVDmYUjFEyIq6FfWqEs6UKVNyVCia6FxzzTV5bFHFIkzlGYrgFcmpOpDUC31E8IoGdj0eFSoQvUw+qRp9m7QVkcbokhO4Fp43BLBkJqdIaZHJok1FoQ7U5EjSKxlKw6fUD1HBIlVF05obKTR0jh/5pL5rZBZFa76kFomANb7PaIvs1XymY8Uh6N81IoZLMwfGk44j2lcE8voavqU6iaKVymJORNqKwqYHc0GOEiG+PjqO40uaktQkjRzuQQUczFuJzhW1rdCHe9Vc0K9oaoUmNPeLKGi5uiU1SSR0kT93avB/WoeMv+6O1HHt6an7gVtjyKEbdsjkqwZqKg0ISrr+vgXp59fOiF956U0uH04BamFketpXrvOqxbFaGLYNNQYSAEnPACoq1zC+jBdjKUWBUZczCfCUEZQ+ogCDc9IclJNjqJ1nBBlcAKOf74BVbqtUC0bXeeNK+ZgalXg0aRfo6KcZm6E3NoAAcPIW5b4y+BdccEEGMGOgL9dTDiPvhqEHPvoyuniX7sIIK5MHqNC3AEDbtUrlOU9uPBtDdR48A2LyAFyNBygvF/hJ4wFUrpfGA+DJpwELY+DRtfJAyayV784DcODi83e/+901faZFDjD+gJ+qTa6hY2BtQWO+LDy8q2xlMaIBNWMV2gBJlSRyOVd0DMgAlYURenTtXjA39KOZX0BFB14//elPc196Bm5SYJR0dD15zSea5NEcL0Dnu3kwXqnMJM+WPBZC5qucL3o0lxYQ8meNZ14AL32bGy/n8GvRR9fuZfSaqa1/yTvIUnTeenbqvO2iWM7Ets8Qbf0MsggVuS1IA/6oGdRfXDczHbTHtunVz9xjeKXzNxEGJr/qOWHQNvD3wugxnjxHeaeMJzD1kgto+5NBc5z3o0IO74ExlGcoDxCYfe1rX8uGVWEFfZWeO/roo7O3IbcRMBWjefrpp+fcR14YAGOkGci2tracI1qMvWO8TMANhI+IwgbABV+qIwEzxtdxzWceItBwHojylIyjRizvVc4j2XhiwMOCgEeHPkNsbumCzGrryp8EHP/zP/+TeWS05UfyggAPD5inhjajD1BciwfAzcMGAM4DNTzKW33ve9+bFyBAA6gBlX/6p3/KHpVcywJGzvH0FJngmQJDebQaEJOLyjMjF/As13lHW46phc7/+3//L18D+AEw4KdLc2EnwWIGANGBRYvrzS36yhKaY4sbegX+ZKYn+gGYBch4qXYaAD9dokt3PhtXzWT6J4cFiR8noBs5vnYQ3Cs8dvNlAaGRTW6ruaQP95iiHRZBf/d3f5fl//rXv57vFX+XaLtH7DQ0UxsSV7H7oT+n9iu/XwUhNdOdsRXwykAsjiCl//7jXemBeK7azA1IMOgauXwGhoAMIABagMMz0gAdD887I8xD8ZkHqTGEDJqtOw2QMKYMO7Bl1E866aRcEk8BCN4XoGac0cKDxjg651dm3vzmN2cAt7UMBOtrz+rLuDK25RdqAAJjjoaxNXKhjQ9G3YLg5JNPzrwArLYAdOMASdeQhxEvfW2JAldADkAYf4YduPJqAbO+FgjGARDo/cM//EMGBbIAWsAL+C1WgNbnPve5DGTAj47poDRbs4AM8FnI4F2jA4Boq5Pu0bU4Kc34Fhpo07++QBD40ZMxeJHAGShZLJFX8QVg/7a3vS3zaVHgenNZtlIBlevMl3vHr/Eo5GCL1f1AfxoeAKvxADhP3mLCAgC/vlvMafStwhV9uB4d8/7+978/AzgZ3SOOW+i4hwCx3RK6oXO6c4ycdipUpmqmttkBtbYifingyghCWrbIX3Ez6abidSvQgOep0+csTf9z6T1pxareWrjNJjajx/sAPmWLV3Ubhts7Iw2cGEHl/RhBL9+BC48GOPjMGDP6vDBAojnPmPoJNWMxyoyjF4BzneMFKHz2Kq2AhX7446n4GTIG2QtwM8qMMe/Js1EgiEfej++2GxlbiwDgAATKtiH6xiajcX3HM3AAtmQmj+vpiXfEC3MNw++5Jo/MGOT5/Oc/n59F2tL03Utf4A0I6A1tzZjoGpN8Fi3leNEBQPWTdMCXvEBd48EBwfK99EdL892OQPlufLo3D34xBthr+KMvYOoaL+NYiBR+0KHnKVOmZL3hG7DZarVFT6el9m8mGv8UfnwnI7nND53ZnrUQ4RmXZlveNZ6N0oXmfsKHuSSHhZ25tzCxc2HR53mvHQH0Abz5OP7443N1qrL9XcZo9PfNu+XbE89Nb/hx6p4VPxJeFbxv9Hthq+SP2Vf04fybH0z77TIxHffS/cMoDL0qBCbVVhvjtUbv6k4CkzbUeDk/+MEP8nYlYwoA/fQVAwaEbMHyHPT5yle+kg0aoLLlZ2uXQWNsGUTP8hQ6BxoMr21RW5XAkIEUEOQZ4re//e0MBrwdBpth56HxdgAYo2urj7H+3ve+l8ew1cq4GpOXZ0zjfOpTn8oLAnLa7uOleF6IH2CvSD1gLD8FB4gYYt7TN7/5zcwHYMKHhmfPSwEN+rxX4wFu4AjkjM1z5Fkx5MoLOm/r0XW8Q1vNvCRbqHQMCHjSgI28gIO+bNXyAOnU2DxgvOHH+MCGXGjqQ088zlNOOSXLSLf0ZhvbYgH4WQhZZNA9GuoiA1XeHP7Ij28/jQb8XWc8IOpZrD52D9rCa58az0Q9jwWitoDR9rJ7YRfDMb/U84Y3vCF7wMalb6BtK3dylC4ko7kjg8WMZ8y2jsnNu/RdoX8LB7wAULV/XYN373YleNb0JgiKtzstnjHrawHnOr+Aoy8PnpfdTG2zlh7smhG/CHHu51NteeT8DfDjyM2ksOHmtSo9uHlmoLunlnbffnz6QkT9vmD/nTbPIOuhWougqId/9uM073e/jJ/J6bPG7elO2zz7+Wm/j39qnQjgvuSAou1A25aMZTGwPATGlZcB3ACIrU6GD2DybL0zzhpPx7nioTD2vAlGEMAwymi6TmNcfTcmY17vKRnT2MAMAAEkdGwb8569jMOA4gEdxtV1jDRPE18WCc47ZoGAD8CIFto+o6UP3o1JF2gb09h4KzzzVB2jC2MIgDEG3gEJWmXb1nfX8si8G6/+PJ7o2jh0gwa+8OK7BnhcX7ZS0fEip6YvGuTXyvG+tF2DH3TxrJHTdebBcfOlDz3iiQ7QJjsZLYrQKX19Nr6XcfHumKYPfaJJ7jIuGXm39OAaY+njHtDQMgf4xxvv0zE8mD/3KPB3zzrmfvRdH3OCf/pCv5naZgNURe9XnvuZ6hdkBvluqAB1kBVaR64rQPVlT9s1ffmtz03bjR9dd2bzf+wMw9P12FL7bGsPFjFJI8LQjN5xhzje59zaPatvlQYqDQyzBvoshweJG6uTG34UYFpt9Q6SRisyQ6CB1gCz6+6Zny6KHyc/+vC2IRjx8SFG8S7iVbVKA5UGmlcDrZuD9a5Z16SuW34bpDcL+c3BckWz0kD80ktsd3b1pB9dfm/TR/1W01lpoNLA0Gtg0BGv1r4kF3Cota8IPB108kOvoWrErUoDShPOWrAs/deFd0bBh96k9qFQQHcAeUdEGff36uoc/sITQ6GDaoxKA82ugUHe8q2lztt/m7pn3x5g2ptr1ewKqvjf+jQAVK+cPi9dEa9XHLzbZldAPCFJ02+el+66aV7E7q39nFSQxh77bJMOf+Xkdc71ZawEcwjiKQE19X0EhwgSETwiUEVQi8AcAUfGEcAiOEjgks8CTTQBLaWP4JISeFJPu/6zcURoCvwRBNO3SYUQQCM4RkCNABh0y3ilv+AYvJQgJ9cIkCnNefK4njyCWjSBLloJVPK90HC9wCDnNBHEgmrwWt/QFnRj/BIUVX++/jP6xsZDfw1/dF7404ee6VTaSZHb/JXgK6lLrpGPSZ9om1Ov9Y3T39jmVYCPQCBzWoKd6vvqI+pYE81b+PGd3lxLBjpzz3inG/yat3Jf4cv9RL9lnujPZy9zLdK55MvqKxjJu3Hog3x95wIfzdIGFVB7FtwXPxb+m/hJtih831IBarPcBBWfa2vAs9Tlq7rSz66ZkQ7YfVLac/t1QWHtK57st1paOHdZuucv82MdurZR7olAqaiP7/8BQ5KkcUjvYLQZvLe85S0ZtOo5Y9D+67/+K6c5MKxHRPqDNBHGm8GUqiEFRgWlN77xjWsuLaX2GD1geswxx6wxmGs61X3QDy+S+BUL6NtUB5KCwnhK22Cw9ZOyUd8Yeak3AM24+BXdW5ooUukojLsXY68ikeo9jDu5jjrqqAyKaJGRQVdsgKyadCIpKdJ56pv0FKk96FhQSN/AR31T7ODSSy/NgCBfVgRs30YX0n80eitgaMGh7J7qR2TDhxSVj370ozn1SU6s1CdpNMCXfOZV+lABq75j9fdd4QdzDKjxp2hGiTQu/aXv0PORRx6Z741y3Dv5pBZJnTFf5lR1qmmR6kJv6OGt6IGe5bMedthhOXVICoxcU7mlyh3SO91aVAFbMupPFxYQwP+1r31tTuOp56NZPg8qoHbdfXHqmXdfeKfr3ljNopDm4JPRXdvwNgffzcNla3iKf565IF0Sv5167Iv32+yMM7TG9Orb+nqtfc/7zhhb7cs7ZMCVrAMe8i95W0BGMQPelEpFvBUpCa6TF+mzQgNyCl0r15JHqOKOHEU5gwyzUoAMn/OqKaGjUIKqQ4yhXE45pD7LeUWXQQXUZ599ds5lnBk5qgwsGo4zqooLKK4ghxNPvBh1fIEZfsnmRSaGmUwAAMjiR94k8CKj6xhtubJkcEyBdeCirKB0DP2NA3QtPvCirrB5YODRALLAS34moLAIOfPMM3PKj7xKffSXAsTL46nRSdHpu971rgw+ckTJqa8qTCoDyb90DfpkBkj45zHjzeKH3ulWP6X/6JI+gBTP3NzKCZZHCuTojE7MBSCmY8BtjuQDW8hYeFkw4ZH3q1AD+aT1WKBY4LjefaB4BK/RQsRYxgeC8mUV5wCadAms5Z+iYfHlGP1bJNANT5aM9E9v9GpBRadyaI1lXt/znvfkBZLFBNmbsQ3aQ86eBfekjpt/FToYNJKbVZ/rmq3NOtwgE+eveFVtc2nA/dERzy7PvfHB9GCDlyVkcBkwBhLo2EoFMjwqCf68D94FD46345gC5gAAUPrMQ1DkwfabLT+FHRhP4Iom4FElyJYgsJwahQIYVB6ha4ALYAQMDCXwYCgZc4ACsBRAUGiClwkQ0ZePyDvV33kGWQEKRRrwzMgDZmXo5CsqVsFgK2oAjBh54wMix8huy5D3yBtqa2vLXjujD2R4rIz3tPCwpkyZkrdc6QEdRpwuAQ9+XA8MeGD4BOQWA/jjVeIRsBif90hHCkBYGDgHnHh3SvwBY2AITHmI+vAYAbxiFXYE7C7oZxHgvHq45oy+ARMPHmADRbrmQQMp1wNec0NPCjDw8twP5De/CmvQFznMiXkztr70CZiNbdHjngD8QFBf8gN0hRvMrYUKQEZT+UC6oHNzrIYxz9WizuLK+PRL/z4DcOf1Nz5+6JqcxuIJ05P7oxnboHiota72tOqq76XaowsCTweF5KDqsiNiOsD8qPinQFF75C2PaI0VYmyxxd/Qmtay+lPH6q22Uc7HMV9Hxsm6rmuuqT5smRrgLU5/+NH0mxtnpY+85uCGFZJBYtQZLs2777w3RpeBApAM9j/+4z9mkACIjB+vgicCOAAOo8ybY5DR4M2gA2wURQeOKvcARZ6cBkhsG5atRKANLEpNV0X1GW6ADfR4QIALcHv3wjPQACLAQeMZ8bpsCQNS4GGhwPMrY+nHQ/Odp60BXjzymgCdZmFAHosAoM9jNI5qSsYBIMAS3/jHj21JiwjeHT7ISRfArr7RP1noElDRnebHBuwI0CtaPEb0nScHTwyo6INflZV8t5AgC6DTz4IIKAMfni1wAjhtAVC+o0vXGh7p0HxrKhUpewiwyO28uUAXL5oFk7F4yBYwXsAYAJMd2OLLYoH+PPf9xCc+keeRNw2ALWCA6/HHH5/1AHjpxHHgiQ7+yWVsuyEWNh/84AfzvDvmPjC25tpmbIOCft33/jF13XtV7EL23ryNoojAwnT13J50y6LWANTW9PxdutJzdmxNFz5YS7OWtcYfTWt65V496cAoOAIwgemqqFpz2ZyWdPcS/bvTs3aspSvnpDQz+r96zyj0Pa4lXTOvlp4bj1N2HBs0KoRtlOneLHz0xB/5b2+cnY589lPS/rs2wI+Rr0dKK3tAxRgDJt4Bb4Unw+DzlhhCW4maY0DIdx4RIw24AAlgKT8BxpjyshhXoKsPcJkWHh5jylAzmrwohtXWMmMPJACG/rw/dGyXAj/9lf5jtHk1QBvY4xlNgS4MLCPvejJ55/Xp6/ksr1Y/fJFbCT/gaWy84YtONLwBYyADVHlIZAIQ6PHkgR4+0bPNCWB5ZcAAreIVooMv/fCjH+/Yi4cFVICF87ZfAYMyhPQBAAG7bXMgji8Axbs3pnMWKjzAAix06FrgjxavGXBb+AB+x3it00JmY9IBTxJN17kX6M/c06n5Ng5Qx3MBULTQpgP6IAugBfQ8UIsUugOIPFdjoA0k6ZzM9O1+s4DzqICMFiz6AG/8aDxmnjBvFQ0yqFZld8KCjZ7cn83YRnwh2pNhvNaxPHVc8d3UM39GLCsaC1DNyZJY8Oy7TS0pLfen+aPS83bqCdBM6ZAdu9P0paPSjKW1dOjq3+gdE+xf+tCIdPUjI9Nr9urOQDu/vSX9ad6ING5kBI6sGpEiuyHAOKXn7Qyih77Fmj61j5qYzmt/VlrcNSZyJytE35yzwEtdvGJVmjBmZDp8/94ybptjvAemL0qz7l2cSRevLb/Hfbv9zhPS056724BGhvFTGo4nwfPkKTH2nlfZegWGtkMZOM/VPJfkibqOAbf9KuCE4QUePBnAU4yeLT40PANT/BwAe6bKePKIvLvOWOgy7gw2GRhvRhJ/xgbIwJMBNg5jbWyeFi8JKAMGhp3hxh/v1rNZIAoEARCaQIIMgEnznTdIPmCoMdbFS8cXgCEvL6ps26KFF4a86AXIWGyUUoO8LOOibzEA5PFGr/RB5xYkQBX44AFAAmCykM/CwbzQC6/flrE+BXQsNMiOL9fxQHnTABRv5McD3smiv3cLAs0OAIBzH+AdD0ALnxYUnl3i1Xf0LXToCV38A0+0PKMt9w0ABoa8YPcW/bmP0BGURFY6IosxgSd5yIVncweg8Ymm+4KMmuuMSz/AG0/uF2M0Y3vSpQe77puW2n/3uZTzThuwXq9t3pGxtfu7WSndumBk+sgzutKEUS3pijm19PP7x6e377syvTACB8NuxRZwT/r6rePTzPilqAO35Z12pqdMqKXfPxBbanFuUhBb2tGaDtou6nqOSWmfSS1pm6A1lJBWlR4c+j8zxm/nbRKiUHAAAEAASURBVMalb7/n8HTgbpuhmlHcQLPuWZQevHfROqAZQ6cdd52QDsqAOvSyVyNWGqg0sPEaeHJbvp3LU+ddF6bayvgtyQbzTutVcP38Wrpl4cj02qd0prEjerdpdxobxdDHd6a7l7YEoEYR6wBenmt3rSe9eLfOtOe4rvSrGePTJ57VkQ6Lrd+HV7SmlfHctTsM3D2PtqZF4a1OntSdjprc+5NR9eNVn7csDVhlL3ysPV10y8PpqbtuE7sCLYMrYJDb54Ad8mtwCVfUKg1UGhhKDTypXcvuObel7vuuiQcyT4rMZpPXM9TL43noL+4bnZ6/U2faK7zN9nBFb1/Uk/aM1MI94/vMx0bGtnA8J41nrYKXth8d7ARo7ja+JW/v2vI7fJfW9OJdU5qzfES8S4pvTU/fvjM9sjIANj953WwiVIQbRAMeGVx+19w0e1Hvc6AGYatio9JApYEG0sCTQsLOOy9Y/dNsg7xiHyQFieK9bdHotLhzXLps3sR0xj3j08KV3enKeWPSl2+emKY/Oiq9Y//O7HnetmhEeqyzJb1ij1XhtY5K/33XxPTKPeP5zJieJHbyjsW1tN+2PekZO7SmbUfX0hVzx6dDd2lJY2KMqm35GuCUzpi/PF1/f29Qz5YvcSVhpYFKA5uqgSf8DLVnyQNpxZknRqrM3Ibe7g0HM/uQYC+/VuPf8q747b94Lj4qOnh+qp93htPPeCmfOj7yZBzT4nA+l/vE5874kFNqVp/XZyha9Qx1KLTc/xidEZH28ihF+KW3PjdtP8FWxuC1hXMeSovnRji5G61Pm7DN9mn3yfv23oB9zm1NXwXb2H4XFVrfPOMWDOS48xtqpX8JjNlQf+cFO6Hf95r18bQxNIejD377ylDPx4Z04zxdCDzaGF3X094aPj/hKN+Om36euu76Q2TKDK5hGWylw7vyqqc9JhDUDVHwsLzr4xkZoK0/5nj99xF11zo3VK2K8h0qTa87ju3/uUtWpqftsW3abxBTaGoBBjf+4bx08Y9OT3dff22aft3Va153XntlWrFsaTrw0BfEk5W1gaSeQykKUl28RMqK2uxr8ICO9BlRm86JvBRlqaCCyFrRsiI3NZGY+olmFVUryld0qpQaEZiiTKWrOOYa0Z3yG6WViI51Xf77CgNcokTRZ4xFc4oaFV0qhUa6hAhbL4Zamkp/TWQp2YCC1AuRrCJMjY2GNCBRtBrDbwz6EDkqerU0Eax4oiO0RCvTjWhdvE+LFBQ8Fh2RX2oKOvhXSEGkb1tbW04hEUEsSrW/hr5IZboS4ayfAgoim+WFok1XUmvojw7QFiErLxUvIn1FX6NFv+ai8Cb1Rh95wPiX9lJPG50iO32Yf+kx9NZfUyAEryKxAa/IbbrAo+ulNYkCVn0KD6WJPJaKRA60S4R1OV/e6Rp9xSLwYZHiHjS37kfzX9/oFl3pNPqRZ3281183XJ/X/xc6AEc9Sx9OXXeeH4vp/idlgEsb5lQ9OPbH1JM93x/N6lhza4D5WNXZnX51/aychjWY0nRFQvuqFcv7fXWuat/gUMVQASMGFtABK0Ar15BhBCLAgEFSLEAajLxQBhuAKmmnMXannXZaLmogvYRBBgLABG3AIJ+RkUVXKTq5kaoAATRG19gaA/vtb387gwCQY9C/853v5BxV5/GCPsMqv1E6B3AD8EACgEp7AUp4Nx6eGHP8qGoEVBh5OZuucZ7MSgmqXUwejS6AMAMt/1UfvH7/+9/PCwR91AZGB18KUgA4cgFa4ymUAJCBAR7whW/6N65GF+jrRxbjAwvgKQdVuo1SiwobAEog4kXHZDUndCzf1hiAFp90CUwtaJQLBLxyaY2Ht3POOSfrwrmZsfAptPFkLGDspS+94hkNDViTFdiRB98AVEENvJLB3DtvUQDs6cnCSl9lBgG5RYccU7I7ByjLvWCO5CKTtSz4zIljcn7dj5o5plff8UpfAJqs9NrI7QkhYtf9l6eehQ9EnskTuryR9VHxVmlgQA3wUm+euShdF89SXxh5qYPVGE4eaF8vFIg7N1ADVIytnEKl/eQdMt4MpFxS+X+MveM8DyXsAJd8ScZLfiGD9Y1vfCMbRWUIGTyGTJPM78WAFu+EVwq8ALE8Q4aThyTv1bj6AggGWO5hli/kkMsJVBlhDX9e+EFDrqbSiIAPCMlt1B+g8VDkm06ePDm/yMjwAgfyAR395MWqwCMnE4CVsQAOMLXoAEo8MLIz+KUPmvJs5dvyzMiINzmjxsIXQCkFMgAC71hfciptCNDQxouCE1OmTMmyAihARId0z8uzmJGPi2fN4sRnfb3UZsazxQQeeWgqVJlv+sIHXh03Ll7wWGgrgAGEzzjjjMw3muZi6tSpee4B6XHHHZfBj/4KuOunMIi5Ae4WHxZpjuPD4sxxc/3Od75zTX5t2U42J+bNYgePqjXZCeFxmkcLB82iR19z6lrAjzeLLLr95Cc/mXWAT/IC7UZum+yhKuTQdd/lsaTp/YNoZOEq3ioNDLYGQNuKVZ3pwlsfytuKg03/idJjlMpWGG+PYVT0ncFi2AAHowTkNEYVYDJiABdAuh4AMfIMKaMHcDX0GVgAV7aFGUZAZjzeRBnf2DwUwOwY8GJ8HePBli3ITHj1PyrtqO6DP8B14oknppNPPjn3ZZCVulOkoBhshhr4ADoAZ4zjjz8+X8Pzwo+tYLLhj4cFWD7ykY/kX32xPQwYLAKKTrCiUALDD9SBhYUGUAJiANK2taIFtoABI3kUIvjsZz+b9eY43hRjoB+eogYMbFObB+fxS8eAyXia/ngH6K7n7fGIgSn9W9Tw+tQ2xhu56KOAoHeAbX5ULELb3Js3RR1OOumkPKY+dGwMjedn3GOPPTaXdTRngJk3CKjdJ+bZZwsiAK7wBN3QiWvpBdgWD5reyUe/rgfGpd60czxanj+dkAsdCz4LMPcd3izWeNAWjMDe/WN+GrltMqB2z70t9cy9O2QaeNXcyEJXvFUaeDIaCF8ye6mzFjZGCg1wZHwZaqDJOAEMwFWAkvHl8QEWxpmnUJ4hAh/AaXuN0Szbk/oCQo1RZ9gYZkDEU1AOT6Ucxr0YXjSMD+QYXeMyiujgT8Ov46Xx7gDFEUcckfl3HMh56Vtk4CX5zrCqscugAzp8oef5IYDh2dCDvhqAcBz4Mebkd740/QpQ84D9FJtr0KML5303Hp3xQn0GEI7TdRkXbeO4TvUn82LLFvjz0nij5gUdBfFVCQIkZABirgMwZH/Pe96Tdx2AGY+T5+pn5ACn/vqVLVF9ABe6AN8uRKGNNzySWX/z55gFB4BHm17wTXfO69/W1pa33st9YEz9jKNGNNnseABSMqoJ/elPfzrL49m17WVeO2B1LX2Swa8PGctCSblKiw7g6d3YzhX9GA/oWgCoJe2+auS2aXu2tZ7UPevaSJWJZxINmnvayMqueNsyNAAL5iwOIzJrUWrbaXB+K5XB6akz8kVTDIygpQ01nuPpp5+eDSCDxEOZGltniqozgKXAumdVX/7yl9cYbmX2yjNCRd8BJlABcIycEoGAEKAy8GgDNs/VgDJjy2txDQP6pS99KYMBsOWdkEtfIOC5o+eDPDu0GXxeqWdutqoZS0Zfebv/+I//yP3RReMrX/lKBn3X8IIYWbx5Hgtk8ER+PClRiE8yG8czOiAIzDxT1YAOurzosn1JZww4WS0AXOM5pKYvuoJjvvjFL+bveLF1ywPETyn+79mrfngCDMCU108/FhdAzJinnnpqBjA7CRYont++733vy7oyJhpeeMCLhYQ+FjC+8+I8P7WVDfTxM2XKlHwej3RZQJxXS28AH8B5PGBbnry8PuDs3gCotsSdV6YQWNoGB4Q8aTKZS4sC15PLved6XiT+ALF5BaoWCfoATnPsF3tsYQNzcgNuc2Qc84k/OiI38HcPuT+MR49kBtxlsURPjdQ2KW2m1v5oWnnOKal7xg3x/HR0I8mx1fBSpc00xlQr9PD65z4lfe5Nz05jRvXWJX2inAHMP/3+nHTDhefGOnVtWrVYxO77rEPSkSecFMXI1j7XdzyeZtlWAyi8FgYLKAManh6j7AVQeEHOuQZgMP7Fc/Sdp2lrkmFm8Bi30spYzqPF4wHcti15LvV9GWGN8cYTeujjsRzDZzGSzosa1YfHxsj6ztDr5zx5nMc/zwcQ6IOPIoex8oIk+pFdY7zxjA75Cz/O6YMmMGXwyYEnY+GTbshIX8CfjM5ZcBjfgqHogfdlHDyTv3h+PFrXkamMY7uUTGVnAS+acdDn/RsfwOAf767RyEdu9OwIGL8vbf3sQBRduR4/6GtouU6fsquB99LMve/koB99zL9FAD2ZRyDrOxnoH78WW+4HunK9Pr7b0iWT60ojJ7r0bU7Qco25JQ/evdDAf6O2TQLUroduTO2//FiqrYgHyn3+8BtVwC2NrwpQG2NGAWrbzhPTV99xaDoo0miebFv52NK0crko0b6PUmKbLQz/xO16C70/2XGq6ysNVBrYfBrYpC3fnodvTz0rFscquvJON9+UVJSbQQMjItr3oShDePtDSwYFUMdN2iZ5Va3SQKWB5tXA45EBG5IhfkS8a3oUcqgNvO20ITLV+UoDW4oGOiPS/eq7H0neq1ZpoNJApYGNBtTueXel7ofvimenFaBWt02lgaKB22cvzp5q+f5E32vxM0bdHd39vmpR8rBqlQYqDTS+BjZ6y7fzrvPiCXiEmrdUgNr401pxOBQaUKJywdJV6U/3xo9dx/PUJ9yiLNejdy5IS++cH49T1n6GKghk3B6T0k4v3GtN0M76xhEwI0BGkEl9wMf6+jsuQERUpQhXwTICUEqwkiAVAUcCTErDj8ASQS0CSwSKCCDxXfCJwBU0BaaUIKNyrXP4k3JiHIEtJdBIUIpgFE3gjgAhQTj6C04RIGSsElTlOgExZHatsQSslGAo0a++G8t1eBb4QzfkcQ2+fdanBGMZ35jkdFzDK30aw3iCbfCHh/4aXQhKMn4JHir9SoAPXkTroiv1BD8Cg1xTmj50YD5KE/SD5xL8hBd8oiPIyHvRgWvIXfKKXYMeOehOsA9Z9Rf803e+yph9312HrvmnN7oyNp2UgCFzrdXfO+4nc4lH+impSPjqr9EJ+vU0+uvXSMc2qpZvze+eXjs1CuFHVFiVLjOs81fV8h1W9a81eNiltCJKEW47flR6xcG7P+HfSWWQlt6xIC25aU7qWLQydUR+a3mtmr8itY6OnMGn9eZDrsVA3RfgcNZZZ+WUlJmRzyf/b2MMkdJ9KgUBB+X+FFhQyIDhlevpM0OpOTZt2rScIgL8pErIIXVM4j4jy9hKD5FC0rcx/voy3lJNjKcoQFukWTCw0i6kaEitYXTxJe1CKTyGmuEtfaRsAAV9jKeiUUnZwJNjcheNBVClsqggJB1Ieom0DEUEFFxg/PFQmjEZf2Co3q7v0j4Yd4UyXGt8pRf7gioQwL9KRlJjgIboXw3vUk+kpKDpMzCzAFFmEC0LGA0o4xm/5sDYqggpOAGAtZ///Od5HKk70lTwBhTLeOZI6pDFhTHoXFEHlZ/0kdZCFi9AByA3prnXpAnRCfmMKaXF/KBhnqdGyhaeS9oRutJfzAW+6MI84Qvv9c3fg8WGsofmb2P5qqcxXJ83ClC7I7q385bfxV9U1BQN5VVt+DRQAerw6X59I6+KnyZ65TP2SJPGPu5drK9vv8fDQ13+QKSkzV6aPVQGqrz0H73T+A0CqgpHjLBiAYw9TwbA8Ox4IcCDEZV3yRgCI16FSjw8HNV5ADGAUZHI+KrZoOUFoBlmIHvkkUfm3EPGVII/EJCjqT9aqvMw0gATGABa9XIBDcCRW8ojNiYepUvIPZ0c5ecYT5V7lA2UcyhPFggAXrmtzitPSB4gIAdWfil+9XMNGV3PwCuaIIcSCClgwEi73ndVlowt71QuJQAEWMBOriZ+ALW8WTqxQGHg8e04fQMD/AJE3ieAtEiRa0pWIC6fE3ha8KBhbHmhwIR89AhgAJRxNXzihwxkNIfybIEhPQBDYPuBD3wgTYtFivnmidKnPE8LEAAMxAA1YNNfsQn6MP+Ok8ViBrgBev3xDxSdxwfe6Il8+LbI0Fwrh5lcFi8WUVJ3gCkeyGPRpb9j9Gps8+C+oEs5tCov0RPdk9nuBt26n8xtW91iJw/cwP9s1DPUnkemp9pKVU4qMG3guaxYGwYNjIxV+ENR5GHm/N7C3sPAQt5y41EBzJIfyetiEBkpRouBZaAAJpAFAIw1oGTQXKuoQ/12IVkYNFuPAJLBlvOIDoBkYAEjz0eBheKx8UIk6esL+Bhl3sqUKDpg+xKouA6PXjxBW514Z9h5kMAOOOsPKIE2o+5dzVrgDjyBqn6l3i5+GWzgA+gYeDS829qmB/KXF7BEk9cFSPDtejIw+IpdGFcjAzp4BThoGNeiAkgCFwAOFPEI6IA3bwvAKO1HdnrHh0UIYAGqQKQ0iyP5phZH+lqQKI6BLt7ojNzezbv5AZ4a4KQDwGiRQY/AHYCaD/cD750sFidkw5/5KF69/nRmYWKOfSevogzmmE7sIJgrcgF4esGHaywk3FO+kwMvFgXG0Nxj8ouNS26ADpTLAopcwNhYzdY2CKi1nihV9cg9fo6g8k6bbXYrfje7BsJmZUC7aebCzT7W+gZgOHk5tso0YMDoK1TP4DLyjB6PkaFkDAGArVxGlVFnuDW0GFu0GG2lBZX3A0aeXwLdj33sY/kzbwgQMfzKBgI5LwbdNbw+xQvwoJoRTw2QGMN1DDQvh9HX8AngeFGaZ6y2NRlfVXU0cr7pTW/KxpdB1sgFUBh6hh/IHXPMMbkCkD68HR4UT+td73pXBmBGGwDi7e1vf3v2FgE7eXlV9fooOjGW7UqgAdxUGHK9RmfA0/j0/+Y3vzkDJc/LYsR4KhXZnp0ZOwHAmncLlLUyBr3bEUDPdfjHN5mMTVbAx2OmO1v0ttuBj/miA1WU6AlNAGt+LVKUBVSS0ALAvHgeDKiBrfkyd+iioaoRrxcwOmaOyKVKkUUH+nY4nNPX+ICx/FIND55HajGEB0X+vZdmsWO7XmUoOnO/2vkA3sBUKzop1zTD+4aDklYuSd0LZrAaIWEziFTxWGlg6DXwl9lLUkd3Txo9YoNr1M3CHBBgzKz+GXnGltFixBhnnqI+jJh3Xg8jxptgKBlPW4KMIk8U0DLgPFqg4DtvVsF0BpwxBsiuYcidA4DoAUa1XQEIPoxlu5fhRr9sAfPWeJcMOS/RtigvxotnxMsDKECOTPjEG28auPsOqAAcL49Hjpa+DD7+GGv8KzkICAAWILAtDagABH7oCP+8SjIDIDoBZPqTiS55eMCb8ceLMXh5PDTAb1w8AGRz4Tpj4I/uLUx44p41A3r88OLoxTlb3wDRdjDwxb+FCD2SuYCnhQlvlZ7oELDRl2uAGL3gyzhlDHzpb96NXfrjj84stMwZOelCP1vL5skCyHf6MffuDUDtHiM3HfMwbUE7b9fCnLpv6M9jBiALLM2zhZIfFUCX7vFrgWZR40V3PGqylHtts/zhDDLRDT5D7Zl/d+q89dfxcxOenw6PsRhkmZuaXPUMtTGnb2QA6UsO3DVtN370pjMYa9XlM5ekFfEcNTeO5upXrSdKve0wLm178MBBSYw04w3weBMMs+eOwAjYMWo8CYYbSDFiPCqgxKMEKgAZODLAjCqjqy9Dy9vllTGkjC6AACqMOUMJZF7zmtdkWsbgaQIZng8vDC8MIxAAiMAFwDLkwIERdR3Q0x8Q6AMUgIprHedp2moEusWLwjv+GH60eEu8O/yTnzxoA7sCaAy4BmDoBhi43kKgPCd1HW+Q/M4BCIBGR55pouG5I7r0DoQAn/E9C3Q9b9tugK1Nc4QW3eHNvOAXkOhri5RuJq9+lky3gIVOXA+cjOVZJTq23vEBgNECuHRGH46ZQ/3pCpgCNe/mibwzw1MuYIl327Le6RhftqTNK7BEv62tLZ/Du3nEF3oF5O1IuJfIgK7PrrMw4VmTgX7MJd0JcrOYcL+6hu7NE34Fp5WIZHIXTz5PWgP/s8HSg51/+XVqv+BfIuwscuFiC6Fqw6uBqvTg8Oq/v9HDFkak7+j0xbcekl5+0OPPwvrr2++xuH7ZjMUZVNdJmwGoO0dN2GcE3erPr1/1VQcrDTSKBgbe8g1LUVsyO8C0M/6YB+7aKAJVfFQaGHINBNAtW9WZZs2PPMonAqhx/cR9t8+vIee9GrDSQKWBQdPAgHu4ta4V8fz03th+qpbGg6bxitAWpwF/HV3x/HRGRPqu6nr8dza3OEErgSoNVBoYUAMDAmrqWJl6Fj9YbfUOqMLqZKWBiKyNbdsHFy5PKzsqQK3uh0oDW6sGBtzHrbUvSbWli0I3lYe6td4gldwbqYF4PLJw2aq0rD1+oPkJBCYJJBHxKFWgbxNJKtBlMJsAmJIaMph00RLoJOhpY5sgF801m3LdxtLflH6CZQTUDEajB/PZ35wOBv1GoVECqgRADUZrZr0NqIGe2O6t5epIg6GmikalgS1XA4zm0hWdaX7U9t1rh8d/nHljJGZARMGWhPv6a5wTkSlqcyCwAUqib6VyiK5UkWZ9hlxqizQaOYbAQ6SrqFgRmCJc6xtjKcpT9KjPoi2lcYguFRXMiErZELGrWRiI1hT96t1Y+HAdnvAoMrQUNEBXCouoVZG+U6ZMWcO3lBXRs5rIWNGeomddL1VDTqyoVKkdxpGSIWJ0fXpSDhAv+ohwRZv8xrS4kM4h4ndyRNlK2RBlKnJVlG7fJhJWikqJwsWPZlEkQlUkLl6dJ7cmupWe6Rsf0nxE1q6PX9eIdsan9BFR0yJr+wK+8yJtpbWoQqUZm0zmrFSGyidW/2P+5Ik6r4msFdkrGtcxizh847FvKzKKJKcj6UcieOUik5FujGlOyUuXdEgn7k9pSaK3zV9f+iKCzSfaoqKbrQ24jOyOlJnUtSpkWnfV3GyCVvxWGticGgj7mJav6kqPPLbiCQ3DMDG0/b1KisdAhKWpAAQGXKk3BlaKCE8UbSCkSVMAalI1gDDAPvfcc9O3vvWtDJL6uhb4SGHQ0EULaCoMIT1DpSTnS2qGflIsgKz+jDLDL8WEgcQTQ+rF0KueBEwVV2CgAbPrgLCiA5rjAB7gqGLEMDPYCiLoy1jjxVjAWN1a8kkfYtQLHbSk/5DRdXSsL9ml4AAE+iu5ssZg6IE0OfXDi/QgMhsPL9JoAIRCCY55TY0Se2ecccaa9BOLJLQBPzmAHp1YpBhPQ8uCCt9o0DVQBqbGpD8gTzfk0uga+Ekpch1eLGakxphX80TPvssVNr4xCl2Abn70U+3IvKFnDDp33JzQAV7RcC/hSbnKM888My8+zJ85BajuHTnBcnXl0Vq0Oe8eUWfY+HJfpV6ZG7xp5tDY+Hevk1dxC3OGZjO1gT3UhbNTrTt+nWBk/78G0EyCVrxWGticGvDLM8vbO9PcxSuf0DAMHIPbn7fi3ECNEeal8DDlGPKyeE9ebW1t2YgzvLwGlXGAru/G4h0y4HJMfWcIJeujwQh/8pOfzN4UY8d7KF4m71HuIDCQk+gaIIU2I8zbUXEHDbVy5YMCakUlVM0BfMDC2MCLAWe0lUTEm3F5hzwzReKBOS+Kp6M0H8PO8Je8R6XrfAcSDDnZeWHvf//7s3es0AB+eUZkxKPqUejhj+zGdRx/xgWGxqQLegNUQOWEE07IFX3MibkBAPhR4hEA0KVmXoA+uXiwn/jEJ7JOADq90wlgVCYR37x4njvPEV380oFcXcCNNyBHfsXoeXDmVKUqY1gk8excB8Qc884jt3gB/ObRffLOd74ze5Tmz7y94hWvWKMzeiue82mnnbYGsF/1qldleejQboH7AcCTmfzAFCDKPS2gTqdkxLfP5vv444/Pc2BRJdcVONMJ3aowha7FhnmSa3z00UdnfTbDP+v3UKPkYG3Fo+GbDvzH3AxCVjxWGhgKDXSHAZ37aATyxftQt2JsjQsceELK9fEMAAPDxCOwdfqRj3wkAwXQADRAg/EHeLwaIAwAGF/eg21EBhRwKBfoOsBpW3BaVM5BHyipuKNerYIE6Gm8H/RKOTnAiTeAiwaAZUT1YYhPOeWUDAA8Fo1x5x0y0Bq6M2O7lvHFq8aI83j0AUS2RvHrOkDE0OsPgHjqaOLD9UAYP55Rk5MMjrsWADhnseI6W+/Gt5jQeHsMv61zXhrvF6DxwCwYNEClVKMxHdd4g8a3Lc5DBuoWEO94xzvyVq0xeeFAENAAMPR5os4BVCUE0QVyZOY545cu8MirNo4Fh7kkJ/2aMx4zfWh2JyyIzIPzANpiBNjhjf4+/vGPpxNPPDHzw1u1qCKPew54W5jgwc6HeS4eqIWSbV+g65j7DH0AqigF4HQv0Sc+Lb7cgxZPdOFesFMCrJulrRdQaysjICleVXWkZpnKxueTjS2Gtj9una9vfb/Xn2vEz7zUeQGofn1mKBtjxngxqPTL0AEsxpPhBrDlHYhpDCoAAj7AgkFmSD17YwAZWSCDHiDhlfGEeBgAhxf21re+NZ9zrPCgP9rGZHRtIfJ2AAEjz2gCCQDIyKPFO3M941uexTKi+lkAfPSjH81eDuMOMNR/BTgAzfYsOU8++eQsP95LEffiKQJ426wAyrj0hD5aeMersfGCTzx6Vvne9743bz3iw/VAGniiC/BtX/pVG8+U8V/AyBheGn2bC7LTi7EBDxDitZkDgGl+vGv0AuDsNhiHrKeeemrWNY8XLfzgGe9o4sECyjYpoCIXeS0SzInFFHkBvnHxy3MEaBYRGrmOO+64PNcWFDxzc1PGIgfQLdvTAB4desMLnt1DFhPuKYstHvdnP/vZTIenfXx4p7xSOgWi6JMdMKt2ZXGBJm8dn7xf8jZLW++Wb8+KhQGoEeFblRtslrlsKD7jbzi3+NvofY9/J8Xvho4a0ZoWRTRsfeuJvqNHhEEdPTKiZOMPKL67bpvo/9jK2ClZ/d2xQrf++kb53Bo/Dj7v0fbIRe0JWTbtMQmj15/hcMy5DTWG07MtK3rGjTdgK5EHw3jx0hhxz/d4HsCO8eJ5ABBgJaiEMXbOliSjaGxbmQy0LTjbh7xdW4GMPEBQcJ4BnBrPD40NOBhF3imABMga78XWLG8LcE2O54K8XmPozxj/67/+ax7ftqtnmzwi/Kmtiy9gCUR4z8CNLLxExpcHiiYAsG0KUAAeoMETHbiOZwioyGDL893vfnceHw9FXkADqGyPAitAxePTyIg3fYAB8DSGYvnABMjz4owPyDwPtPVq0WNHgE4E6GgA7oc//GH60pe+lPkH5ECT1w9g0UHja1/7Wl4o8Uw9r/QzejzitvDszZMx8WvxQn4eJoCzKHIPmR969xnPgMocWwSUhZNdBmDpHnD/uF/MyZe//OU8ptq7jhnPWO4FeqFbc0v39AeInSMzb/Sb3/xm1q/zFmyA1jVKV+LL+O4DC0EePVk8h7U7Ykz6bpa23tKD3Q9cm1b8/GQZ66kC1caZzmYoPWjLc0QYvb977UGpbadJ6ZQfX5feeOg+8er9+aY/3Tc/nX7p3akjPLkI5UhP3X3bdMLLnpp2nDQm/xSac3/1nL2iNu4u6dp7FqQzr74vffCVB6aLbn0oXX//wjRm5Ho3VoZ1osi9yzbj0o8//LJ4H7vRvDBCDCijAizqGwNoJa8mbN9z9f185lXwAhgy3gQAYrAYL0aK58PgA0FG3bnSgKVrNH0YXH1cY7sO4PrM+AFD/QEJELOlaAx98Mgrc60xAR0DrhVjy1DyjHmW+hTPDNjhWYANr9IYeOHFkAngMdbkxIexGX99eF8WCMDEdfSAXzIW+gw2Po3rM3715x2R18t3YOF64wIWMgB1HhlaAK14uHRJH/glOxnJhA7e8FoAih7osl4n9KKPHQKBVUC36MF3dOkLPzxk8rgnCojSFR6cN39kQd81gIgMGv2UBQC9mCO8kKf0IaM5JQ99O4d3Y6FJbufqZbRYKx5qHij+QdfYjpPNnJor9wRavuMTH5r++DcGGfFqno3Fa97QfZ+JNMg/6wXUrukXpZW/PCWlEfHHEDdy1RpDA80AqAzfq5+5R/rAEQekxyIv833fvzLtv+s2acLYkfn95U/bLf3TL24Kb25F/LG0pKMOa0uvevru6bRL7k4fetWBadodc9Nz9tkh3uek1z17r3TF9Eiz2GOb9J0L70pLlq9KCtE3YgtbGry1pF989IhYSEzYJBaBgBfd1TfGi3FmSPueq+9Xfa40UGlg+DWw3i3frmXzU1fLiDAQI1Nr/FH7lRPv/sA1/655hRHoPZpPVf9sxRpwe0w5eLd0RADk+bc8lF6w/85pVHiUN89alF54wC7p9c97Srpn7tJc+xaY6q/C0A4TxwQAPzWNjb73xvmn7jopHR7Xut8OnbxjenjJinT8y/fP5y65fU5+TtkHe4Zd6/jpiO1ez1E3FVCt1suKfdgFqRioNFBp4AlpoF9ABY5X1Fak63fZLu3YOjZtG6kz23a0p0mxJTK2ZUwa0zoqRahDvOJ5QndXGtfVkcbG1rDtOwbQ9fkFaOvA1rHS6j+XY9V782tgRIDkIW07pN23H5cmjYvnZLtMTC86YNd0/s2z018eXJy+ed4d6bgARgA6/eGVafzoUenA2PK9YcbCdMVd89L7w6vdbdux6XsXT4+t4G3SrrF1+pygt89OE9MNsd3rJ9LunfdYXPtoGtFoiLp6+uYteWKpM80/+5UElQa2bg30C6j26O9dOT9d2W5fe3SAYwCjGIvwHkaPjIiu8FrjVxPT+ADPCZ5JdHal8fGoddyoiWniiDFpUoDtxJ7uNLFzVZq0amUAblcaGcFNI+JlwEwqEHVEvGLPeb0z0PdM3+/rvbA6MWwa8BzxrGtmpAvjeechbTumnQI475u3NJ6J7pk91R0mjHU35eegH33d09OfZ0a5vdjB3Tmen3rviIUZj/bhxSuiLm5XOvnIg9NV0x9JL3jqLmnMqLhz6hZowybkBgZesCx+O3gTW63WkXpi4dpfa4mdolaPXqpWaaDSQENroH9ArXWn9o4IKAgLNyrAcU3jfXZENZe0PP7r9UJ7Ypsre6GjAjBbHwuwjOvCZI5oqaWRo3oCg8NAtgQAjxqfxodnOyHOTQiwnRAe74RV7QHKLWn8yDFpXBiNcXFuXIA5AObxooOHVvRivCikFSAcW88RBtr7X922M36awNiu0eUW/OHBBcvSjEdq6dEoxdcV8/jAgqhuE89Qn7V3b37imVfPSI9ENGygYwSJ9GTv1Ry/OLaE/xjbuZfdMS8WbhHcEh7uffGTaNfc80iuk/uK2Ea+6u5HMj3bxY3ayL1pLSIj51yc5s+7ONYL7vT61hNbwU9Pe00+rp9z9f16fyxbMIpAlhKIs3aP3oAjQTNtbb0FH+rPOy4wRTCMgJCNbQJ0BJQIQunbBAGJpBX4gq/6JvjGOLa68Y2OsS3oXSPgBt3S9BFMhI7rfBbgYlzXeUdTYI30DoEunj8L1hE8IyimPmLUOKKXBUi5VmCQd/SdM56AGbTR6a+VIBupLXgVUCOIxmfPxNEXtIWe3TuBPc7j3ctxwUroGx//AnHMA515do4HvOCzNAFUAoYEJKEnmEkfgVb0Rg7P3OkJ7RKYZjzH6MR5x/Fcr5cyhvcytqCi+nvKXNV/1xfvGn1peDSWRlY5poLJyhybJ9/r5zh3buJ/Hr9b64ToCUBd2dlbb7LucP5oEvy3ToubJcX2r2bzNwLnU0d87v3ltzAwnY/mc2v+QSIW3SNaR0YqRS2AO0qVpZjsmPDRcZOM7upM4wJoJ40YnSZGn/FBfmIcmxiTP6ErPJwRse0cAD0uAHdsjD02xh7PE1594/Jme0GXP1SB7Rq9D8EHQUOxkZFmx7PRn169LAce/eG2h3KQEaPSFQsiOZunXzI9/1Fj6f+uiKICAZKd8QzSPebz/KX/n703gY+zus7/j6QZzWjfZUm2bMkb3sArtsEGjNn3AAGSQFgCSZo0v9ImaT/t59+mSdMlaWmbNE2aQtLsewIhIewQQtg34wWDd1u2ZVuWrX0faf7P945eaTQayZIt73NBnnnf967nvnOee84959x2+8XLW931qu0HbK1Uxt3duFgAxSduqmvlzR95giatjRutZu9TGtvAn2RYv8Vuhf+cUHn7sBUCLEQZgonBsPAZjQUBLC6J+IMrCNar0QnG//Of/9wxdxg67gqxDDM6v/cdQPmu3GWuv/76PvcY7xnMniAEXgg5/A+J/OMlXFtgqMw30Y1oj37hIkPIurvvvruP2RL1B/cR8gJARM+hDEEBAATcT/BZxS2H8dMvAhjghkJEJugC4yZCkOeLC91x6/jYxz7m3HNwb+HeihUrHMjTHoADOOFzC7hFJ8CL9rDCrqysdIBCfdAOgMW1hTaZB8CPBQsuRLieUA6w4hkuNNzHpYm66K/n44kbCYsBrMDxtfUSLjPQD4AGHHGnIXoSQAf4sSCh74A0vqXbFQwDNyaAl/nFZQVwxZWIhce9997rVd33iZ/q008/7fKx6MFPlDl9Tm4vJCzPo8GQPlIndRNQhGeUIeHaRB+IDsX8MI9EwMK/mT6dKmngr7d3VN2SIFs6m8W0Do9tRZc7VA3hnpB1KCoTnokAHwlJU2KtuKYAOqx+4Nerh0mSei0gZhxQHEpZU+pDe7pSQ+tHEBCgBgHh5IBlp2ZZrj5zJNvm6n6ejqHLa2/V84i/G31C7qY64BZjq0jj+uxNrg/ehT77nwz8HpXlGH5lBPyd2Ilp5IdDAkC7BaTed/cZI2XyPFbypByJenr0vPfS3TtR/4n1sx1RPzUwpNPBEipjj9ISDVEZPpIwZ/w3YZK44MDw8S2FsRLwAB9DAi0AqIAcPpG4KcCMYZxIcAQTgLEDTjBHGD/3YYSErgOUKQ/TBCQAcXxBuSbh2wjQARDUwfWdd97pJC5C3AGWMF7+AD1Akzz0HaCh7/QJ/9N//dd/dcwXQEC64R3AB/bf//3fXXAA/EnpC76N9AG3EOoCuBk/48ZXFaaOBIbfKSCLjySxgaEBf0h2REMiLwsTfExh9IwZgGLBwH3ax2cUqQs6Pfjggw7UAE8kSuiG1AWNADxABPpzeABjYg4ID+jRn7FAIwCeIBH0GTrQFhGnADQWJARHwL8YegCgLApoB6Cnj5Rh/MwPbeE3y+IEH1JiKPMdNxSA9KKLLnL5kWoBRvpDPSTmgzEBmtQLrXgHeD/oH4sXFjwAMHlYfJBYiNA2tGQBAJ1YEHhSMgE4mHtccbgH7aE396HzqZTiAmpPuMfaJaEeq+QB8CCIUD9c0rxFAxrei23dnaaYNO6+9ywskLWkdkvu7tCfYqMKdLBOTpEEnCwRN6B9qMzUTMsGdFUoW8ZUOR2tlq193nRtEqdq/xeAJl5JQC9SQC9NUH9O5ayXBLYWqZNPNdULxAPVz/RhYH/dGMb0H0bsjXpMK05UNgYUaNfe77FMMDaYXEVFJGQgDBogwN8SB3mkCyIfIRkAdDB3AiTgtwnjg/EjycBskRhh0AQlQMrA8R+JBykQhogaEukRqQrQoA0AAgkQKRfG6sWjpQzSJIwaJovaD7AFvGG8AAx9R7okEAESDMEI6D/5ASqAlUUAfosEmCAP4wEcAAoAAcnaC97AmAjmACjB/CsrK11+fFVpn7EjecL8CYLA+AFUAAb6Ie1RJ31gwUCwDMADNTDfkTKhoyeBQU+CGiCN0hb5oAXlAT/AnecsIMjDwoP+e3UAWpwkhJqWsTNmFgiMlzlEqqTf9I9nXtB4yhNx6dvf/rYDd/qNSpgxeSpfABDacs08AK4sOgBLpEfoyiIGMGauADqkYeYfYAXwAUJozj3eDcZHGRYuzBE+uywkWIwAviTmhZNkWAQwv7wjvEPMOcElCFxBHYC8B8rH8vdyNNuKC6gARLckR4cMR7P1UdQtjBqQItexd5XFgVwEbPiXiJUee2vrbrW6Ni0U9IBnqKOdSjoYCZ+Vmiy1s8TWgOpIlZQOoKZqD5A93nRf0DIEtumSkrBsTu8Uw9IPJ00q6WByqlTPUkWpsjTRjf1fv/J5qf9b5E7sNXfj3fPKJz5PLgp0aV/4WCYYGwzXY2h8IkXBOAEPpKePf/zjLoA9z2B4MEJAlu+oMgFQmKpXBwCLpEWcXRgiEiISBQyVayQkGDpMHHUsCYkREKJtgAbQAwRg3IAq99lnAziuuuoqp/KkTcpzDdCgxmTvkX1HQBJwQQVKXTBt7hMHlvbZJ0XiJe4rzJs2AX3AnnoAduoENAFdmDwgS3miGgEYgIyXAE6kWpg8dACkUPUiJQJ80KSiosKNHzUl9AGooCHaAL7TD8aEapu+AqZIZfQTNTXPaQfJDJUvixn6wFgAYPJ5EY3oB3NLgs4AL/dYDLD4YZx8R3V61113OcDz2mOuAE8OByABYEjmgBkLIkCWufD2XVlEQFMWHLwP/NFXQJAxc/gBCyb6SJ+8P94jFg/0DeCHfl7y3kvoCC0Ad0CbfqBJQatyWgAqoITaV3Q7JVL/MHpl4f4bfeMLS6rt0l6VQktbk+46AyflC6eKWSV1ShqVpCrUc1KqviQFtLcinXNAN4LSmBCPxEm1YqapXZ2ygpZRjQyxspCGBcRZup+p+rP1YwuK38qEw7l9OAMuSeI+/ljhifaAKy+a+9QkeJ90Nk7XuZ1IJxAFQscYUBk6IAWIILkAXkiNMGovcg6MFImHP0ARQABsYHQAJEBE6DmYIIAAgAEQSKEwc5j8dkkqABESDQwXUEBioz2AinzU6e2L0g4MGuAAkNnPBDg8VSkqaNqnPG0BvoApEh6MHmkMSQiQ4RqGTd20yR4hgEB7gDggxR/jAwwZA8wd0OPYNiRr+kJbtAngoAYGROgneVkg0I63wKAv0Alpl/6h+qZugIH81IVEB8iglqZNQAdpjMUD/eWPMIeACmWhBWVQx0Jjxgog84y8lAWAWUjQN0+6BMxZWEAzpFzqpE+0SXkSY4dvUCdB79mPZaxcU5Zx0T7lWEx4NGZemRfq5F1gIcIzaERiXhkvZaE1QI10yR/0Zzy8a/SN95D20AhAHxYaSLf0jb5SF/OKupl6TrWU8nml2EF1iPE//e6DinIjlwaBwemQgFpv1cW+nVPz6h67Cy6whQDP9BfWHypnXTnJt0NGI809ndagv4NyfajR3T0qVCXZf2tyyN6VWnqNlNOv6e+llA77vS9kz6f57LXMDHs7I83eSQ/Y5kCK7UjpsT2U9adabTDNGoIZ1hpQzE2pZoBRjLUi/dCZhHJP+l2HTnwIBQT2wG0inSgUED+zPLkA3bSkYhRdCltd7StWX/dmbxnersgfRknp6RNtXNkVw/4WYZwwKIATyZO9OUCQwOeoIpHSABRAgWcwQoCRfTpAir03VIQwVdSUHL0GMwfQAC+uATIkWQCE/B6IwsSRTmHgMFMYJu0hMZKfvUEkJwylqBNmyx4aYIUkB0DBjGHgMHrqoTx9AQQYA4wYUEBqoi+Uow4AH+aPgQzACHBSHuYPYAEE9AEQgT4AF3GPkTgBLE/yhS5IaYAD/QScYfq0gURFm9CRPrE4gH7QgTYBfMYFHUmM2wNp5gIpEjU3dERrQD76jRqYegBI+o2WARU7AIRUDC3Z/0UCRKXP+AEs4jPTDxZAAC0GYfSFPgOGjB1gRwpk0cD8MCeAHuOHngAo7wN1QxskWN4hVOzQhvvc8+aP+UVaBSChCwnaQhvq570DjMnHvNIW/WdBw/xCV+hXUVHh6MF7x2IPrQGLj1MlxQ092NBeb3/14G1ybdguhh3ZsD5VBnw8x9EPfZI+9RLCMiPSJ5+SRAXkKVIfB1Aji+5e4AxnbKWXN+hTsATt85b6ptl3d15qVa2pzj3peI4p0fZACmBYNbk4yx769MqBD4a9CtvB/S9Y/YFXtHaK/b3pZJGMKVYy/jo9Oz0Wt8OSKvEwQYETmAJx91BRK6Ykx/6wT+BRnCRd61fXRqThQexR6IrqGTeJZkFsn+pZ4wv7VDqpxcpa0q0wdbqVFWXYzqrRuWecJGQ66bsZY7w8gvEkWX7RcssvXKY5jpedm3EfxMucuJegQIICx4kCg3g6/UDNm4I/XL9IdZy6d/o1K6h1qudkNwdElpK61/2ZlTal2bKdky2vrdjmTsAZW6EuEnN0wr0kPl/cn9Uh+smCiXLx/hJgegjiJR4nKHBCUCDuL5+fry+ZUAuJdCJQoAfr426/Xbgx19LrZeRB8PVkjnMKals3MUsnwhxF90Ga+0RKUCBBgdOQAvFVvlop+7SXlxBRj/8bEZbRUWpXql20IcvK60vtvcnlVtDWbB21ARuf32RVCi4flptOQiN4/OfK60GaP+7Pyns86JMl0a6Wdqtu6xg0jTzL0xxPy04f9GxQRSO8gfFKdISbERYbcTaMVTCwwciPhL0Af9yLTcM9i817PK4xrIFW3liORx9G0ya0x0r4eCTmknSy0Opo0CjuLx+1o19B8RPp+FIAMA12B+z897Js/pawba2ca+2yJs5IS1ec3LBNKqu2NTkzram2SS/x8e1rovV+CmSlje63Ax96du9Be2THPudK1V8Ttr5hO6sgx/76zErFtR56kgFJXC2w7sTKFEveWMYGs8VRH6tOrGextsXlAotZrESx6MVVhIT1JlagBGLAahRrTCxhaQOrWuqmDtxosNLEDQSXCnwjKYNVL+VJWHRixYuFa2zCChRrZHxMsezFGhXXH6yIY60/6T9Wt1gjY/VL21jHHm7CqhjAxLKWT/qB5S8uRwSIwAoXK1esarFIxZIV9xesekeScIPBMhdaYAGLtS8+uYwLFyIsg7H2Ze5IWP9ifevRGFoyTs+dB5pjQYslLXUQGIN+Qi/mjaAa1Il1bizthusvLi0EkGBeeRfoB+8CbjF8Z+69xRD0wFoZ2nv3vLqhH6BKHSTqhYa8FyRcgojihBUxVspYWJOXcVEO+kJn7p+safCSUSNh/y7olzoxofQ9bvPKWo+jCZZuybH5mxQHNLPM6vLOUExkBRSXFXBAx+oV++W3ViD74NFbwRy3cZ0ODaf5Ry8hdMidoa0rNPivU/dC2IMPn3B3wFUBho87BcESACjcJGDYuFcAdLiGwIBhlgAezBGnfdwavLBzMH/cLWDsMEncZQgeAEDAqAFkfBfxdYQR0s43v/lNF8qQXgJ6AAl9oAzP6RPuJvgmepIMgE79MHPuEwqRhFsGIEJACkCIevBh5DtBGQBy8lCWfnt5aIvk3QMgSNCA/tIPL+H+QShCz5UEYKNOAAmXEcCW/uDWggsMrj9f/epXHf2oA5rQrhcQnk8WFdQL8HP9rW99y8UKxo+VRPsAIi4wjANAgp4sagBa2sO9hrYBGcI6Ug95WDgwh7jTsAgh0tUDDzzg2qNu5hWgov8sDqA1c+slgJDFArQgUQf9p2+8FwRZYExEo4LWtEtfAWnmk0T/v/KVr7i+0wb1e2PmOe8gc8l8EfCBMSDdMz76w3tGe8QcRoqGBoyVBJhCX94bEmDsvS/uxknyT1wJlYD1GYFsdDUnyTBOvW6GBZKz9ubago1dAtZkqy1ZqvjKXZae1KBjzKZbh17W5IZq/dgn265guoV6mcmpR4mTb0RZ8jMebUL2dP7PmtfYNJL1EkwPyYrA7IAljAmpEEkCpoZUB1PlGcwOv00YJOUADJi7Jyl5Ug9RfPBJReL94he/6BgtEgZMmXL4ZsJYAVakPE+6hRkSEYd8RPRByoL5EmCBdv7mb/7GgcM3vvEN1ybt0y8A484773SSjMfEYej0F/9UQB7AoE7AlvyAAiH9aBMplz/CLQLWBIog+AQgBDPHv5OoShUVFS5CEX6X0Ia6AEwAhMQ9aIe0j8QEnQAK6EJC4iKmL5I3Uvutt97q6IE0Rj+IfbtixQrnH8pCwwMxJEf6hXQGUAOU+HZSH4BOyETGzZxR/vOf/7zznSWcIAntAmNCaiSWMGNnccIf46NtAAt60AYLpttuu83VSXxiFiJEn0JSZC4YN5oA3hXmFX/Y++67z9WBbyuJYCG8N/i/AoAsxphDQJfFCIsa3hsCWwD6XAOE0I1g/oyZBQYgi9aDtqAvvr4sPqA7CzQAlfeMvLxTxHTGTxr6MmeM+2RIcSVUXGYy/VkJCfU4zSD+qLP25drFqxQmTj+25oIZVp0+R2cF1FpnS51OctHx7qFU665vs4mFLZaZpzNrE2uf4zRbg5stUGCHY5lgqEhlMGgSq3+YFEHUYUwwW5z8YdQwTpgxeWBy/CFJwAwBT5gckg+qV+qEoVEXeTxg8MIDwiyRNgA2VMYwc6RCGCZh9jjBBGbMfZ4DEDj5wzyRWAlr+Od//ucO6GDQnsQG2MDsYd4sEiorK11/AEDaAsxgxPQPMCZQAwwcaYcYuzBtgAJABBgZPwEPAFTaRQoD4CsErHzSR2iIJAUgEAieRQB13H777S4/IATgMhby0AbqSkAM6RKG76likdSgF/2P3c8EhKExNKVNEgsXxoFqGXUy4M2pQEiyXh76CMAAutAJcPTqoC3uA4JoKOgPalrAibqZI1TMzCWSP+EoCcrxpS99yQWOQLJHK8H4ac+T9JHYGR+gD80YO6DHHCDhArLMJ/NNm5TjHfuHf/gHJ+Vvl1aABD14L1gYsOiivyTmA6mZsJD02wtggSqb948+eyDt0cEVPIH/ibuURuWbHcztm8wTuP+nXNd6JI5U1GbaRav0wjW2Wig92/YWLLFOBfsPJNfKT5UQiCmKnKTQhSGf5YSqrGDCFKvf47xWTzl6nIwDKs1JO6bdhkHB7D0VJ4wNZgWDgiHBjJDuYHz8kZ99UQCR58+JcfIdyYp8999/vwMagA3JESCjDAyXupGmkBhpA0YMo4YJorbljzaQjniOtAEQUxbQ4Blt8+kBDv3jOQkGDpAAFuzjcR/GSpuAIn1B+kIdzfgASMrPnTvXMW7UlrSLNEle6MJzAJ08fAdEAWwAmLYACPpGPGHKA2b0mz6ySAG8AG/AkGvK0wZjBMgBTRYuACxRmihHIi/PvIUO8wPQ8RygQ7IDYABnJDZojPTNHiKLDsrynT4DiuyvAvQk6vAWIFzTBn/kZU7JRzhJpF8WQNACMGS+AFU+oR8LGcZO3+gLc8UzVMgAOwsKxs+7wLwBjoApEaugnxcFiXYpC73Jz3fq5hPJHemUeplzxs192qNtaAndoS/zQt8ZA/Rl/NR5sqS4gErnM4LZziDiZBnIqdBPYaaVH8iwy1brDNimNsNdpiF3htWmTtSPTSEHG3eZL6SzZWXD4O/yWUuPz4o7d+tl71Bouiyr3tmgH2Fk9Xcq0ONkHUNJbsaou46sIp40yGoh3r14lSOlcRoKwAYIIYEAjEg9MCtUsAAfCVBELQpIIHWgJgUkOKoNJg5TQ6KFyXKaCRINYEF5QA7QRXIEAAiNhyQEyCEdIqlRL/VTFwwXhohUhuRCX1AFIhnTX0CA/sI4UWUiNdE+Qd3ZE0QqQ7UJwHEfyRTphZB+SJCoc7mHShsQRvqmLaRS6kZSRioHgOk/QIvaEwCA0VM/kjnMHRU07WAMhMQE44fZozYFAL6rY9ygHRIbfWLfkeTlpw0AGkmVhQV7oAAPwehvueUWdw2dUWFDT/oHaDFuwI6EVM0iAfoA8IALeZBQv/CFL7g80IE9baRC+uUtePgOXShDHcwTkiuqeW/vHAkYSRFVNKpZFhmoejnHFRDnOfPK/DEvjIE5RZsAzRgzQMmYAVeuGSs0Zjzsx9JXylKOxQLzwfhJbA3Ql8997nOO1mgokP7pOycO8a7Q5+2SbpkfgBVanSwpbuhBOv/cxkfs3574tIyTju1q+2SDvpmbAABAAElEQVQh3Fj3s1vgWdicYdetyrKSvc06JUf2nTIM2zb1VqsOzrCAr072SL8yX2ePLau8xbr0Y/lj99M2e9YaezLnI7Zlz3irXq3jkBJ4OtZTM6r6esR0fvUXF9mU4swRl+sRkP5k+x57rKpmsJWvns0uyLbPzp40rJUvjcHY2KMDTGFMMG+YLcAAE4bJwbiQTMjL3iCSR0VFhWOWMD6kDyQbJDoYKFIDAIl6j/LUA8MFcKITQARY0i4gjWRLuzBVElIghi70BwAhP6DhqS+RXGgHYERqoQ9cbxdjBRjoJ/32ygDA3EeiBRhg5jBmpCPAkbi9gCH56C/jIC8SJXlIXAOQAC0gQdskxkpCuvMWIVwzdujHPdrwJFba4D7lGT9jAQgAV9pGmmTcLFCgMf1GjU0e7vEc6Y3ENfVSB32lPPegJfdIfKdu2oR+3hyTlzEjSTJ+nvEuQBtv/NAe+jL3zId3DZBTDimY/jB/LJRoizp5H0jQjHmGhiwMvL4ybtpnnukvCxfukRfaejSnDt4P6MB+uFcv92mfPtMec0/dvIPQl7k/GdKQgPpW1Yv2j49+UmMgymyCSx/NyeyRe0x2V4Zd83aWTdrRYt06UT0p3GMtBTNtffkt1m6ZOkR9s7Xvf9jyMifa2WVXWSjFb39IedlmTXvL3i04z15qvsBq3q6xpsZ292Ifzf4m6o5PAf32DYOkn/3ZhVaaO/KFqIrZvnYdrNDWpbkbWDfPcmQ1PDFD+5gDHyWuEhRIUOAEo8CQKt/cjCLLSSu0uhb5xslIKZGODgXwNc0KZdjFa7Xvs0OSqcDURWlI0Sqx7DyBabqMkHQua3ifNWl1mDkux3w6kaZHomhKcoY1t0hdlvWaJQVXWmZhmjU3dhydjiZqPSQFkE6LtX8a8I3u9wJQlgS1Z6S/REpQIEGBk5cCca18GU5uWr5lp7Ghf2gfuJN3+Me350imqT0BO29d0M7YpsN5dQ2YJnV3WWvpPKtJrZCCQAce97RbZ/M2PUoRs86QewUGCfipplpjs99ywget3L/PknKDlqqj4BLp+FAAQC3KSrNU35A/q+PTsUSrCQokKHBMKDDkLz8nKMsu/fWIoSfS2FOAvU6fjIqWbMq0udtCfQsXVL3hYJZVFSyzDj1HeklNabTWhhoFcFBISB3fxpF6nNfqlzV2d7jQ0rubraLjj5aal2mZ+Zjjj31/EzUemgIc3TY+L82CqYlFzaGplciRoMCpR4EhARU1L4Dq1I+n3riP64hcBKpwss3bkWNLNgpAZbnrGRMpCJc1Fcy2+mS5KvSwmJHEGqrWRwQlU+Qyw542R6AHFEmptS1Dm/5JVmxVFkxps2BBulTBhPI6rkM8LRt3qts8qehHEonhtKRQYtAJCpzaFBgSUBl2SW6FJKLEvs5YvgIOTCVpLtqVbyvWywm/o9OIihRJYQsFc6wmd551hZFOw9ovlbtMy26pfbt1rYRvjcBSRsFS+CZbvUKvtndlWm7PdssK7zW/JKRAurbGE4jaS9Nj8wG50wM+G5c9cmOkY9OzRCsJCiQocKwoMCygVhaeIXWjHMPh4Ik0JhQIC0xn1xTY8tXd5m9t65NMqVwm19aUPc0Opk1y33U+h6VYg4KR6g8RFhNQhFapFpFRfSGpfHuA3RILhFtsXJKc6tOSLS0v4EB3TDqcqGREFGD/NDPot5Kc4IjyJzIlKJCgwKlHgWEBtTx3sqXKFzKBp2Mz8cI+m3gwy5a/3WPBtnYFbtANL4khdweyrLZoofZOCSEn0BSAdnco3GB7o67COgEoaEHlYXmTLFuxlM5k972xJVcHkYesNLRaWNtpBeXZFkgjaopXeeLzaFMAf7nMoM8KsxOAerRpnag/QYETlQLDAmqW1I956Tj0JjjzkU4ggRvyW9PtgrU+y2/oGAimqjw5HLLm/Bl2MDBR5I5YVicrOlJKkk6q0JFtJL8voGgwcgB306H4qz6/c4Tef0DqYR1oUGzVlmUKH5bhs+yCBGN3RDuG/xRmBeVqFomnewybTTSVoECCAicIBYYFVKIkleVNltSTcJ05kvnqFpULZDx09dsZVl7T0eseE1Wj6Nujxcve4nOtPZzq9k4xRrJwl9xldASX3GhIPp+ObUtN17fIAicgQPUpvFtHp5z+k0vlPrPLCnqqrEvTlVEq95poCdjVkPjnaFGACC+TijIVsnNI1+6j1XSi3gQFEhQ4QSgwPKBKxTg+Z9IJ0tWTsxv4mua0B+2qNdk2obp1MJhqWOyCNhbMsgP+CfJBjRw2zGh9KS1u/9Rbz6TI/9SfrP3R3uRT8AcOMgh1+62lLVdWv202PoVwZwpJlilJuDhN4ckS2gWPXkfzkxDKE/J1YscogzoczT4l6k5QIEGBY0uBYQEVZj1BEmrAn6H9uKMjpSL9xkrA7EdxL9YYivvAT5L8MCP9UQ7lS5aLT+RZ5PrYknDo1gDT9K6gXbReYLqTkIJxwE1j6k7Ls+px51tIB0z3h57TcVldddbdpdipkn5IuMpgpuTV4k/SaRaaI23H2r4aSavaWC0LrVFUJe3PirGn5gUl1Wqf1SswdFcTT46AAtAXC99JBaMPin8EzSaKJiiQoMAJRoFhAZW+jpfrTJYL8DD2gAowTsifYpefdZt8JyOqsu4eBWOW+vOSOR+SunlqL3BKySmuVSpwv+Ks2+36BR+z2ROWCUj9tmjypfa+BR+3GWWLVYfOdJx+nRVlT5D1a7+kdzxo7oyIwgE7Z0uOnbFdADdEgIwkgWx94XyrC+uQ5z6oFHjqvi+p1ro6CSWIDKt/mQIsm3oT4R0I8NDdrTMMOzMFvEHTUc1WmCwgFjIHcqUidnt6CUT1aHY0PpnrvMyATS7OPhrVJ+pMUCBBgZOEAocE1OKsEstTXF+YxlgmJMsshTe8aObNdvP8e5zqkntEArr2rDvsQ4s+bmW5lX2SaoqCwa+ceb2NyxpvB1tq7NJZN9q0kgW2YtpV7oSO5VMvF8ieY0sqVlhrB2eDHr8ErQD3xQrcMH+DxEfUuP042N8xgWx3IMf2Z82SN0zsVEhy71BAh6iCSKgW6p8HnzZnk11EiLB1KR5wZyjd0sP7rVBBHsIKAJGsQO3pAlVcbBLpKFJAU1Kam67FYcIH9ShSOVF1ggInPAViufigDmekZlmp9lFR/3rGMIMyHcaNJNXX0FpjL21+zOraal39yZJS3zf/bsVDLbPVuxXwvRc7gINuBTZo79QxUvKNLc+XoZSukUIps6deQQ0ETOcLXN/a+ZKzTM5JLzyMXo1NkbBU0Eu3ZNt5qzrMJzWuFwUptnZo0JQ/yxqCOjRYiwkvhVUgPdhibY2R45+4HzmaKcepeJkHaJKiIA/J/KVoD7YR1a9C3slaeHLKTktP7jSMoTKLFTkpEVvWI+1R+eQ1nVOuPWydCpNICQokKHD6UuCQgOqXZDgxf5qTuMZ6Ly7U02UNbQcsJGDs6u606ZI4kTS3HtggNXOOVRROd76XHSFJeUqA6n5ZvRZmjJMk63cn4by+/VmbWbrQanQfgD1z/CK7demf2U2LPim/wLw+lfGxmuIeqVpn7sqys9crspEk06HAFFDsTs22mrx51umiIkX3UNMS2i6MxV2mX7pEFQ4IeymlR7F9e08CCoVStMjIlUY4YBM6X7JsO6BrqX3zUi0jW8E5+gVbr/jp86k5SdL7Ek3LsRo8ZCXU47yJ+WNVZaKeBAUSFDhJKdDPnYcZwBnFZ8m/rkAQ0C9FDZN9xI9SZFRDvQFfmuVmFFu9wPXx9b+Q6lLHlKXm6H66Vv3pds7UK2y8QH1q8SxbvetV+/Xq71tBZokVSpJ9fN2P7UevfU1l2m1d9euWLon61e3PqVyaDEWy1edjhyRIhNP3ZdvF63QqTHtX9HbnIJoQBL9x3Dw7EFRUpKj9XqRTvz9srXVb5S7j7QNHxhBU0HwMsEjcIUi+X64zGDL1KDZwe0eO7uteT71VpGxz+br0LK9ch/OepojqgmO0NVnjptckvGs/upd+jjhj8E+ou8fKCzNsWlli/3QMyJmoIkGBk5oCIwLUqUUzHHhFLGnHZrzUBSCexx6opLDr5n3EOrta7bE1P7An3/mJvS3V7ZpdLztAvGjG9QLePHtuwyO2cNJyu27u7fbmjudt54GNciPxW356vk74SLdVurdGgLts8kVSA++w+pb9AyS6sel5/FpCUrtWNuXapesCltXULsl0GCAXmIbTcqw6b7GFPMzsq5ZzTrUHrHCD0RjIPigLD7eP2ps3WUjaB6ha69Q1+FQGiTbZyrtekfSaLKBVhKVc9Sk7cFq60LiFRyDN2mt32u7nfmDdrfWSVsfOV7Qr1CMNSY729hP7p32vcOJLggKnKQUUPjaabQ9Nhe+/8jV7aNX9vXupQ+c7nCcwfcAhkiIyJb3iDhKG+y6A6unpUSjENAGO39o6Gp07iWdw44ahAhg2Bf2ZTmKNyHGH06PRlQHDxrVn27WrMq1gZ5314JQ4TCIqUu3099mGrOWyV5KrTFTeJPmapnRvEwD81np0Co0TP3ul7HNn3WKlqVNl1dulMkkWSum2t1I22ZamnVIPJ1lpUb3NPuNNfW+y+pRye8T3GavpzFJEpSRr3txoe7cKTE7HYA+8W3qf9r/5iLXu3WKly26xQMF4HTU7aDUTNROH/gpYM3efuWqO3bps8qELJHIkKJCgwClNgRFJqFDgnMkrtW/JyTOwkbFN/WBKvUCF5DAxQcDU3XEfuid1Xai7Q6erNLvv5PMSeSPlFDko1KrbY99Pr63oT8C0oCXDLnordURgmiTL3k5J5ruDMwSmEeOi6PqSk7slWdZEoiP1jj8yEo2Ok2b6EqHztYfq5HuoppNqumXp24WklGQZ3bU2rvsdnWTj1x51j2UU6ZzO9NM0vq9bM4Zt3JLrLX/Ohbb799+VCvj1iH9vL437yDqKLwTNKNFxbUumFo2iVCJrggIJCpyqFBgxoE7Iq5TjukBAhkHHN0WAc7g+kONYJFxC0zoDdoHUvOXVbYeUTF2ftO9ZlzvHmpPzdBm7Jy1Y7Gm3zhbcZQYuCNyCIaQGe2/zwTh9MmjyUlNLirW26lrZ/NahM2h26lOGTUL9cHqKZSrQw+mckPhzJi+wsgtus4PrnrOa13/ryOEFzjgc2swpz7PyRECHwyFdokyCAqccBUYMqGkyDjpPFrjyjhRPH8jsTzmqjHBABFa4/N1sm74La9wR0ETq6E5ZKO/Pm2vdAjmkytjk97VI1cv+af+iAHU2qm6C46PS9hI+qFj6JlGXsnfJAqm7J1/f6Vm3JNRNlpGkYPm6UpQISysMSv17OkdO0raB1OXBwnIrv+KT1t3eYrueesBCMlo6HGMln1T7S6cUaW97xD8jb+oSnwkKJChwClJgVJxgRsl8BXko0V7m8ZZSj+9MRAyOUuzyTeNs5tbOSPCJfvwbsnNImQ34nfqKBKb9wNhfIHJcW49U2gM0kQLUQEAWz/qL3vLG7smH1NqXkq2jS5a+Alhqz9FJNfmKmkRCPRmQcVIw6+io7V0jJ8k/YanAU0TLkmU3y62o1HY9+YB1HKy2ZB0+MNLULXqW5mYoQlfCunekNEvkS1DgVKfAqAB1fO4k+aROF8M+1cky9PgYenLYb0t35Nmc9W0yEJJ0Go1pQxXV3mkomGs1+fMlRcYvwP6pae8z1BUJN+hVhUbAr3Np+RsgCQOoMmLipBMScfAbGlIFntSfbMFwvRV2b9G3yISF/dpbzdfJNCPqsKvylP0nzKJQq5bis6+1vFnnWbUsgBu3vmVJckMaWQrbWRNz5SudObLsiVwJCiQocMpTYFSAmpGaabPKFinguoxb4qgrT3lqaYCoU+ftzLXF78g6t6tT25PxwTGWFoBaY+Ecq08uloo2noSvehTU3rprYovqvuL6KiQjRmHREiowGZQa2KdoUcxHWIja0sZpNJmR2VE7FcnbLTWpQ9eSWtVEmk6gSQ16hwkMbuq0uiO6Aqy505fK8vcmq139lNW89hsHtFqlDEkKrNKDfp+dO32cC4o/ZMbEgwQFEhQ4rSgwNNeIQwZUlnNKF1huuqwaI0JPnFyn7q1u7ZlN359ty9eFLK0VMB3hWLXv2ZVdZntLV0iijafqpR4ZGCU3yyDpwKBKITVHt6XIpndAEmPHD9WTUJmUnu6gs/YluL4Um9pHXWuZqpeE2teX5beMXEm6Q3VjQAOnxwX7qmklU23CxfdYZ/1eq37+R9pfbZUVcAy9e8mBJqBM1r3zJmFYlkgJCiQokKBAhAKjAlSKVCocYEXBTLHu0wtRZftj5Q1ZdvGaFMto0b7pKCiHFenBorOttiNT6tf4SIYEmWL7I1LqINLqqcTLpDiN+gHa3nCECMvtHT5Z+ip6kpsfBX4It9lkX7Va5Vwas07tH+bp8HGffxQDiLwrp/S/YYGqPyPHyi683QFp9XPfs66mA/GDQGh+zhKYEhA/kRIUSFAgQQGPAqPmqpkK7bek8iKngjxdQBVVaWldpl35hkIlHtQh4aOgGurdjqwJVp0xR4AWH0yddJrSYx3NO7V/KrVvjBrZuczIBzWsY9ocKvbOHvR3gCqwJEUAVfV0ZctoNbIXmKIgEhO7XnR+uy4TUmpBwLnQSMBNpCgKYKyEVFp2/ocsq3K+VT11vzXvWBsB1d45gWaZQZ9dM7/cxfCNKp74mqBAggKnOQVGAQ39lFpQfo5NLJgu9eWRRZrpr/HE/dadHLb8ljS7bG2aFR7ssNCoKCbIE4M+WDDPWpOze6XGwWPFKteX0ipjpzrt6Q3WIycpoEWa4vhKZzuosE8xfCOyZ+8jHZra2SVL7HDEgAnQLQjvtgLOSFVeUqdQIbskoxeGe8slPiIUEG3C3d2WN2O5AkG8z2reeMQOrH5aixVck6Rf0BzMryyweRWJYPiJVyZBgQQFBlIg/ibRwDyDrgoyi+18BazfsOdN7epRxWAQGFToJLzRo33I7M40u3xDrpXua9Sh3aMT6RTXUdJpWd95p3KKiUuFZIUDDLUftM6mfZKQYo8AwyBJknHOOMfMoytgD9fXJUCNEpmTtQCoqU2zcYXJ8l3F8lcBHbr3WGnyBqtJPkcqZQyUVGdOquUo0MPBg22SXk/N+Yum1ei+A6qdljlhhgVyPm77Xv6lVf+h2sadc5OlBoJ20+IKFyd5dHUeZu4ov+ND1cAe+eje0GFq1AKif29+YD4M45Dmh0uUJR8LEZdf36MT973EdxYq8crwjPs8jzbI8/JSB/ejr702vXrJw3MS9Xh1Uo5rL3HfKxvdVuxzrw7ue2147UeXS0mJ/Ja7tUCLTuT16vC+Uy66fa8fXv3eM6+/sdfR9XvfvTq8vnHfuxfdT+57ebzn3POSd49P2o+X13vmleGTe/HuR+fx6vLGz3X0GL3v8cp4bQyVh+fRz6ib/sTOh1cPn6RD9dmb10jugf8eFqDyUzi7YoX9VoHsa5uqpfqKBYGBjZyMV4BVugx8Lnkvzyq2NQkK+eH1M4ERjUkTWF9wpjX5JM0MjoLfVwUGREF/jbUS11ehAmMTIRfTg/J3ROUbk9x5qL2SJ4/AxoZGMbywJFrDGEkvdbjTSpN22oakhdalgQH0SQEBrvxSk+siR+NRNpEGUgBJ1Z+Zp33VO63mlQdt66PftJs+9mlbOLVkYMajdHXZFVfanoZOS0mJgMFQzfBWpIhRYChF4I6xSJ3tbdZQy+ESMe+83p1gZpZl5g5tkAVzPHjwoKWnp1tbW5v75LtXF8+bm2WA19lpqampLk9OTo4rk5mZKdevBsvLy3PlGhsb7cCBA1ZSUiK3Mb+Cl3Q5hl5XV2dpaZEDCaibMtQFs2ttbXXfqb+goMDl37t3ryNLcXGxUba+vt61kZub6xhsqPf3SVv5+flGPzxm7PWbehlPVlaWa8Pn8+kc4kaXnzqLiorkAcEBFWFrb2832uS6rKzMjd0DC9qgjpaWFjfmcePGWUZGhjU1NfXRi3ays7PdNX2kbcbotUFZ2uDaAwCvfj4BDfoEbegj9CXV1tYa9XGf8UFPylN3IBBwcwJdPXrQf9rhkz7R3v79+1199IFxMF7oWVhY6OhP+8wD9KcP0JPytBfdR8rxnHmjP9RH3cwR5amT7/SPvF5ZxkC79L2jo8P1ieckL29NTY17Xxgrz2ifcrx3vEuM1UuU4T75oBt/lBsq7d692x588EE3r7F5DgtQqaQsp9wWVVxoT6z7UWydJ/01YJranWrLNygK0qZeMI1lLIccpWLrphdbTe48RT7S2ajD5u+Sde8OvQ2DFya8JrjqBOWyFG7VVUxFREtKS9XL0TawgVD3OAvYHnczrPJFXestPeVCazBeFAGu+G5agXxbd8PY1L+YegfWdvpe4VaD1mDc8lvMv+YZq3r6O7ZxeYktXDD/KBNFmoYmHY5wwb2HtCaHEfRIHf3/PrTILp0zNmC/dfVb9qN//P9kvDZwgQdTXHjZVXb5XZ8YcvwAxg9/+EO78cYb7dVXX3XABQOEscKst2/f7hgnjGzWrFn25JNP2sqVK+073/mOffzjH7ef//zndt5559n8+fPte9/7nr3++uv26U9/2mbMmOFAh/q//e1v2+233+4YYzAYtJ/+9Kd29tlnO8YIMFGWe3/9139tMMD//d//df34y7/8S1uzZo1985vftCVLltidd97pGD8MdceOHa7Mvffe6/pHP2HolZWV9tZbb9m2bdsc0Hzyk5+0nTt3OtD9j//4D7vrrrvsBz/4gZ155plufBdccIFj7A888IAr89///d+OWb/88ssOZBkPdQAmX/3qV+2WW26xSy+91P7v//7PgcA555xj3/3ud+3cc8+1P/7xj3bVVVfZnj177O2337YPfehDNnv2bHvuuefsoYcecnQDyMi7atUqVz8AfdZZZ9m7775rkyZNsv/5n/8xr0+//OUv7brrrrOFCxcadAO0AFPaZg4Y5w033OD6zRgBVuZs8eLF9q1vfcs+/OEP289+9jM3T48//rijMwuHV155xT7wgQ/Y5MmTHXjR7+rqalu/fr198YtftA0bNtjWrVsd+C1YsMDd37Rpk61evdr1Z+7cuW48ABX0B9To08c+9jEHpIAh/WBe77//fjfXLBSYI/oETXk3eZ9YPHz5y19283HJJZc4oGeBBx3o09/+7d+6d5E+s1ChDIBOm9TH+8GcsoCLl3hnaJuFUmw6ouXsyjOutfzM8S5SUGzFJ/N1So/PlmzKtHnvSXrTJB1O4rzT/eUrrFEAFrG4jV+LZEWd3dpsHXKXgcEMSsLQZDHL1OSgU9UOeq4bgVT2Swemmtp+C1TC6OfIgrgoObJKJ2c3qza50KRL9ZtIh6KAVq5iLEsvv9E++tGP2lfu+1f78Y9/fKhCR/ycFTn+y4f643CjLtkz/Pr17daqxdFYJJiTW2XxTsb86dVBzzpkMzA/ysPYkWiQFkiAI0wZJg0j59mECROcNLJr1y6XBwCAwW3evNkBqwcOMD6kDCRXGCHgNXPmTMfAX3rpJcesAT9AjzqnTZvmGOTzzz/vwB2Q8iQ+mPeiRYscyNEoEhJgv3btWgcqSD6/+c1vnNTIc0AIRgtwMScwWoADwEKSol4WNdSzceNGA2i4d8UVVzhGTR2vvfaaAyLqoDz0AfSWLl3aJw1Sft++fa4tGD9MG0kKIKFevrP4oH5PUufZr3/9a2OcfLJ4ePTRRx09qB86QzvaXbdunQNRPn/1q185yZNxM47x48cbQEe/AMGqqionPSNlAub0i+9btmxxeZHyysvL3dwC5IyJdp944gl7+umn3R9tAtoALiDMmOgjbfMJiCGZ0+bDDz/s5pdFE5Iw44OGLMRol/eBBdJ7771nZ5xxhpsT2uE75Vlk/eEPf3CgzHjoL9IuCy/6x++VhQjzxvsHHZ955hm3iPrRj37kQJgxMVb6xDwPleDTcXm1Cgxdaqjaou5XFEyzBRPP63sxox6dpF/x3UyyuVVZtnSj1BM6+BtpdbQpqafL2sfN0Ykys9xkD19eewbtcmvRKTqDxM/egmzdJnfHXy2RJc0f6M3Z/9HQiH+qZ5iUpKhJLVYSekfgHGGEfHRLIE53kZP6yyW+xacAv6/FlXl28zWX2Jfv+3fHwP7t3/7N/fjjlzi2d33S9b+7u97era4/tg3HaQ2Q8RgOQANzQnqEgZKWL1/ugAhG6CUPZMgPAwUIYN7vvPOOvfnmmw5EyQuj5+/iiy/2itq1117rJC4kKkCHer26kYyQwN544w1XB5KMl6KZJoAOwwfg+ASUaQMpFkBasWKFk9IACBL9AtiQVgB90uWXX+7GCSB5yaMDQA9onX/++Q68GaeXvH68733vs9LSUieVUo4FB9eeBIVkifTIGBgTEhKSLRIZiwxABUmbaxYf5AGEkPZZYABSV155pZMkASgABzoDsIyVctASSRJpGInttttuc30AgFD9okJHzUqiPvrJQgBtBH2jH9AGSRKpmAUQCywWVWgOGBPX1MOCAzqj6oVm9AOplfkG9AA4aMaCiTYBV/pL3+6++243J3xnbpln6qSPvD/Tp093WoApU6bYT37yEzcmJE9oRx9ph/4wBuYPEH/xxReddApNeYcPJx22ypfGUhW5h4D5r29/1hpaavTDObxOHE7Hx7oMr3dYkuCinfl24TsCsM42XR8GmvJDUYjAPbkLpIXlQPChLaGRTn0607SreV/kuDZdD0rcUpXhDiSG+PQNJCmCkrL1l2YPNSjNAerdPb1Pemx88m5L175qczhTeTEsCVumfFKDVezdaP+2vwKVSSSPAhj7lOan25Vzx7tbMLKvfOUrTl2HegoV0sSJE73sx+WT4w4b2jrttc21Nn+S9g3HYC5h+tGMn4G56ygwiDdYGBTA89hjjznVKKCE9ABw8AcQId3A4JAIAFMYIPtWqDFRA15//fWOkQNmqI+RRmn797//vVP9Io3CiKmXtpBIkG74g8EiqcFgb7rpJgcygDAME4kG8ES96+2r0S71IPUCKjBy+vjII4+4RQDPARTAmv7Q5//6r/+yefPmuXYBFPpGHiQo7sPYkZQALe4Bii+88IKTxAB+gAjgpl/khUbQBgmKMkiL9AOggT6VlZVOfU7/PNU5kh9SIXS45pprnBTsSZkAwj//8z+7Ollc0BckNKQ1gASaAXbPSXUMyFVUVLipZNHjSYkAMfl4Bs0AZcbBOKENUjPqaMAPdTZ0oE4kY6Q/7jNW3gfml/YZC1I1dSD5A75Tp061e+65x4EaqnnmCPCk39CbhQEqbfpNYmwstnju7bmz8OD7dmkS+C2y1cAcsnBgoUMbqH0BW94l3g3mE00FYM07gyr5sssuc+OiLvo52pTyeaXRForOn52WZ5tr1tuuus1ONRn97GT6HtbLPGt/vl38thYKLTqK7TBld3xN23IqrKrgPBkAeQEW4lNC9osyJtHZrZ3rLNSBZBGHCwopM0Tjitwz49JXygdrTu2wqtY9+tZfnh9nbnat1MHUG3Gs8YXbbXvSbGuyAuUEgpWkLwxqIVG/v0V7hf3lIw8T/0KBDkW3un7RRLtmwcS+RQfMeNmyZU4t9/Wvf90xQn7UY5nu/84PLTxxcV+bh6qbgP1JmsLlZygkYuoRrZWtrmavvffqi+YXk0zRWL2/ZDGzsqln2JS5C/S6xn9fYFSeJAIQoGJFckL6Q3IhAV6AEEwRZokkAsgigQBIMDpUfoAHCxgYMvXCTHkOoydRL4wSZk/dzAH1km+FpEpACSbPJ4yWP/YuAUn6Rv3URX6AgO8wcxguzJzn7DfCiPlOG4yNOukXwIhqs6KiwgEjKmukUBJASb9RIXoLBvoGPZCckIoASPpMe/xmAQrogHRHP2iLxQOgRB8ALcaFZEdZQIv26Bf5kf6gE3VCP8CRdxWAgObkp1+UIQ9S6Jw5c1xd9JmFCfSEFtRJfqQ/AOmiiy5ybUBL1NEAH3VSD/MAGK9cudKBLsBJX5kr8jE+6A6dmStoRxnADZBmjNCUuriGprQDPfkOqNIH+sUfZRkv7TGPgCLt02fqpz3GQV28X9QNDaEbixZozNzxvvGMNqifNrlPPxhDvIR6Gi0LZWKTDD41w0eYXq96wf79yc/K/1Hh2tSZky3h+llZl2eXv5FkOQ3th6Xm7Ruzz2+7J11tO7IWiVkggw6TJHH6rdo6ah+xUCerr8EoznFtE0pn2cKiq/R08HNAdG+w3p6tf01P+1tjGmZO3Whl4zYoFCH3Nc1Jfnsp9TZ7tWuZ8vaq2wSiyS3dtmfV/oiUOriJYQZw6j8KCUyLc9LsGx85x6aXxD9ZBhUSxikYRyApjE0K28LzL7fuZX86YmmT9y07I9X++ZaFtnx68RF1o7n+oFW9945+z7EvRNjyxpVaScWUI6o/UThBgZOVAhgsYezGQiE2Hdkytre2ReXLbOnkS+z37z3oTj+JbeREviZwQ3FTpl242ixPYOqw5zA7nCTwa00rtf3Zc1xUo354i18h0qyOG5fqVXsSbNbGKcBqJz2Y41avHgbG1uaXL+rgJNP5njzBKKssWYuqcp/CEJaF1miOzuk/j1VMOFmHjwflQtPWFsk3uK7T8w60R5X6/iUVQ4IplEHyuu++++yf/umfnITxp3/6p0Oubo8mJfEnPtjUYS9trDliQM3MzbdZS887mt1N1J2gwClHgXiceNSDRCp9/4J7rDi7XFLZ2FgZjroTh1GAQA15bel20bo0K63tPCIwjUiAitlbssRawhkj6I1ky6SQdbXXyK2GI+DioKmrRX5/cpmJi7a9rfhlXYRaJzqhd2huSZXKpn/fVdhpxUl7LC+5QdjcP/XMWE5JukCgP290Xafrd06VmTUhz65dWH5IEqBK/M///E9nfPHZz37WWTYestBRyMBb9PKmGqttTvgXHwXyJqpMUGBYCvRz1WGzHfphWc5Eu2z2LVrSnxxHgxEFqaAtw65cnWmTd7dbqNf69dAjjZ8jSRbB7TmTrCZzliTOkS0qkpPaFW4QFwNkoaGTPykg+XIowI1s0qcpgg8A4CXqbG7xS0rV+ae9RXsUSD8rtMvGJe0SPveDJ1r/5GxOoQlo/8mr4fT+hCZZQb/dtLRixEHw2cPBEAQXDfwmsVY81smvwA5b9zXZxj2NR9a03p+eToUz6Yj5072w1OCJlKBAggKDKTBmgIpqbGnlSpuQN0WMfWSAMrg7x+YOkmlGKGgXrc+0yp1S8w6lSx1pd0Ahf5rVTjhf0imWvSNBJeUKNVq7LHwHhxsc2HCKwgcOl3xaxKSlyiJtABoqsIQiPfX0RB+ALWRVsPzK5G1SBKPejUr+ZIXZSx3xfl1UyVPya0iYMa+iwM6Tgc/QS5n4Q8fBHcf9L33pS84aMn6uo3eXxdSrm3Vy0RGktv2ttvuRjVb9WMzf7zZa/dqIX+lw1WPsghUrxisjTVitYgBDwlgJlwYSVq8YocQmDHB4RvLaw/CFhCUuBiexiXoxvMEwhzrpI8ZHJD5xPcGYBctZ6uQ7dfGdhCERlqteu14Zz2WFPPSbsXh9pi2sjj1a0Af6Th6MfqIT/ffGwH3PRYX2aYO+eHSJLsd3b2zkizaNIT99IHluJ9619+ke6h/q8Nr07pGH+yTKQz+uoQX9iU7kxTIZ+mCVS18YD+PkGmthj97R5Yb6Thu43Hjj4ZM2ue8l+uv1j3s8o4+0Sfvx6OyV5TO2fPSz0X4fqCccbemY/ONzJ9lFM2+0H7/6n3oBpcYcNSuKqfAoXAJ1qT1+O3dLrk2p0skxzq1ltCxzYMcAUCx7q1On65c98AcyMGfUlZpM88sQqFP7p4MMP6Ly6Wu4S70e0oIbx3+BoQyOomEcqbQr5LfWtlRZ+vbX1yMXm/LO5y0jeaU1SjXtgb8ipVrmuAxr3NNiba2ntwsNCoNMHcJ+42JZGGYF+ok3im9YAWJVSJQYftx33nmns3AcRRWHnZW91Le2HbR6ndmbmx41+aOosbup0xrXarGXErPmFkNLCYhtzBs6IlOPmP/vfvc7uSxs0ph9znUFq87hUo1o9I1vfF2W08vFHLudO8iSJUudNSUuFjNlrbpA1rakkADiYQVewL0G/1b8Bp9UQIEqAR0MFwvZF+WigmXtSlmmxqbn5CoyV5aiRPNpFnACOERd2r59m7QKb1m7GHK7mPTNcrl56qmnrLGp0Vl0fvCDH5Q7yLO2TX6aLa0tdvXV11in8r3y6itux2evxoDf5vNywenuBaY77rhdfpOrXQQirHTxNc2U1e93v/tdC8iieKKsTT+ger2EW0uqrEsrKirs8SceV7tFrkxV1Q65IT3uwAILViImYUXrJQD3YQVL2COQZjy4vGCdzMKACEFYNfMO/kguSHmyVsYS+OWXX3JhYxk7R0xSx89//jMBXpvdcccdbhuJyEkEYbj33j+TpW2j/eIXv3DgNWvWTFnTTnf+2H/yJ3/idcO5JnlWwdAXy+hcWSNfJD/XZ+VK0yhQZX5vu+3Dca1k+yrq/XLw4AHN5Yt2nehGn9leJJoSrjBYSgPeXLOApS0SgIsbFNGdCNDBdhiWvfjKRifmA3cfXGZuvfVWZ+Eb/fxwvo8poAJLK6dfZWt2vWJvyTc1RSetnEhJXnWSwPy2eGuuoiDJzxTwA3mOJOkHHJZ0uLfoHOvokUP7CKVdrGw7mrcN2z7MweeT24LcbwagZVR/AVEiKQWS8UXth1SG1dER1g8/YHk5/WPE7ji1p9HK/TttXc/MPkB1RYPJllWYZm07JFUcKV2i+niyfWW1e8HMMls27cgsZTHf/9rXvmb/8i//Yp/5zGfsc5/7XN+P/mjSBG1RdX2LbZbqd5FOxolNIcWEJlLWUIm3pVuxnv1T8hyjHZCPcvlp1oEIHydRFheH1vZOu+2Oj9h6+Rnu2LnbqnZVW2lZqQzsgrZl6zZnIYkfKtLBfLlWrF73jmVk5djkqdMFGpIYk/2WooAlXeprVk6evbtxs+2pqZXLyVkCjJBtr9ppH7ztdqusqHCg2NzWYTe8/yYtXmps9569lp1faFW7q+2Rx55w9ecLhNaqPSSkjlC3pWVk2SWXX+ncK34sx//1720UCC23OWfp2D75hhIwIEuGWTfe/AEHUD9TOMSDDc22aPFSu+iSy+x5gcXB+kY7V65TZ8yaY7UHagUYz1pLW7v+OuyjCpn3O/mI1hyot1lnzrWzl56rOlfZlm3b3ZbAHR+5x23RPC3AbpKb3sG6g/aOaED/cP1o7eiykNwP/IE06xSts/MK7cabbnFghn9lQ1OLyjfZqrdWObDkXautb7Br33eDA9UDkgqZo9Vr37E21VWWmW1bd+y09q5uR2Pq7VL96XKnIV+K3Od2ap727Ku1cXIdYXobVN+LLyt0ZEGRhRSrdM0779q8BYucKwwgVlw6wZLFnx559HHnZlIuO4LNmtvySZU2qXKy1ew/YJfIr5OtEN6Liy693HLlovKY6LJXc5mSGnALmJCAbZ7G3NDYYJs2bLRitT9FAMj7gQaB8rwHLwkk3xbA4/+KvyjPiICE5A/Q4nP67LPP9pXBBeZuBYDgOfk8H1Os8nEjYuGFRE09gOtYpDFxm4ntyNrqN+3LT/y5NbcdPKFAtUeq0fk7c2zlW92WqpfscH1No8ebLMvexuJ5trHsWmsdobqX49qyMputseqn8j+VKmsI8MJlJkPB2RdNuNoKUscPAMzoPpjUtW/7FFXmwEadgtKvHu7RD2ba5HqbWPaqVu79LwxS6XrfBfaU3aH93n6JOlnSSPcBqadW12qFPTTDHdD2KXbBuCfkZ9h/3bnEphRzwMCRJyQGQqDh2P93f/d3cc3tB7cyercZrw5mzi+J49NXz7EPaA84Nj2xptqef2+vY0IwuniJoB/dYr7xEu9J8jBB+LslgXQLtALBgPtE9dbZ1elOTUJ67pRWJhhMc6o/Fo1p6QrGLpDs1t6sz6/TkcTsOjs6nbSJdAGzg/EhQcFc8dcMaTHsfFEBeP1+ujojQfPpL7YEnIZDOyH1gzJ+f6qktWbVEZJkFwnnR5xipKV2gSB1BNVfbBU6VRf9Sg0o2pgWq4yHPEiE+CbSjw71id+az+9zdKSPPfq9+n1+11fykg+/Sz/HPinRly7GroABBMEhnCULCur0xsh9AgpAO/rWpXrpOz7i7vhA0Yhx0S4LCxYfKbKHSM9IdzSBNhqMa8+nttvbO9QWZXVPfx0dcgsUyXLko8oCvEPPU5H8VIK+sHJHWk1Vm12hLreY8GlMPp+C3WtOPP9SJF83D8rTIXr59dzNqfpDW2maX8ZPfsZEAymql8Uqc8U17ylzwpcMB5p6T9QH2kMaRTVMH4MC/4LsNJuX22q5qWH77SO/c5GdAEb8VLcrmAPxkAFTyuGfSySkv/iLv3D0x28U0Lz55pulBfmG02og5VdWVjopGbsHNAsYFo4k3XXXUXabie3EnNIFtmLaNfbImu/pEWRjuo5v6tFLNXNvll2wusdSNaFjAaaMrUcrtFoFXWhPUvQh7U+OLKXI4GOXfvmRfY2hyvDiB/w6QUSRl4ZL8vxRMH9+SNA6OmGYlKkXWwyQTL3zgBSdb/ssO7nJ6nrEoHrLoaYK6ki3YGaqNde3ux9xdG2n+nfo7RdYfPi8KWMGptAMpoJajB/sF77wBfvEJz7hVHIePQFcgMMxPe/mEXzya0Oq2aBQhCHNqc8x2f4K39tTbw+/UeUYrXd3pL/Q2DeM8tFl+9+yQ/3yI3udkfYbIh8wfSZBcae95NUHbQA5U1gSl3rzes+9/LGfkXK9ZSIF9W/0tS4ZABXFJO+WG19Unug2B+SJKe9dRufnnleG765uvnjJtRNNG+/BwM++OqEDNeos5SFTH12VYyT5oyuKLtt737Xt0UPP3Vc3N3XuHY7MU6Q/3ljJEzf11d+71953rdy9dXf3NNg4+YJfdstc2TUU2osvvewkeSRPwiQSBYrFKnONQSDtEwmLT9S5hDRE3e3tV+Pmhgo8Oo3Vb++o6GTp3I0LP2rbDmywd3a/ctylVHxLp+/LVhQkrf60PyLBbUwSx6C15lTagcxpCh1IFOCRJZ9fxzs1Vmn116GXYLgpQOUbcH9DHKXqGuQIN3xRY+MOw0cP1LGaDyi4fv8mPruuObL2LUzZZAeTFunHGJFeMXTuFPAWTdTxVI2cm3p6JdSg500fZ1fNLz8qAyeOKns5rIhhBKyKiS3K6Sr4sB5OqLOhOsriaJPO8G3uCFluWv9eG/lRCadogckLy7FvJKQ67g+XlCVSrjf/cHkP9Yz2aFuavMjvJtKdXoYvlbMkZCQrhxXuTVR+rpUi1uyRgq4O8qoupBk+vbGQ273DvePie6SGyL/U1Zdibrk2VIA26Yujk/LApB1IqyDGX8RQ1oert7eZvir7xqA7XjnXT9VB/a4efcbSnX72jYWx9Y7bq9iNTy3SnlcPn/QlRF9j8lMOBX2kbfoSqYl6+e61Fbkb59/YgXlZomkWnaf3O81EZ/GKRX/SvhehjTHQG/oVoXlvTjEyrXPd3vXOtS87iZR9c2IBY/zE7webBfZD2W8nsUgFTDlVCNUuAEs0LrQa5PEkVDQfGC5t27bNRW9Co3AkaThufiT1Wp7C5V2/4CM6z3GH1bXs02QiQR37hDtMeUO2fE39ltUoI6ShuiEGpJkcXQelyqgtXGRtips7XMze6ErZw0wONwuAWcEN/7rxoqcIcJPdIe7RtcR813vo196wexn45UQlpNOkJAxIBrYXTGrToeO7bEvP3Kjcep31g/TnSyWWIYOm5ohqZkCGU/QChoeq99blU+Quc9R+Fi4UHEd2IakSx5T4si8p+DcGLxjYjFWCp+2tl7WjgpXEAiptAAaleWl2tcIpAhYPv7nDapQ3lnkTKWrG+Fwbl5tudc0ddulZ46UK7Jb6loWaTlRSIIknVu+yA/rMywzYBbNKrGp/s62YXSqNjVlje5c99+4e27K3STwgMjo17fx7LzmzzLbVNNtjb++0BdrrXTy12IHCs+v2KC5xh10+d4JUxT32a0nTnPN6w+IKMdoe++1bVdbYqkDvWviU5Ka58jtrW+zSeeOlWchWYIt9OiSgwc6fUWJPr612+4bA7bIzSmzR5EIHZI+sqrJNci3y+hRNd/g6LlMXagwVUvu/KPX4m9uwnDVXPl8anOfW77Ml0wtt8ZQi19Yf1u+RZmOaZQSkZpWqfNPeBqs60GIrZpY6LcGv31DsYDHrW5dNtlXbD8hnP82y0vz2mzerFDQkx87Rfn2n6HpANEYdf0ZZjs0sy7WXNZbXt9Y6MHTzpj7kaIF0tXyjqeOZdbtt9fY6W66xLppcYG9ur7U/vrtvAKgCTpOKMp0/NfP02Nu7LC8jYJcpNnVbZ8geX73bzT2AVl6QYbPL8+wP7+xxe6vROEk9BZpj6PjMO7tVdvCxlNDzglml9p7oT11LNKdM+7Prq21NlXiQ+NOciXnuN/ZHjTNX/bhRgVOeUh/aRDfmFEO636v99bvqe1kyiwRtBSjUoC+51RlkVVZWuq0BwgZiVY/2hxCPGKrBBwkxiKofgyuuAVhCFWLMhcSKSp6tBQAZYPZOvTlhAZXJn1u22C6ZdZP98s3/cXsaYyVWU/dIEr6m4zvy7YrVOvbp4BBgqpcoScT1ZWRbV6MmXHr/JBlDhCU9uhT9RkU1it9p64TFtld+p0naCxlpcqvRnnrrbJV6RFB5qJQslxmseIdLAG9AasUUBXjAwjKazuzX1jfmWXGBcunHSALUUySVlvRstKCtVBB/jAb6kbhbBgpZsvhtbRI9hhh/pKZT41/own7QzedUxjXiGetRwgQwUML4BAMYEkEhxvJIuBQB3v7GdttX12ZnxIRMZPGAFHPtwomOeQGO1y2aZN97frPAUpoWcUCeI+2wDj6jNNtmK8AFDBUm/pDAIUOxggHXuZPyBFq7XZl8hT28SqD2wLOb7N1ddVYmEH6/9nBf37LfAWGqygDGhZlB+9C5kwU4zfa+ReW2p761Tyvw/Lt7rUl7dbefr9NRlDdfDNyXgrV10DJlXXywpcNuWlIpo6tWAXCh7a5rtU9dNtOBwuVnjre1YsI8/8ELW+ziM0vtFQW5ADTS1DYBOjbXNNpOuQQ16SABkk/vOvOPoRbjRuVPu1fOn2CXqr4XNshyd/lU2yLgD8pW4dNXzbYtkvyrBOAfuXC6vaKoVJfPLbM9dS22oVqHaau/d6+Ybi9vDqh9v+0SqObJzP7q+RNt98EWqyjMdLQDbDbubbTblk0RqO4Q2BxwblrXKWZ0g6yz36fP1TsP2i16J7fWNFmtgDCo/WVU+SxEzhUAr95xUHScosAvO+yO86fY6qqD9vGVM9Rmq21XmYDys+jJEN3+7PKZboG1dFqRFWYHtMgKSNDpEOhlOmv2/31mgxZZZhPVr5VaFL2kcYdEGPgVdUAjgLFAVu+XnlVmL27cax0CQLYTeE/YG4V+Qe0Xnz9jnOxnQrZSC5LOUNjWqV/1LZ0qr/dO9J0jwC7OSrVn36l2NP6zS2dqUXDQzp6imMgC/mrx6luXS5Pz6zXWogUZDfPOVlQQsexMN2/ePwCgFwIQIyT+olO8fVEkVS8RQ3gs09FbiquX/hS/XTLzelu18yW9bK/r5Y1szo/lAIaqy0VBCmXZpW/4rHiffMqGwCQMf1K0D1p02TVW+8xjlnGGAjVfdrU1b1hvex/6qXU3a78lVnJVmSSdQborb7EsewmAP3JAZdnuM1a7elFGkJKwCzmUjlovOxbVGCf0xOiG9a7bvv0+KymSEUSUjYluax/1gGUnySIzHLHC87qD6pjDxwO7MbCIHNHkPTsVP7H6vFyr9RvExOKpy8Z6zOzloPb1wJT6OduREzI4dWQskqbQSTwbJSmdP3PcoCozJR0Bjr9dpZNP9PQmSQl/ceVsa1T4SSQVmHqTvkMX8m2vbVaAi4h171tOWgvbdWdPtF+9VmU5kij+6po5Aj0Zj4jh7jrYbH9Y32R///55YryyuhXo/dXVZ9qk4kxJQm32x/f2OXD40QtbBXY9TjpDOwBQYbiC9Pm7t3Y5sLtlaaWlCxAKsoP2hCSrg+rXh8Vs8bMFaBZVFuogAL/tUP/uf3ajzZBkFxyfAwd2Et4/Ka7xgaZ2LQKqrEh1rNe+Mi5iSJGXz5tgV2pR0CrA/Z3qpuyc8lwHlpskUf/P0+9ZjRYlS6YKhDQupK2gjG+EaVanfnz9qfcsT2NfoD7wO/u1pM0bz66w3dIM/PTlrTZNkucz66rtCi0ykIwXqx7UsowHIIfu2ZqHt3fU2XYdTrFCkh0S626BczBVqkfVGZDxEfS9SQuTmdIU7JVtQ0DS+qtapDy5Zrd9VoZnlwn4Dygy1n89vt5mfSTXlimOM4udORNybK+0Ds+t32tnludr7Ns1vw22WUBOIkTlDYsn2pRx2U4av2ZBuRVp4bJH/V8iwAYYkUhfVj7A/2b1gQUDBy8Ui5YsHMbrFCbeme//cYtCdE5yUukkgfTz79ZYSQ51tWvLKtlaZAR6y9LJdt6MYpXJtGclWU8RfVYIvFu1LQHYvru7wR5dpcAzuUH7yIqItN8M/3G9jYBq79cT9mMImBm7/hZmFNtNCkuYlVbgVhljV/PQNQEIGV1BW7Y2YGXVrcMYIGkFJj+5HlkgdsnfKWfhuZYzd6E1vPGqpRaVWO78xRHXmpimcHlpzp9p9bK8lUgY83T4S8C3s3mPJHaVY0k3TELSlCypNoC/4ZNT+UZFP+rLLcYS6sYyUkwmSgrVMsIyevZbfljSRV/m/i/JaSkWyGSxcGonpw6T1PCJi2c45nYsRos1JattfN/Y++FkC1RPHB+FZeRYJSTPN6VejD10nLfJL4bO4qED61pJF+y1viCgu1yMePaEXKeivVKAAxC9ta1W6t5OpyJ9W5JEo1xikG6R6p5/b49dOa9c4BuyH7+4Ve4yMMckmyPJdakA6Ocvb7cFCpCBxIX6FsmKPeqQxulUxgJYJM9XNtcIyJod+CCVPScVKv0DyHCZeFWS5hXqzx0yGMtLDwgc6iTxtdrEQlm3qv9IjFvkJjRV0jjRolIFfEjo//fcJkmnKXKDGieQ3+OA9FoBx62SDD+odh6VuvoxqRunSwqfVpKl/JvtnZ31DrBxO/qopFBUtNNLc9T3Iqd+RSXZLnXnS1JZTirMcOpLfspFWlBcJjX14wLnjdWN9luB49kCUiTKR3UPSR5gqtYCI1djoE36HulfiVuMYCzG7z5Vc0ebADAqWMAUDcLanXWyS6l3GoN7L5vtonjlSQWN+rVDf6jY507SqVlzSjXWHp08VGyX6DsgWKYF0dlSC8/S/D4qNfsSSfgXSFWMSvnahZPsza0HnaQvluGA09NkLFNwk9u0iEGF/TPNJwuQTKnEUVnTxmwtYK6T9D9RQHm/JN2dmhe2DlbpXdkpLcSFAs3PXDlH2wAl9tOXtrv3jIUCWgp8pfdpnjA6Qi0cTE12UvsbWw9okdAZVyU/Vr+Po1HPUQdUOn32pPPsg0s+pZUK5wb2qxaPxoBQ8/q7fHaeoiDN2S7TexnZDAVHRCgquuxam3DbPVLxhixj6lRrkwN1qk7T6Glv0ykwsjYcJJ3KnSCYY/ty50s6lWXmkLXHGx3nn8rHrqfOSQHxcvTfY3NeoJeeK8aicI79DwZ9Y4TstKIcjs2XJHp0hQKSNCWFJkXTXhxAUvIU31aNIfp+70rQn2SZRWlORTOowVPkBoyD1f8nL50hZhr/JJmjMVT2az71qU+5cz45z5IzPp9QYAIMLTCSGKsEoMKAm1CbRSXNvNsfg5mX5mY4dSrMs1lSBJIrzBeAAND2SmV8UOo6nrdLNEMF55ce+Fwx6ifW7HJACyAAcBYKhAAAQABJREFUsgAF0h/l2BNEinxXalBUjkiETwlQAJadUn3iZjFODH6KQKxFDBpwfkTSyTr1d4KknrsvnObUuz97Zaukq1wnBf1B6uDV2ofbUdskiarM5k7Mt2/9fpMD5HsEfKgz/++5jQ5cygvSneSzUyDQIaafIReYVn0+JgDdKvUtoEi/9jW0unGPz0vXb1L+uxqDfhBOovyP2xa7ulAfV0oVyb7jvIp8AUiu28+94/zp9shbO7Vf2uhUuRVFGY5OL2/epzrCUtdOtr+57iztMe928ZUbREcSQPqwwBaJGtUvYDKvMt9JjPu0wFg0uUgLlX32979cpX3FkCTNXAdc1ZoL3KFQw74olSxSKiplpNs8qdsnuj6muvmub+my32sBgaTPfjL736jq12mxMFU0/8A5U+z/XTZLkvQ2naG736mz90uSR7UMiM8XKKMtABThIakCwDr1f4/8m1nfVxZlaTGRqfq0wJKEijqc94lFDou0dL0TgDyS/xtbarVfjzeB9vU1vprGNrf3zf73BEmzzPdyScMrZ5XZfbcucYuOh16vcrSM3r6K/u4IeQL+k/J5pWPRr0n5U21PU7Vtl+UvP9aIwmNsW+bHnCwpbeWmfFuwWaoC7XPGAozXIhJiar7UDx+80w6+8AfLnH2WheRYnCz/r9rHf2utm94TuG7tzQ4LiiS+NeXNsp0F5zhn5/4nXo7hPjXqboUba14nwVZqYggxRKLfAGp58Uz5XpWCckPkjNAylNJjO0IyJOjGcnhgvd0KkJ+bWytwrlc10c/kexdutA2+863TBaXob4LWgmI4rQfarasjsj/S//Tk/wY5IdNNUil+QJIK4HM8En5znKs4ZcoUdy4lLjbe/I32PNTY/jPTnQKyiyUhlYhpe+lVMTgkwmyMW2SUBIN/WUwVSQTDESQ7pB5Ug0iiGMis094k+3dIFOx9zpfUCcDtk3qwSxz2kjllvfvPSTJY2WOzZFDz9o4Diivc7MB0osBmQl6mZaX7Baq7LUMSDipGpJxfvrLdSVyol4ukXv7ZK9vckXmXSVrGYOeljezByi9Xhkvs3b60ab/2LFvV93IHfLv0nb1OVKtnC4yQoAAkJCOku3SBwcNv7hQw5TkVI4Ywv3ptu5PKI6rRPAccACzGVOzXlkjtiB9yvcCCPmAY9W2BNWrwZtWPavYy7SWeIxBPF1g/qcUCqmdUtahIoe2HtfeaLE0A+/MAHloApGfU00ul/p0yLksLnnppAA64sQFs7CezeLlgZoktnJyvBUy3/eSlrTZLIH6epElAiAXBPAFeodSuLBh++doO7T8WuXlGRY0qHSMk9kfTNKYXNtS4RcPFWoQwtmff2WtLpxc5KT6g/rLY2Cb1ObRAO7FXgIfxEiDJIoLFEHUs0yJqgdxWmItV2r+dKEBlTzRLY/296oRmGGHRr99LzTxDkitzCND/4IXNjoWhzeA+Y/6Xh9e4hQF0Zgy8U5XaFkCjwl4qCxXaJkHPlTOLrWaHPBPq6t1vBkMjXGewjmcPF0tewhtifETC95QoZRgfxR4egpaI5zyL+O66IiP656ifhzqiXijT7oYq++/nPi9d+WtO6hppuZHkAwBwfF65fZyd/bZeSp3gEo4Bluh6kJRxWSm75cOWdeY8p/Kt/tn3bdw177e6F5+z+lWvynk9Zs9XL3o4NcO2T/+Q7U6ZPEiyi64/3ncYZSD8pjXtfWE4fHRF+VEh0S+adpWND85wxkbx6uQei5P2lC57tuMNq1d84Fgjph453Z41c5eVFK+RLxbSigeqGk9Sqj2fdq+92TZDe7AD1Y1IGq1bmmzPtgYHPkO1f7Ld511B3cje4j/etNAxuxNvDIcf2CF6LOyH/v2N83RA+qS+21978l37lqQjjFaQzDpFi4OSYJDakELY30Olh9HK+LwMpxJmT5X3F2YKYJG3UYY9XTI64WeGlJUp6+gWgUatJB2YNEYrSCloUFBxFskYplEq4X0CDeovyUkXQHc45p2ussVi9uxnY52MyhYrZHXfST1ogsrUV9pHykEaojzWuBgo0S7q4QIZPFEeabtURlEAXKPGhFoR8GZfr1Hq6f0CDQyQAJ1W+aVjDc1+JnuDSGr8RrD2htnCrJEcGQtjDDppraO3vjS3yGARgtEQNIVW/HbYs2UcSJTsITZr7CzciIJUJqkMaROJGPpDT8CaRQv0LFY/c2Q4BC3ZH80XsBWIPnxnjqAFe6mMlfkA+LA+xuq6Ue2zaGARxbwyHlTI7FNjoAXocsYvltPqpgN6jIaYQwCf8gAZ4M2CDMMijMEKtX+aofEzDuqlj9TRqgMUWGihqYD+zPs+0Zc2aYf+sfCCFkjkbDEwBt4v6ATIs2/OIitDIT9TxMe7RBO0B2gueIcnFGTZbbN0v3aHzZ033x1M/sADDziNDtqehx56yIVlJI4vi1MWqVjPA664ytxwww3OH9z7EQCmhCXEChhr4NGku+46xoEdhurceJ1Ic+P8e+zrAtY67SOOVWhCGKTkOZu3O9/mrVMkEO2JhnlThkgAZfbCpRYsKbP6V16ypnfWWI8ifLRt32IHnntKJ2wouoj2VmMTgRta8qZabepEWQNHWo3NM/S1+qPyoTbtnzq196ElIn5YvhRiyQ49Fq89fFFlluRdDvyUyqa1XS+yrIAjZ6N6j+W/qjNSyztftreS56h/AwEVv8zssgw7sLNZL/jAZ14NJ+Nnt+ZuuqSuT1066wQF07GjKoC0TW4s8RLMG0MgEoxtt0DJ/Wy05oK5832zjJpIgAJvPO8k3wEQ9sm4JmF4xCKQS6QWGC7lAWH+g3kCBpSlLYxNNrTKLaL3GlXyFjFlEqCD2nCLJBQSqkcSRkgkrqnXqZjVJvVRD24/AAzf6duO/U2uz14bWPbWqx/eNW4qGxTkgrpwHaLPABjPSfsbI79xNya1STsAN4DCd0AoMs7ImABcnvMM4Ecd63EJ6nTV6gbtbdP+LIl+8szR08uj+6h3UZ96fcWdBmD0rtmbpHKvvNd3xsE9VLwYY3n5mWsM1JgL+rdL5aP7Rr4dek9Y/PBd/8uQFMtcJV1Q7y6p6inj0YP8XqJOjIsYBwnrX4AVoKVNFmntmtMN1dKS6bnXL95PjKCo3wFvQ6RXrg29B659/UsUqurqvbZ3wxqbc+ZZLioS0ikSKXYHa9eudbF7kTwJTbh161Zn/Us8369//etOUsWlBje1WbNm2bnnnuvOLsZ9LVtRo+6+++5BFsJuIKP8ZzBqjLKC0WZfNPFce//Cj9sPXr5PBFf4qniGNKOsFEl0cm2mnbNWK0Dt5QwHptiGZ50pqWTZCoFoi40/c75t/bcvWKhF8SD1EjS/uybSuuockDSh4UCW7S0+1zrCCgU2GsteVxEvVbt1tte6H0LvmzKgicEX+nHIbSamJ4Oz6Q4vLUG1dQ7doOfcqWuQND5OYdA047zEXoIJYpiUozNSGzBeit5PVT5iuhYIVHdvrz8l9lNhdBO0Sv6MLFpnClRPhwRzZnEE04pOXEarun3Rj3u/wwjjJRhodGLfLcJqI3djn3Md/SbDUFGHein2GtCJbTu6r5SLrTP2OjZ/vDYwzvIS9InuY/R3Lw91eD/I2PZ4FE3j2PZdHb3NxT6jrugUj57R/YmNfhXbl9hr+oZE7qXY9rkfoXd/P6LnJ/K8v3y8a0gZ3Ud4UnQdsfSnDlJkrBHaRZePPO39V7yIcIZXXXmVi3hEQBTAEut4QHT27NkOZNEmXHPNNU5yJYISEithEgFcgvzjqvb88887yZVoSQTZB2g5lAB/1CNNAyl0pLWNsPwVs260mxZ9QhPIGZ4DDWJGWEVfNtxhJjRk2iVv+yxbJ2QM2CLsy+V9iSBJxvQZUus+bzv++z5Z22oDffosyz5rkWXOmR/JyNsXkzD3aSqcYzWpk2RUNAo3md56xM60p1unsi26M7j+mOYil+puEmGehh+U8kZWlamKqhSn6+55ZwcGYQPDbdEIZ6Rmd++yYtuhZgavrxBqg8WKLaq9K8D3ZE6AKaqxey/XClVGM6dLapBaFcMRL6HCIzGfMDmYL99RrZG49r5zzTsF0+O+AxTdI6sHeHwnv6vHPYvUQ9lESlBgLCjgJGf5nBaPG+dU8OyfAqoci8eJMwRruOeeexxAcn/lypU6uWiZiweMypf3m2AOZ555pgsEwelHqIO5njx5sjumbyz6OZiDjkWth6iDqEnXnPkh6eVr7fG1PxQcaN9gpCATVTe+piUtWXbDqnTLqNOxQIdaHoih8t++3/xC2k3t7UjF2fTOOstZsNh8Iu7+Rx92hGd1PDCph0in45ZrdSQmNPBh3xWT5sYRW1w5/D4xmc59klAVPDp5YCi4vgqiv6gO6BTZ1hwJg9L+bAr1xmlcd7u7tafVkSkpNroRoJhVpfZkkqpsq81019E5wlKP+rP8lpatYNkHFL4wfvXRRU7I7zB99nuI03upHP5Pl8R0ob5ljwqfybdlTIL7BvtY00tzHT2gyw/lR4hK8c4Lprm9v4dktPOKjGRQj8+VZetdF0x3an/2wR7UM6w2z5W/46uba+2h13fIGKXEGQlhiPQLGRXhRjPoZ3S6ED0xzqNCAbYSOPRg0aJFOnVorgPT73//+86Y7xkdDYcUSkB976hAzqNF/UveBQsW2GuvvebOc0VVjPEfeSkHABMWdCzScQFUOp4q5n/Lwnu0Id9uz6wXwAFGo/gFEuugqFnhtN6UMYT2SoYK3NBHJNWfPvkMt1favqcqsuyWirezepeVvf8DtvM791vrtk1O7dtXxn2J7AvVFc23Az35A1Wi/397XxodV3WtuUsqzVJpnufBsy15diyEJ2zmIZAESAIJJItOICvhPV7ozkuafo/V6fXyfrx0VhI6ZCWEJDygIdBhMLPB4AnPE7ZsSR5kDdY8z3N/3y5dqUqq8iwjoXPsUlXde+455+5763x377P3t7HfddzB8OTrxQJ9/7BjwWg7XAvoEN9B5mv0atQYrc5PGG9AAADQP1hvIved7t8Iipw4/aBhesI7irWnD+sqMPuGhY6twUeAQYnrPyyBPtd6zJjTjyeI8PhgJcwnME21Qu2J60qMb/xGfuZF3WdT7VzHjReXm9op1/cYb/jkqwexNtehTkO3LU7RdUc6nMwGCcDNcaSzCxTGAK6A9yoBlWm96FDyyq7TiGmM14Tr4bjP6Q361oEKsOykqWMRYwrfgCctPV+5Xvfc1hO4r8bea+NGZzYYCVyABDDp4D+1yfS0aNyTcFzCKzU1VR544AHVNB999FElySdQ0vxLUy/rMAcqmZTo5csEFUzxFhsbq9vIkkTnpK8h7y1z516J8rkBKgfvCIyQexY/JPXt1cifulnsHkyOnk6SsaaOnhBZewwxdPVeKAXHHEjgi7x2rTjm50r1qy9J855t6nxEEK2FZtq8dwcsuQi1wUVwLTaYpAcCI6UmHGE1BCwXEzXXBxIRI1d+skmy5kRLzoI40PX1yNG9VdKMcJOR5wPOK8iY0N5UgTUF9/Zd+xr72R95Vv2Qacaly7FVRr5z8vIf8n458WAHj8wwjAm0ikNOL0brYD4ykDUp0lYvCJXHZnfUpFbvF+4vgQh5IL/vyHlZDUzidxgltFyP0JGH1s1SCrpJPNwJGRpvv83HzoJooELJE2iqpUcmGXLo2UqHFpIbZCNkgZ62DJdgqAofnmjGpQcsPVdvQcjDq4hlZFwl40VvyktVj1d6YjL1GgkQliCeknGTphgJXGkJREUhbCokdKRZmnAzMzP1Ox2LXFnGGI5G0hTXMpaakBSgFm2ha73L+ezNenk5bV7UsTGh8fK9gn9GsPRyuMKPrvN4a4SxpiFIOba6OEyyy5E5xtWJxttB2E6Ho776Wmnc+rFEr9kgyfc9JKFzFkhwziypevmviEGFt59HsINHYniOtHiIBaVGPX9FkqQiEXP2vFipOwtNGcurOfjsWjihBfjWIufj+c/P9Tg7tHi+xgKcax3Xz3aqkufQCnr7wcwCkoexhUbs4KFGiRs8ATPz2L34jonVFmyX4Ahn3kQPNSbtJvqmknCbTC3hAI/pVniPRgEkSetGzdRyTKGnbDCI3PciHvB4VYsy69AkTI/gg2ealTidpBdkKeIttQj0eg48UL2BeEwS69OkSwJ7PqiS//dwWTOoC+dKLsgWGAZiipHAlZYAHY4me/ncAZUCSnAkyyOr/1Vy4vMQd+Q9PIOakl38Ze1xhywohpv+RdL+1b2/Uapfe1FKn/7fAE+7zPzvP4fmFYFEyl6ADqoh107rohdhlZFgMqzuYMx8emdmlsJ91ZL7pWS9zjnz4yQ+ORTJiOm0NFoXK5jS0XQamt3FiZtcyAwt4qR1vkIc9IVZF8q7x0K2k5ZWsJd0M+RgfBUfrCen+ZQJyMQw8vEVuD7tSEAgN9bbLmA44zu4yls4Rk7810EzpUcvYwKnZYEcTiFEg3R0d4PEgr8hFsYjMtMLwzFasL5KyroykKozBpEhLtQ6CagkfaCWujAjEsTzTbpvBijxHlidAwL8Fo1PZIA/4z63Q6tl2AnBeyrcI9PyfjAnPaESuLgZfgKHkhKRLg+ufBwMGXPhMOHZi9YH0/3yk/DMOg6KMwCAh3nffYT8VbvYS4fUpGuX3rpqxJ9uk/qPP0Tc6fsAmPEAwoaY77QtZq40hGQDE0dBl0AaBm1txfpMScuOQNb7PmS995XPdiGV0s5KKTlcO9ImmYkC/JCurX84ibL7CM/5zabrrRd2iQikdtb3qGI6u+nrI4Whd3NczECxhNiaUXl8nwR1n1BfCQy5MIA/54lN8E5ednr0XgM6s3+4cZ4SfE9wl5O6efLOUibMOPIVpEDjD4fxkuSxXQ5uVzLgkKLuKRA+hMMLmuZxMtuEQyO9EwT4JCzoBok9AZTtMB6RcaMPb5it5uL3DpUrENNzmgw4TA/m5Sc1qeVkBmckcLkS8L7odrktX8Lx85MWy7fz/1H+suM/wE95DOZOa3h8rvaRBeWh8qXjMPoCTM8fSYIjAqCVYAYY6MF6Jkxc+ivHuz0kTLprkSfx9b/JADh7Pf76cdxQkEOq4gqkF/HmrhMEPR9TMiMkDEwhTeDRDAJDSTsScqflRMmWd04gBgoB8sPAxn4HemoBqOAIvdgCC4ftfJlmhtvEPAcvVj88csCbt7fHY090iOrt8wyoPD5E2iTFp1rqBhNhCRhTUGEIxNVhseBIbZm8ycc54dM6sGpuvPwYZl7yhE73wmUSMvWQVej7181SLt2doO87APA7iBeLig3v//Sfu/VeJxMRs6UcBeUgH07+/Akc9vDcSW21C2D8uw+K8KBYoiZhPo6SE5aUgZS/xhu6/mDYgSlGAldQAqQZZJJwUgfSm5fOSFw3ZSankpIS3IfINjRnDu5ZEFJUVEh4eLg6L13BIXhsarwq4rHa1du4OGWlPLb+3/FjXgizUx9+6MiWgh/x7LpwWX8E1F4kbriA4dDByDE/T2b8j19IWO4SNc8qAX72LEl/5DE1jfY21rojpUu7PiCOb0jKlwYfJsh1t91zrqg72y7BCCdJnxGJUJh+2bO5TGqxhhoZTbq00RH6gmPXNlAPQHV3BHLpyutHkjowbOW8mvhwC3wAoZnYtX/XxvtB+lDfyHhU163Oz3xgCRhsleTBI5g0GXU7vtB7OSoNVF7w8vTWx/ijrt4WzPtKYMA103+5a6HygV693idnT7xXCYiaVxJDpOk7F/y2BEFONtbLAkECJj/7w5+AeSk/RLJv0jRa262zpGMT82DyuZF9WPv5zu+mGAlcaQnwvhwAYDY0NChJA2NQT548Kb/4xS/Ue5dz0s6dOzXpBBmUCK7Nzc3ywQcfSHl5+ZUejsf2xikiHmtd5Y3pUciEsPZ/yv/Z8qQUVR+Q7BYwWnwG3siOFsSaXuCvFcIdgGrpHxsvKd94QDpXFEjbkUPScnCPNGzdDIJ6MiN58biFBtwfmiDVIfPgvehuACUYxaWESWJauGzZeEJNv7WVbdIJGrLDnyIVGh5RGC/lLBgryOoHegHcClEXOHYejJsnOAhMPh7QD1MWNGD0gX2EeiuDjx2sU3x5K1xT7O0NwbEhWF8cTzDBbBtJtnIYhVsFOULGP0ig4S5k74lACE3nqVETuLf+ruZ2/pj4g9uQmyL/eNM85XW9mv1P5r4oG/Kt8iGJd+DYhyUCLi0q3Md7hPsJjOpchC8ESLaBXSpjfnetZ+3jMaYYCUyEBGjpYyamZ555Xo4WHlOg3LBhg8ackvGIRA9kTCILEvMMM9b0ueeek8OHD6sGu2zZsokY1rg2rZl/3I7Pe0N6VJY8vOZf5PrIDXLjHmimDUgMfBE/WDoddZ1BRgkkCq/5+98ksmCNxN16p/jHxEnzrq2aA9XbOdoASo1RudJmjwX1n7uTFCee7DlIFrw2Qxbmp8rZ0hbpAEOTmnh14nFpFTOPjw08uD2NOgG57DnvR5I6OBwxOpG5VqZG0TPQK4V1JbKr6pDUdTaO7GaCcaZw81aYvq1/IERf7qncnEcMICwoou8EQmiqsMFzO4zpDAKgBmDNGB8nReHkbgfhwN2IM/3pHQsMmI65KrxOBM1xSDpcLxVORVwn5bVNBi1jJrKgqKaJ/U4wZZq7ADUBk8Se7fGY7OGUdw44LzE7COuaYiQwERJgHGkJYkgJlI899piSOZDDl2xH8WBP4kMdGZFSUlKUJYkxpgTWH//4x0pROBFj8tSm51nTU83PYVtGRBYSCv+jZMxb6QTTi3CbZghMX2Odxn1GrlonNa+/InUfvCO+wfjhU7vzVnBh+gKjpC5iPtKzuc8QvGih4cj6EB8qH7+JbB1Iwp1/Q5ZO5i6+T6MtE3BAN2gb5Pqpe1usxPb6sN7Zi3XcwTHezfQIDkbeVddZkBpYEOgFixpPyZH6YmnpbpMDNUegSTi1Rd8hEHjDTOytcMLr6ERKti44L40fDg6jH3O/ZPqexIOAu5l7pE3Oy+D3dcS4m7ZH9l/lDwQKpqh6YNUM+dENc5QN6CoPYdJ3R52TXL6u9xIHTVMu05s9cWeeZp1ZhxRs/PzYTXPhmJSsIMyHFaYeY87Yx26ZJ99fP0uyAKRMTfYDOCXRe5gp3vJB+mCiZSb9rTClB0gTbmxsjJLYu6Zc42crPRvJHJg9ht+5bkrWJH7mXHs1yjmQ5Wp0f/4+QpJSJPMf/qvE3/oVzPdO6qnzHzVcA4Ku34zsMZ0dUv/h2/DofVc6ThSKDQL2VqgBtkbNkRZ7AuYfd1Dh18iYYLBw9En5iSaYfEskCnke5y9L8AhQ1AIHe+sBmiR5GEUwXly+7P4BMnPxClm07gYJi4wed9H9wHXsWvYCPIsaT+umzn6QPsPRqbefGTqcN4svHJh8wf075jlgpAkOoaubQfhgfPJiGmZgUgqyzwT5ePa0ZmPE7MAomOCh1XyehWBK7ejh9XPku2tyNDH25zmeydo35xLKynVK0UxCyDH5nTUzNLm6HeFQsxEOsxV5REknuBpOXdRYuU6agWTSTP31wvaT8AqO1dydnTCxMRsKc2jOQa7O7TiOdIamGAlMhARIOUhiBjId/elPf9J3OiLR4aioqEg+/fRTqa2tVcck9p+cnKza7O9//3ulJHQF4IkYn9Wmd2SxakyCdz88aWR8/0dih3ZZ8+YryAzT5oWEwX2w1FJp3m09sBtOQUgjxDVTzi5eClmQ+oKipSYWJBPQ9jw5IzXVdcrBbeXqiNSDeNMd72OSWZshNRVtUl3OdVkLOGnu7cGaZo3iMtdWWagdR8bFS1tjg8SmZkjBXfdKNwA/K2+JbHz6VzANMx8i17OQbWMIrEbOw3RbmF+IbKvYp1pqdFAk3gNlIRKQByDFG6dLgqmPh2wzw03oG8+ppzcBYijB9/HroIxBDQXJQ6JPhZQMZMCE7HmStIf7iT/IHvpb6QLt2sPEf6ZMOHnHIx/mj0B0f8vCFMh64vudsj1AYPRMtwp/AiS7v3VJqqYgYwo3Ej78FmEzC6Cx/gxa6kGwHrHwIYwEDtEIp6GWyoe34rMtyDUaJA5orkFgVWLCaz7YMDk404a5PDtqG+aPkcDlSoDaaQJMu9///sNSVl4h69evl7S0NAXNr371q6qMkDmJ22kK5rrqd77zHQVcbqMp+GqUKQGoFIQPXKJTH/wvEpicIhX/+SfpqS4f1jTPPZNSGx0CfZFXByQXKRNsmpJWSpMvtFN4CbsWapRhyEi/eFUqXLR95diBaqkA5WBtZbvs/giZ4hFK4qqF8lgfG3KstlZh+6ghgEA5c+lKCQKFVtXpE9Le0iR15WckITNH/BDm0wNwtWYk5ji1CvtPcyRJd3+PnGopl46+TgkCkPaCXcrSPWxQTQNwU9m6R4+zjrfeSfBQ2xAoMVEEfE6yY+siR+pglySA2/ekTza9T6xDR945IftiLS0kOhDnd2Fe1yMHX+YH1e7RxqKMaA0BWTmNssZcquh4laltWoUyZOLnO5emaS5KprNbkhmtsaQkenhzf7mS3TNZNGNOM6Gh1rZ3gRS/TO4FOQSTbDOMhmE1X16aikTUgUqyX4J8m3/dclKZkwyoWtI271dKAryDk1NS9WW1SV5evjwVcv3ydTXLlAFUCsUGx5O4m2+TwJR0qXzhWWnZ9ym2Qszn+/Webz/bpnYKz96q8EVwzR4Y55JDsFx0bSo8eG3S1twjiwpSpam2Q+JTw0GIj6TDiEO1Yk85VgJVoF+1dPYhXMal/wGA+8GP3pMF167Fa500g2Siu6Nddr75qvQgybm1vkvgHeoDmAHv9DPOc1vFXsT99cEM1y9ZSNbOMJmajgaJgbZKhySOkRlntLvR+dM5nOG/XD5uaiaIcn2W3sfjC9dP422VEghm3y4wU3kKohmAvBzxIdJc2QGT9gWQbIzv5qK3wPoIZxkfJWAnqUAqzJCmnF8CvB8oN6vwPmH2mac3FSE21S7pcDBqAAf1XcvTJSo0AIT5yJ+KBdE4xFlnJ8BBCfd8IB5MY8ICxA6NtBuJo5nM+76CLLAtdUhSVJBUIpl2DCgOmWeTibt5z5piJDDdJDClANW6OI7cXGiqTwBU/yy1b/0/rFNCOzzHuqh13DnfYQJrSlwhrYOhABB3z14eZ4dWyhjT/TD3VpxqlhvvmStJGREyIzdODu+s0DhXV7sjJ7GORmeAsaIi2qBmEB4bJ0tvuFUcUTHSeLZSomDrryw+LhXFx0Zwl2EwoaHRGAcnQSIjnYVgeoMTUkSgQ5p7W6UPmunypFx4/PahW2uyRPygnYCK+i4aCQ51K0MwZ/f1xyAwvwbbPU98kf2lEmavB6CmoY67tq6NYUBDIb4SAtL8prouL624dXvJX3junOBDwcV7X0G2vhwgKTDlwiXA+9Eq/NyJh8B3D1YCAHlf2mRnSa3sO10vtyCGNxhOXk9/WCTtiK9OjQ6VPSfrNY9sekyIvA3t9WBpo4JrNx743gHbUkJEsGyAQ9OOolosJ4DUxLUzq1PzbiQwDSQwJQGV18U/OkoyHv6RmoCrX3lReuoY6oFyKT9maqdhSVIVNAezy3gTJ5sdAKnBwe0V0tLYjTCYATlZWC/L12Ug+0oPCB3a3TLTE7CCg9sBqAhpceIhm1CQS501R8KjY6WhqlKSsmfKp2+8Knlr1sPsW4ZXqa7BKvA64qDx4vIQuPCPk9TShPmyt+Yz4Vrq/JhZaA9y8PGDOc85Zs6Z/E7tgEkDvGkJtOI2NQdIInJse8JdDjkE4T7xtmqptWHtgRs8FMzDEpMRDi0bbFMTVHR86If8sY9AK71u3vTJZXqlRMr7wkoGbrXJn0kQQp+4b+OBMr2/eN/98aMi/UynJd5zVU1Ohq+XdpxWC4y1xs90cC9sP4W0gANap7CyCbGA5GQyxUhg+kpgygIqLxm10sS77pawuQukCqDauO0jjS/1nDXGy0XGxMH11fqoxdLuCwYZ2hU9FE42p4sbdFLxhdmLKdvmLUmQU8cb4FTUr2Yx6zCumQ50IvfpwOh6KPdx8mqsqoJpF4bUoGAF1coTRVJXdhohDEzIzBoEuUEJCY5AX2RKcoIl+8+KTJeZ0Vlapx+JATr7uqS+q1nigqPgZAJVA8WOFG7egFQr4A+awmK+v6QkkqqLXsLOfkf2QzP2H+qU+MFiKZI86KeceMfLhSEVNmip4fD4baxn/kH3dqz2LuWdvVErDYOzyw3wJL0fmmkmYh1NuXgJcCmCcaaW5sjrr2uqeLeumOsaqzPExn3dlb1qLCveeS+qB3AP7s3hBrrxkGl9vvgRmiOMBLxLgPcaX6Pz45DmPqUnL0NjWEg/WFNTo3VYLzExUZ2TGIsaFBSka6kMqeG9W11djRh/B1LBXfkloykNqNYlCJ09RzJ/9E9IIJ4j1X9/SbVVHz+kPRsGKKuep3cCRW9QrNSHzUasHj17x5t7cQ30QlgMSFyOYtNb3oJTEZxyxgKJrx36YWeN9CsJsGWORe84qP5suZTs3y3BoWFSWnhYusHY1IsHA4LwyA2DqkH+Dv1OYLFKYcMJaexqUg9XuoHTBEzT74bMa8Hg6wRSv0EnsFrHeHsfGAqDv1EYdtfjZU2ro7UJ48k+ZyVoCMQUQ86bdnTv6KchOxid4JzU1tQDndh1tKN1LvaTTtYA67kIx7jv2mxZPy8JITEXdl4X29d0qM/7yh9hMVahthroZ9eHw/FX3lmLXtN2HDf2irI+HYYt0LXadH1nf7w/6W3p9Ctw9jJ6f9OXnAWWFDwY8vfFyY776c3JY/idD2wD2G8taVA7dm4nnzcnWOdx7IdfWI/bWVjXjnNkIgu2y344Ju62vrN/5zanZ71O2jiWD3L8rVttWfXYBn+nfOc2tsOHX+dvl73yu5N1Sh82MT6+65hRj+OjDwUflDGj8AAdJ7/znDk2ngvbdY4Rx3A76vEh2bIOcJ9VRrdxC2YvPR4OkWhT5TJckeejD/rof1hEw+forMAmnedN0MH8hXGzkDCFfVjnY7XL+sztTPmyOMfk/KwbMBaeo7MvysTZLsfIYsmQ58d+WXgt2A7HTZlZsuU9ERzgJ20gdWjw65HIyCj56KOPNJF4Tk6OEjuQjpChMzx2+/bt8vDDD8vx48elEVZCHr9q1SpZtGiRFBYWyq9+9Sv1AF65cqWQorC+vl5IBHElAPYLAai8GHZHuCR/41sSvnS5VP71GYTLbNMLAvWTu70U3ADY3xydK61+4OzFzTa28Afih8k8GAT4dEai6dcPprKCm7Lh4dsGM7CTbnD0OPQ32I0wHQCV897RXYyjCghGUnTQICZmZiMNmh+8fVfIvg/ellOH9w/feFYr6NMWiMM5difA88dQ3Y51LsSizoueoc5H3aA1dP4wh29kvNkRNuONk8Fqne8dnbhB2/0kDA9pw78J190AR7tE9ZdIjL1OWkBG6PxZu1XRL5yEgkDy4A/npC44urj81sdXvoAt1IJCsT76FTjIcL00brqmXbsAWV1IFd4Z1EyDXGKGmSh8YXq06+3p3hTu2xassZa0deqxrju5/BAb4C9pIe4x0iN1cGxXZzcmsgZoCUnS2tYCUzCtL9je1a0AwYmT4NKLB86YmFjEDvpLeQVC0Xr7JDsrC2kGW8FycwahD5GSBi9N8rHyd8iE0GfPnpVwhESEhoao82ApSNKTEbzPibS5pUXborMeNRdOqAzyZ79JSYlS38CHR3gEYJ03MSlBgYJaTSg87klbFwKidYJHYiJoR6uqJQjHDg5P9g04NgbepG2tbYhxhLc9Em50dHSKI8yBdzzY4hx7+3q1LU7ujnCHglAExlFZWYHxOiCLVsnMzJAqtO2H3z9lQoL3s2ersATThLhuP8nKzoa21Sbtbe3qvdoGzQvV1IJFIOlEFEBHe4cCDx0Yo7H01dPdo+OnDEhk0AO51tfVadymLwAR+AjtrVrBIy09XWVEgK6CpsZ3glo/HMlSU1OU8zYYmls4xs9rdPLkKZV7RGS49sNYT/ZBqj8eHw5Nj4Xj9McDDCc9Am0XHCwDEGdP9iKOoQrnSDnTmZGTXcKwBtnU1CSJiC8l4Dc1NesY2X4lrnPYMPF9QkIiwhQ7pL2uXJ568T25+557FCQ3btyo2ufy5cvl9ttvl3Sc244dO5Tflxoo+XsfffRRpSP87LPPNDaV1IQWsxL7/u1vf6tAynvr3nvv1fb0hC7xz7nQ5hKb/HwPC505W7L/2xOS8uDDEpiQCpMpnoDxI/FYMNv0hyDuNGbZOKYi1sd1lwB4QS5bkyG3fmO+LFyZLGkgw48CucOR3WelrKTJDTS1D9z9vkPQOjuxj7PZcCGpc1xaBpiWIuX1p/5Dzp4slngA65Lrb5GoRIyTN5pL8WGycJfj+SU3FmuIaflyPTTSW7LXys1ZayQbae9GnZdE/Pr5tHv+y9qNvKjdPUH6w3Tp1u2jz1CvZPuccNs27gvGOBjoK45YPADwl3+JxTInkrnnn+/I1fhSA6aXKEzXw3B9SCPIJ3yr0Lkof0asrPT2yokFkDlkH0KzDoA8xPXFbZ0O33MeOzMcXu8n9yAtHFhtwArt11AiNy5MlzO73pGSrW/ILUuyxNFVKan+7bIuN1WumREtwa1npP7IFskI7pLl6aESi4QSTce2y2kcE9ZZIdEDdZI/M066yw5IVki3rMQYQ9rLxFZzTApwfNXBjyS4rVS6Sw/IYNVRWZaOjFJnDsiX82eLrfaY9FYckvYTe+T2FSCycCDUrKpQv+fGIyVkRphUH/5YfOuKtD22zTZi+msxHpzv6b1StOU1SfYFl3gVyFXw+cC7LzjrZoVLQMtpacRYK/Z+IA2F26S/8jOR6mPScHSrRPRUyYntb4ofHBRrDm2W1uJdUnXgQ5x7m5zFexLabDy2TaL6qjH+M1K6820992j0zbGV7X5X+Lli3wcSP9QAGb4rzUWf6vga0deSFLACQb6ncRz75TVdmOgvXaX75UuZ4Sqn/JmxEtlbLTU4x/SADt2Wl+Bse1l6COQdJuV738M439DzSgto1zpx6K/q0Edy3fxE/b4gzi4txTslPztSlqaGSGDzKVmZFaHbessOylB1oVTu3yTle97D+Z4A9et+HQc/x6KtuwrmyHqkBmw6vkOWJAfJvBgbrtd+va5zowHeOzZKXgLimVGX7UThvE99+pbMjhyUlMBuqcLSWBlAkuDImNM777xTQbAKy2idnZ36ULF792658cYbNfsMH46YgYavFjxsvfjii7qdD1s8hnX5UMcY1dOnTysxhPUbudT388+8l9ry53icHU+N1Fazf/KvEr1qPWImQZMHQBtbqHU1JF4jzUMwr+LzuMKnYjAhxSaESNFnuMHzU2TRNalKN0j8a6jB0+M4EIGJCcQIAjCyDFvaLiqSXtAHT2KRcQnKjESHpJrSU9BYs/RJcaR/1B3qxXhchsQn9OjgSFkUP1fXE042l0GLaJP5sTOhrSLDjB4M8xJMK3Z8dz12pN2RD6yNJ1donjDGjGwd/8Emyf17QSBxnubQRCDMvv5I73axhSMhG09iZLA8uHaG/Ns9i+XWRSlKPHCxbZn6niVAQI3AWvTFlDZoqLUd3VLn4dWEXKgut+a4ZgcRwtXYAi2rvVOq6xpAjQnTLe6zdhBENLW2Sw+sPG3QYhl+049473Z8vv3Or0h8Uors2XcQFqBg+fJXviYrC1bJ8eITyJTTK6VlFTr5VZytQegYtExoSJ9s2yGZOTOF/QWA9KWyqlZ27zsgR48XSxP6Zx8+8Hqvqq2XmrpG7TswOEzHdramTvf3wJGqFTG2NRgnqUbLKqtU2+W4eQ6vvfGWjov7OI5bbv+yZOOhvbq2QewBQTqGI4VFkjVjltZnXy04b57LzDnz9Jzrm1olAo6IS1cg/hyaalhElOzZf1AOHz3m7A+ymTl7nuQtXionTp/RcbKvITglsj7P5+Dho1J04pSeC+WZkY0Hg9lzZePb70llda0kp2Xo+fBi9IMxjWOgzCkn8t+uuW6DJCSnSmFRiV6vTZu36MN9cmqGjvWOu76KKQFWOMgs1BGpGuC7H3woi5Ysg7+Hc62R/fL6URZMUM+67KO2oUmvaUp6lsxdkCc19Y1wVhuUTDhdpmMZrr6xRVraoFXjWnTi3mmCls/xlVdW671BTfKZP/9VElPSJAdOm7g9cA8E4V5wXsvik6fl2b88B60fVkism1ITp2mYmibNtCTN5/e9e/fqOzVWgigBlefO/QRgSzPluirTvxFkqUEzVnXNmjWaCm7czXyRG74wJl9P5x02bz7WVZ+Q5t07pfq1l6XtKJ6iYNalE5INpPe9cbOlMiwPVlV37dC1LV+sPZH8/jS8eglqx/ZWyZI16ZKQ5pCzZeOThmOFRfq78KMkMxMuslV8sU5agyes4r07ZfGGm6XhbIUU79sls5fnw1O4zaqmffj7B4qfD1OkOcdFsww9efeADD8V3shnWitlS/lujS3MT14qyxIW6PHUqLnm4Q+S+3YAMo/zVDisgUEfmKACJCaSIMiHjfF12UIYHg7SfcqlcAhxrzan+Xlsm5SL3eEvgTCL9zYw7nZsjfHfOVbm3Azyt8uti5Pl7hWZMi8FjlgXcOz41swWbxKgidYOiwWZjK5YOReaohOa7OgU8uSTT+qE9dBDD8kf//hHmTt3rt7fTz/9tHDtixyrNPPxO9eyuG7GtS+uj3EdjGbYG264QZYuXSq/+c1v5Gc/+5my42RkZOh6GesvWbJEJ0+y5XACfeutt7RPmvCOHTsmP/3pT/W0v/a1r8mzzz6r33m/ckzUakhNxwk6KipKmJHkyJEj8vjjj0sWTM9sm+ty7733njq8kOru4MGD2gcnZ67BMX3YqVOndD/Hc91118krr7yidSgDalE0Rb799ts6zgceeEDWrl2ra3scb15enp73X/7yFz1fZlBhjk+eO9f1vvvd78KkjOUUODLOmzdPx0VNi+t+pOKbNWuWvPPOOwoa3E/zOM/p6NGj2u6tt96qmhnNm+zve9/7njrwcP/dd9+tsqHsaT7luXBs1Nh4ntyen5+vdajBcYyU6csvv6z1eL4ErtWrV8tLL72kIMXrum7dOj3/4uJiyUWI4+LFi9W0umvXLt23YEGu/PrXv1a5P/jgg5qKjTJmXWaHIfk974M6mK0JiDzHTz75RDZv3qxa5IIFC/RcaK7lHHvzzTfrvbRv3z4lwud9RbIHXkPeM9RIv/Wtb8mMGTO0T94H/Mw1Vcrh9ddf1zq8Py+32HBznefncbldTI7j+2Hjr9/0LoD1b9JdUYpJ3yblOffImdBFCq7eRukDBw7GoJK8gQvw4QhiX3VzjnwGk+9pePhy/2gBy5Adnr0d70t7Qym6cNfYKGreAAFYm+nDD4ZmYLIjDQLkLXJ83vQhoeGSn3G3hCPbzSCA3wLU/3t8o2SD0IHk+AUpS9UJ6HDtcTglFWgoDdWGnoB+2TpwCMw29boGMjo290+DANToyGZZMHsPfnidmOhcz2O0rh0+vgftN8r7Q9+GKdt7eAy1oP6abik/ggeP0cPHfeKaK05RArEunY2sJt9elaOhMKS+M8VVAkOyZNWNMnDNDy7rIYPydiB+93/ds0SuBYH9hZYjze3yu2PleLBzvy/oePaluEj5eib4q8/RGE1ppaWlSgFHYOC6Iic23v+c9Lm2yQmZL67L6VoaAIhASABhrksrewiXMOhcwhfBmseyDrfTg9O1EIjYBzUStsu+2D+p6KiRcJImYBGMCKTsh+1wzY0vTuBcV2U/1H7YJ9vg2Lmfn1mHYMlx8PdKPlmeBzOfsA6PIeARpGNiYhS42Q/75VhYl4WAbo2fbdB5huDLcfHF87cK6xK8eCzHR7Bj2+yT2hbBnv3xGJ4jZcDzojwpW8qCfRNoOGbKj+NhPfbLa8Wx8Lx4HLU6bmcdFsqV7bA++6I8eI2tMXJMlAsfNCgDfqfnLfvkd8qDsqNceW2olfJ8+J3nwgcGnjML2+AYOF9a47S8eC0Zsy7Pk+dCmbE+6/IcLPlSO6dcuY3X2yrsi3U4DvbNsfJasl/rWKuup3c+BPzkJz9RoB+7f9oAqnXi3bCd1wBUawpPyYGAtdIKb1cnBZ9VY/w7rituJGh1sEXkzI+VuGSHHNhejvAXOuG4TisAX6mWvqaN0tfV7jxoTHOuzy85i5dJIMwpx3dtR9sgT0Bb9H6LjEwEoH5VAuGFC/hRQMVO2VSGNaWmcukCMf66dGi2YGGq7qiR9RkFEmzHxIJx9gcMyraBw1LZXgP2JO8gNQizUFREn+TO2YubqM4roPoi0XqlX568YfuBdA6ANALj8VTIYezTNYB1oXrkhgXZxJiuCbLk36V3aQ6yldyUlwzTbqpmMvHUntl25QA1AZzH//b1JbIImWEutPTAvNfQ45mnORhWkAhcR1OMBKajBM4FqNPuVxGIJ7B0EEJEVMLjr7AVa6P1SszAJx4+5bjh4/DdYm2j+bcMWWbOlDQCAJ3apvsNhac3X8Sl9kKTsw4arkAgpfebHa8+PNkBwRQAaZJzfdRnPTtStNnB02u537IOYftLSXmaQPx0cznMv4clKihCFsfDrA0wteowI6pdU7gRwrwXcvr29MJ5odsP3nfe63F9iqxJUaBR7JAMr4BK7d0nxA7npCDE5Y4yK1FDosNRCJxi5qdFa0xpwcx4JVf33qvZc8UkgNsgDBpq+EWafANgeUlCDlRTjASMBC5cAtMOUC3RhCfHyLKkGJmzNElOHauH126VnD0DLz4FPs/AymP7sdjOMgYvh7chprW9Em1wTXJURaOXcRAcpdZ8/dsSFZ8oe9/bKEW7t0tLfS1A3AmwBHNngWMRokqR2XT4u7UV4ST2EFmVulyWJ4JsAZSDA9AWSbnA9VVqyrTa+mB4vjDnnhtOnePvBO53dwcCUF21bLdu8QUmalu3JNgqpMKWdk7vpD6sRUelghcWzFH98Byh80kw1khXzY6TWxanyNLMGIkGV6wpV08CvA/CkBWIZl9TjASMBCZWAtMWUClWgmJYZKDk5cMjLy9eHY8OY220pgJcub0ETmqGqOSCN56AlG2RbjDAH/lJ+2A+BbBYJPfcx0Ii/JiEZDm+91NZcfMdSN9WL7NXXCOtWFs6C7YkH9jztaAvHyCjDe2NBUVqoYTdYKRts/kHya7Kg1Lb2SA3kNjBRk9f7B8AFDOFm8uYnQ2P/0ttGFF32HEGL+eDwthalIAPzL7x/XBV91kmvdB+vTWN5qTbHx6lscHS09gjGxDmcAdShC3LinEjFhjbh/k+sRKICApA4nUDqBMrZdO6kQCcQo0QnBIICvGTucsSJWtejNIKlnxWp+/tw2QOdD5yXy8dIzmsVw72NiI8B56/MJO6FaBwJDTT8qKjsuWVF9S5admNt0sgtNayY0fGt0tsg5mUYO4Kqgy0ZiGgEbzmxcB1fjBTQ2UIproPb34Im7Ex9ZvrwbrX/Q8fDppbERZ0nqU1jiQOvL4OWzN4lWLQiHvDatbFpgA4FsUGB8r6/GjJDQ2WZdkg4Hdh6HHv3Xy7WhJIQKo212wzV6tf04+RwHSTgAHUMVc8EE/yMxbEScYsED6Ut0kpPHkrTsFLDmbMbjghMY7Uk5bq6wvtEIHIPd1IwQZtcWw5cWiP+MOj1w+a6KFPPpCM+bkSk5QMYvlaN22WIT3+dDDyoDA2grf3SH2JhkEsTchF2MmAlLWeldnR2dAenZeSWmcIeILtIHgYgmPJucuQNDYBpDNohvXuwUtADRusAZSWAVDBqA9jMwuBtB+viEB/yXaEyIKoMMmLckgmWHTGeofqAebPRUoAj1RYT/d0v11oQz64PnMzeM1MMRIwErgSEqAnMOdZT8UAqiepYBvpBlOyI/TVBa/VuqoOgGu9HD8ACi8kEx8kWEHD42RHTdI2hHyogxVQ3nSDW6vUbE8d3I+6cFoCHVcvXOA/ev7P4oDbe3NNlTorWQeQmCEYBA66Jjp80Zya6pBsrdwrXSDE7xnoleLGUrk2dZlUwZt3BkjzbT5Oky811QAEUHNtth/rrDzWW+HY+wegzfokQ2suQrUxmvXIgeBWHeyRVHupFA4gbpfmbWjsyeAtXBkbKQujwyQZIBpqQl9GJHb5H+Ax3t8h1W/9uz7EXXJ7uId+eyhcng8xa9eXLENzoJGAiwQYq8wwG0/FAKonqYzZRnNwWk6EvpauSZPTxxqktKhRaqvAxsJ0bnRUGmyR1rozQFfLuWhMI/iqFIhAMXr7NlRVSH1lmTPuicimBbogzMVBgc7Yr+GN+kZtsK23Q0kcSDf4Wsn78uaJTZIVkabga9UloAb6BiIUyGrT2uP5fWDAFzyi4RIZjiPHPHSRWGKIcbA4J5IDpPpUSi6STKeGx0hBnENyoJUGjIlT9NyL2XopEvjog3dkAPywl1N4F9BZzKJ2vJy2zLFGAkYCSJEJKyNjaz0VA6iepHKObSTJn4e1Vr5am0ACXtMB7+A2aa3tkTKfJGmpBZ3WMBUWkEhbGll7dQE59eod8ex1dkg8o2YZ4IenH9YdRjiCJAEyMSRWzbx+qHN7znp5o2STevj66pqtEw35N2DID7qmN23T2Zf1tx/W29p6P4mJgrfxsAczOsY47AjajkecbCKCu3NARzYXnsqz5EZ89ie14XkKA6YZzM+g65HzxzEMBic7Cd+5PSMjQ4O/GUROFhZ+Z0A9WVYYiD979mz9zsB40o6RBWW6lBCQiZtiJGAkMHUkMH1mpwm4Jg54CPOVPjMKIBonjQUzpaGyHBSDpVJZVChNMOcSXHu7wQICwKDnr8a64t0VZEaGBjSkidbXRgIFd4ck1slPWswKmrHBD4B3U9ZqYcYZ5kJ1wilrDYk/UrjRU/hcRT18Ec7Th/CWzi70Z3PgyQvabVASODPnyukzvdLXnSALV9yF7ZEY94WbDJlvkPRoPNcf/vCHbudKtpUXXnhB6eTIskImFZadO3fKU089JU888YSy2mzbxmxBQ0piTVAlbdl99913rlMy+4wEjASMBD5XCRhAvQLiJ0sQ6QSZlo2vuSCJ6EN6p7bmRqkrL1MCfHL3ttaDkBvbukDR1Yv9LARWBVe8EwxJkMA4UpcwVq3HP4FwUNE6w3+D/YKEL2qwrsWvF9oprNDWwrn1boE4SSxIx0X6sDCkvUsCc1HmjHX4niUBQclItxQsJ858CIelVtCDgWLu3Njs2rV+JgXanDlzNPeg1bdViVRh1E5Jm0YuTdYtKiqS/fv3qxmFmiqp20gVl5aWphyepBQjz+ZorK7Vmnk3EjASMBKYPBIwgDoB14JrpMx9yldMUqrMQbwpSyfyIXa0NCGpeLu0kxO0AQCLeNQWAm0TgBZ5FW2IIbXDcckG/mAb2JgY02p5/I4FTrfvAD0bnYIA7kwm7QgJU4J95l0kZyY5OWlCpcmUpN4KpsPcoxbQuouCIM01VJJGeF8Xdj/G+Y1rDDTP0mw7ttCcm5mZKVu3btU8hSToJjE3ib2Z65KcnyQMp4ZKQm4CLnlMmbKJxzCTREFBwdhmzXcjASMBI4HPXQIGUK/iJQhG3ClfroUanJLjYzGzC1lnOlqRUmggFCE4dsS1ggsJpPyDI2ubrke6f6YW6YPcrT7wTvbF67bAZPFDOAu90Qhw1O42bdqkJlSC10QXupZbL54jtUyaeDmeRx55RLVyZgJhNg8C/okTJ5Qwm5oqs3zcf//9Sq7NzCMEfK7HXnvttVrfAOpEXz3TvpGAkcClSMAA6qVI7QoeQ7DwhRbJlx8AxxETe0VaD/PSCk2uE13oQMR0VcePH9fUUitWrNCUTwREguprr72mIE9tmcmAad5lZghmoGCqJ2aU4AMAQZaJgL/5zW/qmixTODEjhClGAkYCRgKTUQLTLtvMZN77vRcAAAXhSURBVLwIV2tM7777rqarYo7F8xXmWKSJmCbZi127ZKolgirXamniZYompkgicFJrLSws1HVUegBzn1V4DNNNWTFe7J9ppAiiTMNELTUjI0PN1dYx5t1IwEjASGCySMBoqJPlSnyBxsH1WiYFdi1MWmwVmnQ9Fa67uhau8/LFwuNd23CtZz4bCRgJGAlMBglcnLfJZBixGYORgJGAkYCRgJHAJJSAAdRJeFHMkIwEjASMBIwEpp4EDKBOvWtmRmwkYCRgJGAkMAklYNZQJ+FFmaxDYvgLY0IZL8pYUlcaQHrp0iuX4TF0YkpMTFQHI8aP9vT0SFZWljogMba0rq5OZsyYoU5KZWVlEh0drXGyk/W8zbiMBIwEjAQuRAJGQ70QKU3TOgRMVw9f8vO+8sor8oc//EGB1VUszSCqePnll6WkpETDX1j3ww8/lDfffFOBlvvo6fvSSy8pjeCOHTvUc5c0hARcU4wEjASMBKa6BAygTvUrOEHjpzZ6+PBhefXVV5WhiHSBDGehhy5jScfGs7I+6xAcc3JyZObMmcpudN11142E3pSWlmodEktQkyXY8jPjTnm8KUYCRgJGAlNZAgZQp/LVm8CxExQZE0pyhjNnziiAUmNl7Kif3/hsM4w3Jd8uY0WfeeYZJbtnzChB87nnnlO+XvL3pqamyubNmxVQqdUSSB9//HH5+9//Pg6kJ/D0TNNGAkYCRgJXXAJmDfWKi/SL0SA1TL48FWV3AkEDC0kcWKi1kgSCYEuzLtdT7733XuX03bNnjxI6MD71wQcflK6uLq1DViSmbLv++uuVt5faLUn7TTESMBIwEpiKEjCAOhWv2uc0ZjIXkciejkRcHyVtILVNlgULFihXMLVY7r/jjjtUWyXDEYGSoEnnIxZSDLKQ6J4a7b59+5QBydXJSSuYP0YCRgJGAlNIAoZ6cApdrMsd6sVQD3rqi2ukFqUgCe3pyUuQZaHJl0DaitR0pAok6xHXSZmajaZefrdMxdRqmaaNVIQ8nl7DbIvfTTESMBIwEpiqEjCAOlWv3CWM+3IB9RK6NIcYCRgJGAlMGwkYp6Rpc6mdJ2q8aafZBTenayRgJHDVJGAA9aqJ2nRkJGAkYCRgJPBFloAB1C/y1TXnZiRgJGAkYCRw1SRgAPWqiXrydkRWo+LiYg1ncR0lzcMMf9myZYvs37/fjR2J2+nBy0LChu3bt2sycH5n3Cq9d00xEjASMBKYThIwgDqdrjbOlTGkroUcvCRVePbZZ6WxsdF1l5w6dUppBrnxk08+kb179+r+AwcOyM9//nMFUSYAf/3113Ufk5KTp5fsSow1NcVIwEjASGA6ScAA6jS62gRTMh+9+OKLGjPKsBbGfjIeNCoqahz9n7+/vwIj40ZJNcjv1EY//vhjTSBOysCBgQF9JSQk6PEE1aSkJCVyIJG+KUYCRgJGAtNFAgZQp8uVxnnOnj1bcnNzld2ImiVNugRZ0gGSoWisBzC5e0k/SBCtrq7W/b/73e+UFYkxo9zO4+fMmaNMR2RColZL8P3lL3+pbEhjOX+nkbjNqRoJGAlMMwkYpqRpdMHJw3v//fePO2OSLPBFbZOFpl9qo1w3JZnDk08+qWZcZohhGjaCMddQmYmGJA033XSTvp5//nnJz89XJqTVq1cruT6PJy2hKUYCRgJGAl90CRhA/aJf4fOcH9dQN23aJLW1tULOXTIWkVaQIJiXlye7d+9WEzFBtqCgQLPNEHjff/991VhjY2O1B5qFaUK+7bbbFJgPHTqkbVnsSOcZhtltJGAkYCQw5SVgmJKm/CW8vBMgOJ48eVIb8QXhfVpamjQ1Nan2ScpA5jCluZfrpTQNWwBJykCaiC26QIIp10wJsPQaJg0h11Ut/t7LG6U52kjASMBIYPJLwADq5L9GZoRGAkYCRgJGAlNAAsYpaQpcJDNEIwEjASMBI4HJLwEDqJP/GpkRGgkYCRgJGAlMAQkYQJ0CF8kM0UjASMBIwEhg8kvg/wMDl8pf86Z+0wAAAABJRU5ErkJggg==)\n",
        "\n",
        "This plot displays the top thirty miners by reward. Of these thirty, it is observed that three of the miners hold a significant amount, well over the majority, of the rewards. \n",
        "\n"
      ]
    },
    {
      "cell_type": "markdown",
      "metadata": {
        "id": "KN05e9JCeTlL",
        "colab_type": "text"
      },
      "source": [
        "Next, I wanted to create a visual which helped to depict the top miners, ordered by block reward, of all time. To do this, I plotted the total rewards of every miners who has ever mined Ethereum Classic from the genesis block. I also limited this query to just miners whose daily block rewards are greater than one hundred. I did this because one hundred is still relatively low for a miner, especially one that is active. In doing this I tried to sort out the more “active” miners from those who are likely outliers. \n",
        "\n",
        "#### Ethereum Classic – Top Miners of All Time (Ordered by Block Rewards) \n",
        "![image.png](data:image/png;base64,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)\n",
        "\n",
        "In the above chart, there is a noticeable spike June of 2016. This is immediately following the DAO hard fork after the code exploitation. It is unclear by there was such a spike in activity for some miners rather than others. It could be that many miners did not want to partake anymore, and those who stayed picked up so much activity that they had a great reward from that. Likewise, in September of 2018 there is a very noticeable drop in all miner rewards. Speculation could suggest this is related to the updated name “Constantinople”."
      ]
    },
    {
      "cell_type": "markdown",
      "metadata": {
        "id": "Vcb3QU8FewHC",
        "colab_type": "text"
      },
      "source": [
        "Next I pulled the information for the “Top 20” most well-reward miners. Also referred to as a *rich list*. In pulling these top 20 miners, we can analyze common patterns and behaviors of these machines. \n",
        "\n",
        "#### Ethereum Classic – Top Miners 20 Miners (by reward total)\n",
        "![image.png](data:image/png;base64,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)"
      ]
    },
    {
      "cell_type": "markdown",
      "metadata": {
        "id": "CiPnM_DxfBcj",
        "colab_type": "text"
      },
      "source": [
        "Lastly, I analyzed the daily hash rate. Hash rate is a measure of difficulty over block time. This is measured by getting the delta time of each block timestamp from the previous block timestamp. This is \"averaged\" out by day. That is, the query can average out all difficulty and delta times per day and divide them by one another. I further divide by 1 billion to get the GH/s.\n",
        "\n",
        "#### Ethereum and Ethereum Classic – Hash Rate (January 2016 – December 2019)\n",
        "![image.png](data:image/png;base64,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)![image.png](data:image/png;base64,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)\n",
        "\n",
        "The graph above depicts Ethereum (ETH) in blue and Ethereum Classic (ETC) in purple. The area emphasize by the blue box is expanded on in the line graph below.\n",
        "\n",
        "#### Ethereum Classic – Hash Rate (Jan 2016 – Jan 2019)\n",
        "![image.png](data:image/png;base64,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)\n",
        "\n",
        "What is being shown above is the drop in the Ethereum Class hash rate before and after the hard fork in 2016. As seen above, the hash rate declines to nearly zero, and fluctuates around the 1,500 mark for most of the next year. Only in July of 2017 do we see Ethereum Class begin to be used much more frequently. However, as is shown above, Ethereum is used so much more frequently now that Ethereum Classic is difficult to chart out on the same area. "
      ]
    },
    {
      "cell_type": "markdown",
      "metadata": {
        "id": "LmsbrZZkfnc8",
        "colab_type": "text"
      },
      "source": [
        "*__Conclusion__*\n",
        "\n",
        "Overall, it was more difficult than initially anticipated to compare the two versions of the Ethereum cryptocurrency. Although the datasets are set up so similarly with the same column headers and dataset types, the disparity in usage was quite significant. This difference made visualizations and direct comparisons difficult, which is why the focus was more-so placed on Ethereum Classic rather than both equally. I found that there was a significant drop in usage, particularly the hash rate and miner rewards rate post-hard fork. The hard fork taught the cryptocurrency community a lot, as well as stirring up many forms of online debates. Whether or not one views the *new* Ethereum as a “pure form” of blockchain is up for debate. However, what isn’t up for debate is that the future of blockchain technology is endless, and this one use-case of hard forking is only the beginning of patching blockchain vulnerabilities and applying this to modern life. "
      ]
    },
    {
      "cell_type": "markdown",
      "metadata": {
        "id": "zVqr-0-y9es_",
        "colab_type": "text"
      },
      "source": [
        "### *References*\n",
        "\n",
        "> Bartoletti, Massimo, Salvatore Carta, Tiziana Cimoli, and Roberto Saia. 2019. \"Dissecting Ponzi schemes on Ethereum: Identification, analysis, and impact.\" Future Generation Computer Systems (Dipartimento di Matematica e Informatica, Università degli Studi di Cagliari, Italy) 102 (2020): 259-277.\n",
        "\n",
        "> Bartoletti, Massimo, Stefano Lande, and Livio Pompianu . 2017. \"A general framework for blockchain analytics.\" SERIAL’17: ScalablE and Resilient InfrAstructures for distributed Ledgers, December.\n",
        "\n",
        "> Chinchilla, Chris. 2019. \"A Next-Generation Smart Contract and Decentralized Application Platform.\" GitHub. June. Accessed October 2019. https://github.com/ethereum/wiki/wiki/White-Paper.\n",
        "\n",
        "> Crosby, Michael, Nachiappan, Pradan Pattanayak, Sanjeev Verma, and Vignesh Kalyanaraman. 2016. \"BlockChain Technology: Beyond Bitcoin.\" AIR: Applied Innovation Review, June.\n",
        "\n",
        "> Ethereum (ETH) vs Ethereum Classic (ETC): What’s the Difference? 2019. COINSUTRA. September 6. Astra – Bitcoin Community. https://coinsutra.com/ethereum-vs-ethereum-classic/\n",
        "\n",
        "> Gencer, Adam Efe, Soumya Basu, Ittay Eyal, Robbert van Renesse, and Emin Gun Sirer. 2018. \"Decentralization in Bitcoin and Ethereum Networks.\" Financial Cryptography and Data Security (FC) 2018 (Cryptovest).\n",
        "\n",
        "> Grishchenko, I., M. Maffei, and C. Schneidewind. 2018. \"Foundations and Tools for the Static Analysis of Ethereum Smart Contracts.\" Computer Aided Verification, July 18: 51-78.\n",
        "\n",
        "> Tikhomirov, S., E. Voskresenskaya, I. Ivanitsky, R. Takhaviev, E. Marchenko, and Y. Alexandrov. 2018. \"SmartCheck: Static Analysis of Ethereum Smart Contracts.\" IEEE/ACM 1st International Workshop on Emerging Trends in Software Engineering for Blockchain (WETSEB), August 27: 9-16.\n",
        "\n",
        "> Wood, Gavin. n.d. \"ETHEREUM: A SECURE DECENTRALISED GENERALISED TRANSACTION LEDGER.\" Ethereum & Ethercore.\n",
        "\n",
        "____________________\n"
      ]
    },
    {
      "cell_type": "markdown",
      "metadata": {
        "id": "175hrXGZ4c0L",
        "colab_type": "text"
      },
      "source": [
        "# Installations + Setup"
      ]
    },
    {
      "cell_type": "code",
      "metadata": {
        "id": "TbtqPoJXSmqN",
        "colab_type": "code",
        "outputId": "0753086e-fbb1-4ca3-de97-41b961956346",
        "colab": {
          "base_uri": "https://localhost:8080/",
          "height": 34
        }
      },
      "source": [
        "from google.colab import auth\n",
        "auth.authenticate_user()\n",
        "print('Authenticated')"
      ],
      "execution_count": 0,
      "outputs": [
        {
          "output_type": "stream",
          "text": [
            "Authenticated\n"
          ],
          "name": "stdout"
        }
      ]
    },
    {
      "cell_type": "code",
      "metadata": {
        "id": "ejSC--cRu2i1",
        "colab_type": "code",
        "outputId": "b769749d-6a7d-4eb8-99c5-410688cf6f9b",
        "colab": {
          "base_uri": "https://localhost:8080/",
          "height": 68
        }
      },
      "source": [
        "import numpy as np\n",
        "import pandas as pd\n",
        "import os\n",
        "from google.cloud import bigquery\n",
        "!pip install plotly\n",
        "from plotly.offline import download_plotlyjs, init_notebook_mode, plot, iplot\n",
        "init_notebook_mode(connected=True)"
      ],
      "execution_count": 0,
      "outputs": [
        {
          "output_type": "stream",
          "text": [
            "Requirement already satisfied: plotly in /usr/local/lib/python3.6/dist-packages (4.1.1)\n",
            "Requirement already satisfied: retrying>=1.3.3 in /usr/local/lib/python3.6/dist-packages (from plotly) (1.3.3)\n",
            "Requirement already satisfied: six in /usr/local/lib/python3.6/dist-packages (from plotly) (1.12.0)\n"
          ],
          "name": "stdout"
        },
        {
          "output_type": "display_data",
          "data": {
            "text/html": [
              "        <script type=\"text/javascript\">\n",
              "        window.PlotlyConfig = {MathJaxConfig: 'local'};\n",
              "        if (window.MathJax) {MathJax.Hub.Config({SVG: {font: \"STIX-Web\"}});}\n",
              "        if (typeof require !== 'undefined') {\n",
              "        require.undef(\"plotly\");\n",
              "        requirejs.config({\n",
              "            paths: {\n",
              "                'plotly': ['https://cdn.plot.ly/plotly-latest.min']\n",
              "            }\n",
              "        });\n",
              "        require(['plotly'], function(Plotly) {\n",
              "            window._Plotly = Plotly;\n",
              "        });\n",
              "        }\n",
              "        </script>\n",
              "        "
            ]
          },
          "metadata": {
            "tags": []
          }
        }
      ]
    },
    {
      "cell_type": "code",
      "metadata": {
        "id": "34IrhsmOu2do",
        "colab_type": "code",
        "outputId": "35a0f3ba-bf77-4646-803b-f9f1e7d73bc6",
        "colab": {
          "base_uri": "https://localhost:8080/",
          "height": 17
        }
      },
      "source": [
        "import plotly\n",
        "from plotly.offline import download_plotlyjs, init_notebook_mode, plot, iplot\n",
        "import plotly.graph_objs as go\n",
        "plotly.offline.init_notebook_mode(connected=True) "
      ],
      "execution_count": 0,
      "outputs": [
        {
          "output_type": "display_data",
          "data": {
            "text/html": [
              "        <script type=\"text/javascript\">\n",
              "        window.PlotlyConfig = {MathJaxConfig: 'local'};\n",
              "        if (window.MathJax) {MathJax.Hub.Config({SVG: {font: \"STIX-Web\"}});}\n",
              "        if (typeof require !== 'undefined') {\n",
              "        require.undef(\"plotly\");\n",
              "        requirejs.config({\n",
              "            paths: {\n",
              "                'plotly': ['https://cdn.plot.ly/plotly-latest.min']\n",
              "            }\n",
              "        });\n",
              "        require(['plotly'], function(Plotly) {\n",
              "            window._Plotly = Plotly;\n",
              "        });\n",
              "        }\n",
              "        </script>\n",
              "        "
            ]
          },
          "metadata": {
            "tags": []
          }
        }
      ]
    },
    {
      "cell_type": "code",
      "metadata": {
        "id": "uBjgPyyWSqt9",
        "colab_type": "code",
        "colab": {}
      },
      "source": [
        "project_id = 'practical-lodge-253418'"
      ],
      "execution_count": 0,
      "outputs": []
    },
    {
      "cell_type": "code",
      "metadata": {
        "id": "KNLfqeSDvOai",
        "colab_type": "code",
        "colab": {}
      },
      "source": [
        "client = bigquery.Client(project=project_id)"
      ],
      "execution_count": 0,
      "outputs": []
    },
    {
      "cell_type": "markdown",
      "metadata": {
        "id": "8YPcmhc2xzZw",
        "colab_type": "text"
      },
      "source": [
        "\n",
        "\n",
        "# Top Miners By Rewards in the Last 30 Days\n",
        "Find out who are the top miners by the address of the block mined in the last 30 days."
      ]
    },
    {
      "cell_type": "markdown",
      "metadata": {
        "id": "JScFJP981kew",
        "colab_type": "text"
      },
      "source": [
        "## **ETHEREUM-CLASSIC**"
      ]
    },
    {
      "cell_type": "code",
      "metadata": {
        "id": "eQ8BHvxYu2uQ",
        "colab_type": "code",
        "colab": {}
      },
      "source": [
        "blocks_ETC = client.query('''\n",
        "WITH mined_block AS (\n",
        "  SELECT miner, DATE(timestamp)\n",
        "  FROM `bigquery-public-data.crypto_ethereum_classic.blocks` \n",
        "  WHERE DATE(timestamp) > DATE_SUB(CURRENT_DATE(), INTERVAL 1 MONTH)\n",
        "  ORDER BY miner ASC)\n",
        "SELECT miner, COUNT(miner) AS total_block_reward \n",
        "FROM mined_block \n",
        "GROUP BY miner \n",
        "ORDER BY total_block_reward ASC\n",
        "''')"
      ],
      "execution_count": 0,
      "outputs": []
    },
    {
      "cell_type": "code",
      "metadata": {
        "id": "aS76DPs8u2pl",
        "colab_type": "code",
        "colab": {}
      },
      "source": [
        "query = (\"\"\"\n",
        "WITH mined_block AS (\n",
        "  SELECT miner, DATE(timestamp)\n",
        "  FROM `bigquery-public-data.crypto_ethereum_classic.blocks` \n",
        "  WHERE DATE(timestamp) > DATE_SUB(CURRENT_DATE(), INTERVAL 1 MONTH)\n",
        "  ORDER BY miner ASC)\n",
        "SELECT miner, COUNT(miner) AS total_block_reward \n",
        "FROM mined_block \n",
        "GROUP BY miner \n",
        "ORDER BY total_block_reward DESC\n",
        "LIMIT 10\n",
        "\"\"\")\n",
        "\n",
        "query_job = client.query(query)\n",
        "iterator = query_job.result()\n"
      ],
      "execution_count": 0,
      "outputs": []
    },
    {
      "cell_type": "code",
      "metadata": {
        "id": "vzxIfwaHu2hA",
        "colab_type": "code",
        "outputId": "1046d52d-b095-46b9-cbbf-941909f7336a",
        "colab": {
          "base_uri": "https://localhost:8080/",
          "height": 359
        }
      },
      "source": [
        "rows = list(iterator)\n",
        "# Transform the rows into a nice pandas dataframe\n",
        "top_miners = pd.DataFrame(data=[list(x.values()) for x in rows], columns=list(rows[0].keys()))\n",
        "# Look at the first 10 headlines\n",
        "top_miners.head(10)"
      ],
      "execution_count": 0,
      "outputs": [
        {
          "output_type": "execute_result",
          "data": {
            "text/html": [
              "<div>\n",
              "<style scoped>\n",
              "    .dataframe tbody tr th:only-of-type {\n",
              "        vertical-align: middle;\n",
              "    }\n",
              "\n",
              "    .dataframe tbody tr th {\n",
              "        vertical-align: top;\n",
              "    }\n",
              "\n",
              "    .dataframe thead th {\n",
              "        text-align: right;\n",
              "    }\n",
              "</style>\n",
              "<table border=\"1\" class=\"dataframe\">\n",
              "  <thead>\n",
              "    <tr style=\"text-align: right;\">\n",
              "      <th></th>\n",
              "      <th>miner</th>\n",
              "      <th>total_block_reward</th>\n",
              "    </tr>\n",
              "  </thead>\n",
              "  <tbody>\n",
              "    <tr>\n",
              "      <th>0</th>\n",
              "      <td>0xdf7d7e053933b5cc24372f878c90e62dadad5d42</td>\n",
              "      <td>65101</td>\n",
              "    </tr>\n",
              "    <tr>\n",
              "      <th>1</th>\n",
              "      <td>0x1c0fa194a9d3b44313dcd849f3c6be6ad270a0a4</td>\n",
              "      <td>34701</td>\n",
              "    </tr>\n",
              "    <tr>\n",
              "      <th>2</th>\n",
              "      <td>0x9eab4b0fc468a7f5d46228bf5a76cb52370d068d</td>\n",
              "      <td>29908</td>\n",
              "    </tr>\n",
              "    <tr>\n",
              "      <th>3</th>\n",
              "      <td>0x0073cf1b9230cf3ee8cab1971b8dbef21ea7b595</td>\n",
              "      <td>10659</td>\n",
              "    </tr>\n",
              "    <tr>\n",
              "      <th>4</th>\n",
              "      <td>0x004730417cd2b1d19f6be2679906ded4fa8a64e2</td>\n",
              "      <td>6433</td>\n",
              "    </tr>\n",
              "    <tr>\n",
              "      <th>5</th>\n",
              "      <td>0xd144e30a0571aaf0d0c050070ac435deba461fab</td>\n",
              "      <td>4069</td>\n",
              "    </tr>\n",
              "    <tr>\n",
              "      <th>6</th>\n",
              "      <td>0x60f814acce2b2129707228c61065696bcc3e8b9f</td>\n",
              "      <td>3721</td>\n",
              "    </tr>\n",
              "    <tr>\n",
              "      <th>7</th>\n",
              "      <td>0x904db9b94455fd4491cc83081785bf82de8a0306</td>\n",
              "      <td>3242</td>\n",
              "    </tr>\n",
              "    <tr>\n",
              "      <th>8</th>\n",
              "      <td>0x5253b33c1313a4449bc5304a9c55b4cc2bdf2872</td>\n",
              "      <td>2821</td>\n",
              "    </tr>\n",
              "    <tr>\n",
              "      <th>9</th>\n",
              "      <td>0xe0b2f8516590f2fb2c41db44c94371414fc9eb60</td>\n",
              "      <td>2768</td>\n",
              "    </tr>\n",
              "  </tbody>\n",
              "</table>\n",
              "</div>"
            ],
            "text/plain": [
              "                                        miner  total_block_reward\n",
              "0  0xdf7d7e053933b5cc24372f878c90e62dadad5d42               65101\n",
              "1  0x1c0fa194a9d3b44313dcd849f3c6be6ad270a0a4               34701\n",
              "2  0x9eab4b0fc468a7f5d46228bf5a76cb52370d068d               29908\n",
              "3  0x0073cf1b9230cf3ee8cab1971b8dbef21ea7b595               10659\n",
              "4  0x004730417cd2b1d19f6be2679906ded4fa8a64e2                6433\n",
              "5  0xd144e30a0571aaf0d0c050070ac435deba461fab                4069\n",
              "6  0x60f814acce2b2129707228c61065696bcc3e8b9f                3721\n",
              "7  0x904db9b94455fd4491cc83081785bf82de8a0306                3242\n",
              "8  0x5253b33c1313a4449bc5304a9c55b4cc2bdf2872                2821\n",
              "9  0xe0b2f8516590f2fb2c41db44c94371414fc9eb60                2768"
            ]
          },
          "metadata": {
            "tags": []
          },
          "execution_count": 8
        }
      ]
    },
    {
      "cell_type": "markdown",
      "metadata": {
        "id": "_mOsznnUyLPZ",
        "colab_type": "text"
      },
      "source": [
        "### Plotting the top miners by their block reward as a pie chart."
      ]
    },
    {
      "cell_type": "code",
      "metadata": {
        "id": "z0nhF_V3u2aw",
        "colab_type": "code",
        "outputId": "cf08fca1-6df2-4016-d35a-21538228f33a",
        "colab": {
          "base_uri": "https://localhost:8080/",
          "height": 542
        }
      },
      "source": [
        "labels = top_miners['miner']\n",
        "values = top_miners['total_block_reward']\n",
        "\n",
        "trace = go.Pie(labels=labels, values=values)\n",
        "\n",
        "iplot([trace])"
      ],
      "execution_count": 0,
      "outputs": [
        {
          "output_type": "display_data",
          "data": {
            "text/html": [
              "<div>\n",
              "        \n",
              "        \n",
              "            <div id=\"8f25405c-13cd-4ad0-b470-24a4cef3ec31\" class=\"plotly-graph-div\" style=\"height:525px; width:100%;\"></div>\n",
              "            <script type=\"text/javascript\">\n",
              "                require([\"plotly\"], function(Plotly) {\n",
              "                    window.PLOTLYENV=window.PLOTLYENV || {};\n",
              "                    \n",
              "                if (document.getElementById(\"8f25405c-13cd-4ad0-b470-24a4cef3ec31\")) {\n",
              "                    Plotly.newPlot(\n",
              "                        '8f25405c-13cd-4ad0-b470-24a4cef3ec31',\n",
              "                        [{\"labels\": [\"0xdf7d7e053933b5cc24372f878c90e62dadad5d42\", \"0x1c0fa194a9d3b44313dcd849f3c6be6ad270a0a4\", \"0x9eab4b0fc468a7f5d46228bf5a76cb52370d068d\", \"0x0073cf1b9230cf3ee8cab1971b8dbef21ea7b595\", \"0x004730417cd2b1d19f6be2679906ded4fa8a64e2\", \"0xd144e30a0571aaf0d0c050070ac435deba461fab\", \"0x60f814acce2b2129707228c61065696bcc3e8b9f\", \"0x904db9b94455fd4491cc83081785bf82de8a0306\", \"0x5253b33c1313a4449bc5304a9c55b4cc2bdf2872\", \"0xe0b2f8516590f2fb2c41db44c94371414fc9eb60\"], \"type\": \"pie\", \"values\": [65101, 34701, 29908, 10659, 6433, 4069, 3721, 3242, 2821, 2768]}],\n",
              "                        {\"template\": {\"data\": {\"bar\": [{\"error_x\": {\"color\": \"#2a3f5f\"}, \"error_y\": {\"color\": \"#2a3f5f\"}, \"marker\": {\"line\": {\"color\": \"#E5ECF6\", \"width\": 0.5}}, \"type\": \"bar\"}], \"barpolar\": [{\"marker\": {\"line\": {\"color\": \"#E5ECF6\", \"width\": 0.5}}, \"type\": \"barpolar\"}], \"carpet\": [{\"aaxis\": {\"endlinecolor\": \"#2a3f5f\", \"gridcolor\": \"white\", \"linecolor\": \"white\", \"minorgridcolor\": \"white\", \"startlinecolor\": \"#2a3f5f\"}, \"baxis\": {\"endlinecolor\": \"#2a3f5f\", \"gridcolor\": \"white\", \"linecolor\": \"white\", \"minorgridcolor\": \"white\", \"startlinecolor\": \"#2a3f5f\"}, \"type\": \"carpet\"}], \"choropleth\": [{\"colorbar\": {\"outlinewidth\": 0, \"ticks\": \"\"}, \"type\": \"choropleth\"}], \"contour\": [{\"colorbar\": {\"outlinewidth\": 0, \"ticks\": \"\"}, \"colorscale\": [[0.0, \"#0d0887\"], [0.1111111111111111, \"#46039f\"], [0.2222222222222222, \"#7201a8\"], [0.3333333333333333, \"#9c179e\"], [0.4444444444444444, \"#bd3786\"], [0.5555555555555556, \"#d8576b\"], [0.6666666666666666, \"#ed7953\"], [0.7777777777777778, \"#fb9f3a\"], [0.8888888888888888, \"#fdca26\"], [1.0, \"#f0f921\"]], \"type\": \"contour\"}], \"contourcarpet\": [{\"colorbar\": {\"outlinewidth\": 0, \"ticks\": \"\"}, \"type\": \"contourcarpet\"}], \"heatmap\": [{\"colorbar\": {\"outlinewidth\": 0, \"ticks\": \"\"}, \"colorscale\": [[0.0, \"#0d0887\"], [0.1111111111111111, \"#46039f\"], [0.2222222222222222, \"#7201a8\"], [0.3333333333333333, \"#9c179e\"], [0.4444444444444444, \"#bd3786\"], [0.5555555555555556, \"#d8576b\"], [0.6666666666666666, \"#ed7953\"], [0.7777777777777778, \"#fb9f3a\"], [0.8888888888888888, \"#fdca26\"], [1.0, \"#f0f921\"]], \"type\": \"heatmap\"}], \"heatmapgl\": [{\"colorbar\": {\"outlinewidth\": 0, \"ticks\": \"\"}, \"colorscale\": [[0.0, \"#0d0887\"], [0.1111111111111111, \"#46039f\"], [0.2222222222222222, \"#7201a8\"], [0.3333333333333333, \"#9c179e\"], [0.4444444444444444, \"#bd3786\"], [0.5555555555555556, \"#d8576b\"], [0.6666666666666666, \"#ed7953\"], [0.7777777777777778, \"#fb9f3a\"], [0.8888888888888888, \"#fdca26\"], [1.0, \"#f0f921\"]], \"type\": \"heatmapgl\"}], \"histogram\": [{\"marker\": {\"colorbar\": {\"outlinewidth\": 0, \"ticks\": \"\"}}, \"type\": \"histogram\"}], \"histogram2d\": [{\"colorbar\": {\"outlinewidth\": 0, \"ticks\": \"\"}, \"colorscale\": [[0.0, \"#0d0887\"], [0.1111111111111111, \"#46039f\"], [0.2222222222222222, \"#7201a8\"], [0.3333333333333333, \"#9c179e\"], [0.4444444444444444, \"#bd3786\"], [0.5555555555555556, \"#d8576b\"], [0.6666666666666666, \"#ed7953\"], [0.7777777777777778, \"#fb9f3a\"], [0.8888888888888888, \"#fdca26\"], [1.0, \"#f0f921\"]], \"type\": \"histogram2d\"}], \"histogram2dcontour\": [{\"colorbar\": {\"outlinewidth\": 0, \"ticks\": \"\"}, \"colorscale\": [[0.0, \"#0d0887\"], [0.1111111111111111, \"#46039f\"], [0.2222222222222222, \"#7201a8\"], [0.3333333333333333, \"#9c179e\"], [0.4444444444444444, \"#bd3786\"], [0.5555555555555556, \"#d8576b\"], [0.6666666666666666, \"#ed7953\"], [0.7777777777777778, \"#fb9f3a\"], [0.8888888888888888, \"#fdca26\"], [1.0, \"#f0f921\"]], \"type\": \"histogram2dcontour\"}], \"mesh3d\": [{\"colorbar\": {\"outlinewidth\": 0, \"ticks\": \"\"}, \"type\": \"mesh3d\"}], \"parcoords\": [{\"line\": {\"colorbar\": {\"outlinewidth\": 0, \"ticks\": \"\"}}, \"type\": \"parcoords\"}], \"scatter\": [{\"marker\": {\"colorbar\": {\"outlinewidth\": 0, \"ticks\": \"\"}}, \"type\": \"scatter\"}], \"scatter3d\": [{\"line\": {\"colorbar\": {\"outlinewidth\": 0, \"ticks\": \"\"}}, \"marker\": {\"colorbar\": {\"outlinewidth\": 0, \"ticks\": \"\"}}, \"type\": \"scatter3d\"}], \"scattercarpet\": [{\"marker\": {\"colorbar\": {\"outlinewidth\": 0, \"ticks\": \"\"}}, \"type\": \"scattercarpet\"}], \"scattergeo\": [{\"marker\": {\"colorbar\": {\"outlinewidth\": 0, \"ticks\": \"\"}}, \"type\": \"scattergeo\"}], \"scattergl\": [{\"marker\": {\"colorbar\": {\"outlinewidth\": 0, \"ticks\": \"\"}}, \"type\": \"scattergl\"}], \"scattermapbox\": [{\"marker\": {\"colorbar\": {\"outlinewidth\": 0, \"ticks\": \"\"}}, \"type\": \"scattermapbox\"}], \"scatterpolar\": [{\"marker\": {\"colorbar\": {\"outlinewidth\": 0, \"ticks\": \"\"}}, \"type\": \"scatterpolar\"}], \"scatterpolargl\": [{\"marker\": {\"colorbar\": {\"outlinewidth\": 0, \"ticks\": \"\"}}, \"type\": \"scatterpolargl\"}], \"scatterternary\": [{\"marker\": {\"colorbar\": {\"outlinewidth\": 0, \"ticks\": \"\"}}, \"type\": \"scatterternary\"}], \"surface\": [{\"colorbar\": {\"outlinewidth\": 0, \"ticks\": \"\"}, \"colorscale\": [[0.0, \"#0d0887\"], [0.1111111111111111, \"#46039f\"], [0.2222222222222222, \"#7201a8\"], [0.3333333333333333, \"#9c179e\"], [0.4444444444444444, \"#bd3786\"], [0.5555555555555556, \"#d8576b\"], [0.6666666666666666, \"#ed7953\"], [0.7777777777777778, \"#fb9f3a\"], [0.8888888888888888, \"#fdca26\"], [1.0, \"#f0f921\"]], \"type\": \"surface\"}], \"table\": [{\"cells\": {\"fill\": {\"color\": \"#EBF0F8\"}, \"line\": {\"color\": \"white\"}}, \"header\": {\"fill\": {\"color\": \"#C8D4E3\"}, \"line\": {\"color\": \"white\"}}, \"type\": \"table\"}]}, \"layout\": {\"annotationdefaults\": {\"arrowcolor\": \"#2a3f5f\", \"arrowhead\": 0, \"arrowwidth\": 1}, \"colorscale\": {\"diverging\": [[0, \"#8e0152\"], [0.1, \"#c51b7d\"], [0.2, \"#de77ae\"], [0.3, \"#f1b6da\"], [0.4, \"#fde0ef\"], [0.5, \"#f7f7f7\"], [0.6, \"#e6f5d0\"], [0.7, \"#b8e186\"], [0.8, \"#7fbc41\"], [0.9, \"#4d9221\"], [1, \"#276419\"]], \"sequential\": [[0.0, \"#0d0887\"], [0.1111111111111111, \"#46039f\"], [0.2222222222222222, \"#7201a8\"], [0.3333333333333333, \"#9c179e\"], [0.4444444444444444, \"#bd3786\"], [0.5555555555555556, \"#d8576b\"], [0.6666666666666666, \"#ed7953\"], [0.7777777777777778, \"#fb9f3a\"], [0.8888888888888888, \"#fdca26\"], [1.0, \"#f0f921\"]], \"sequentialminus\": [[0.0, \"#0d0887\"], [0.1111111111111111, \"#46039f\"], [0.2222222222222222, \"#7201a8\"], [0.3333333333333333, \"#9c179e\"], [0.4444444444444444, \"#bd3786\"], [0.5555555555555556, \"#d8576b\"], [0.6666666666666666, \"#ed7953\"], [0.7777777777777778, \"#fb9f3a\"], [0.8888888888888888, \"#fdca26\"], [1.0, \"#f0f921\"]]}, \"colorway\": [\"#636efa\", \"#EF553B\", \"#00cc96\", \"#ab63fa\", \"#FFA15A\", \"#19d3f3\", \"#FF6692\", \"#B6E880\", \"#FF97FF\", \"#FECB52\"], \"font\": {\"color\": \"#2a3f5f\"}, \"geo\": {\"bgcolor\": \"white\", \"lakecolor\": \"white\", \"landcolor\": \"#E5ECF6\", \"showlakes\": true, \"showland\": true, \"subunitcolor\": \"white\"}, \"hoverlabel\": {\"align\": \"left\"}, \"hovermode\": \"closest\", \"mapbox\": {\"style\": \"light\"}, \"paper_bgcolor\": \"white\", \"plot_bgcolor\": \"#E5ECF6\", \"polar\": {\"angularaxis\": {\"gridcolor\": \"white\", \"linecolor\": \"white\", \"ticks\": \"\"}, \"bgcolor\": \"#E5ECF6\", \"radialaxis\": {\"gridcolor\": \"white\", \"linecolor\": \"white\", \"ticks\": \"\"}}, \"scene\": {\"xaxis\": {\"backgroundcolor\": \"#E5ECF6\", \"gridcolor\": \"white\", \"gridwidth\": 2, \"linecolor\": \"white\", \"showbackground\": true, \"ticks\": \"\", \"zerolinecolor\": \"white\"}, \"yaxis\": {\"backgroundcolor\": \"#E5ECF6\", \"gridcolor\": \"white\", \"gridwidth\": 2, \"linecolor\": \"white\", \"showbackground\": true, \"ticks\": \"\", \"zerolinecolor\": \"white\"}, \"zaxis\": {\"backgroundcolor\": \"#E5ECF6\", \"gridcolor\": \"white\", \"gridwidth\": 2, \"linecolor\": \"white\", \"showbackground\": true, \"ticks\": \"\", \"zerolinecolor\": \"white\"}}, \"shapedefaults\": {\"line\": {\"color\": \"#2a3f5f\"}}, \"ternary\": {\"aaxis\": {\"gridcolor\": \"white\", \"linecolor\": \"white\", \"ticks\": \"\"}, \"baxis\": {\"gridcolor\": \"white\", \"linecolor\": \"white\", \"ticks\": \"\"}, \"bgcolor\": \"#E5ECF6\", \"caxis\": {\"gridcolor\": \"white\", \"linecolor\": \"white\", \"ticks\": \"\"}}, \"title\": {\"x\": 0.05}, \"xaxis\": {\"automargin\": true, \"gridcolor\": \"white\", \"linecolor\": \"white\", \"ticks\": \"\", \"zerolinecolor\": \"white\", \"zerolinewidth\": 2}, \"yaxis\": {\"automargin\": true, \"gridcolor\": \"white\", \"linecolor\": \"white\", \"ticks\": \"\", \"zerolinecolor\": \"white\", \"zerolinewidth\": 2}}}},\n",
              "                        {\"responsive\": true}\n",
              "                    ).then(function(){\n",
              "                            \n",
              "var gd = document.getElementById('8f25405c-13cd-4ad0-b470-24a4cef3ec31');\n",
              "var x = new MutationObserver(function (mutations, observer) {{\n",
              "        var display = window.getComputedStyle(gd).display;\n",
              "        if (!display || display === 'none') {{\n",
              "            console.log([gd, 'removed!']);\n",
              "            Plotly.purge(gd);\n",
              "            observer.disconnect();\n",
              "        }}\n",
              "}});\n",
              "\n",
              "// Listen for the removal of the full notebook cells\n",
              "var notebookContainer = gd.closest('#notebook-container');\n",
              "if (notebookContainer) {{\n",
              "    x.observe(notebookContainer, {childList: true});\n",
              "}}\n",
              "\n",
              "// Listen for the clearing of the current output cell\n",
              "var outputEl = gd.closest('.output');\n",
              "if (outputEl) {{\n",
              "    x.observe(outputEl, {childList: true});\n",
              "}}\n",
              "\n",
              "                        })\n",
              "                };\n",
              "                });\n",
              "            </script>\n",
              "        </div>"
            ],
            "application/vnd.plotly.v1+json": {
              "data": [
                {
                  "values": [
                    65101,
                    34701,
                    29908,
                    10659,
                    6433,
                    4069,
                    3721,
                    3242,
                    2821,
                    2768
                  ],
                  "labels": [
                    "0xdf7d7e053933b5cc24372f878c90e62dadad5d42",
                    "0x1c0fa194a9d3b44313dcd849f3c6be6ad270a0a4",
                    "0x9eab4b0fc468a7f5d46228bf5a76cb52370d068d",
                    "0x0073cf1b9230cf3ee8cab1971b8dbef21ea7b595",
                    "0x004730417cd2b1d19f6be2679906ded4fa8a64e2",
                    "0xd144e30a0571aaf0d0c050070ac435deba461fab",
                    "0x60f814acce2b2129707228c61065696bcc3e8b9f",
                    "0x904db9b94455fd4491cc83081785bf82de8a0306",
                    "0x5253b33c1313a4449bc5304a9c55b4cc2bdf2872",
                    "0xe0b2f8516590f2fb2c41db44c94371414fc9eb60"
                  ],
                  "type": "pie"
                }
              ],
              "config": {
                "plotlyServerURL": "https://plot.ly",
                "linkText": "Export to plot.ly",
                "showLink": false
              },
              "layout": {
                "template": {
                  "layout": {
                    "shapedefaults": {
                      "line": {
                        "color": "#2a3f5f"
                      }
                    },
                    "polar": {
                      "radialaxis": {
                        "ticks": "",
                        "gridcolor": "white",
                        "linecolor": "white"
                      },
                      "bgcolor": "#E5ECF6",
                      "angularaxis": {
                        "ticks": "",
                        "gridcolor": "white",
                        "linecolor": "white"
                      }
                    },
                    "colorway": [
                      "#636efa",
                      "#EF553B",
                      "#00cc96",
                      "#ab63fa",
                      "#FFA15A",
                      "#19d3f3",
                      "#FF6692",
                      "#B6E880",
                      "#FF97FF",
                      "#FECB52"
                    ],
                    "xaxis": {
                      "automargin": true,
                      "zerolinewidth": 2,
                      "ticks": "",
                      "zerolinecolor": "white",
                      "gridcolor": "white",
                      "linecolor": "white"
                    },
                    "colorscale": {
                      "diverging": [
                        [
                          0,
                          "#8e0152"
                        ],
                        [
                          0.1,
                          "#c51b7d"
                        ],
                        [
                          0.2,
                          "#de77ae"
                        ],
                        [
                          0.3,
                          "#f1b6da"
                        ],
                        [
                          0.4,
                          "#fde0ef"
                        ],
                        [
                          0.5,
                          "#f7f7f7"
                        ],
                        [
                          0.6,
                          "#e6f5d0"
                        ],
                        [
                          0.7,
                          "#b8e186"
                        ],
                        [
                          0.8,
                          "#7fbc41"
                        ],
                        [
                          0.9,
                          "#4d9221"
                        ],
                        [
                          1,
                          "#276419"
                        ]
                      ],
                      "sequential": [
                        [
                          0,
                          "#0d0887"
                        ],
                        [
                          0.1111111111111111,
                          "#46039f"
                        ],
                        [
                          0.2222222222222222,
                          "#7201a8"
                        ],
                        [
                          0.3333333333333333,
                          "#9c179e"
                        ],
                        [
                          0.4444444444444444,
                          "#bd3786"
                        ],
                        [
                          0.5555555555555556,
                          "#d8576b"
                        ],
                        [
                          0.6666666666666666,
                          "#ed7953"
                        ],
                        [
                          0.7777777777777778,
                          "#fb9f3a"
                        ],
                        [
                          0.8888888888888888,
                          "#fdca26"
                        ],
                        [
                          1,
                          "#f0f921"
                        ]
                      ],
                      "sequentialminus": [
                        [
                          0,
                          "#0d0887"
                        ],
                        [
                          0.1111111111111111,
                          "#46039f"
                        ],
                        [
                          0.2222222222222222,
                          "#7201a8"
                        ],
                        [
                          0.3333333333333333,
                          "#9c179e"
                        ],
                        [
                          0.4444444444444444,
                          "#bd3786"
                        ],
                        [
                          0.5555555555555556,
                          "#d8576b"
                        ],
                        [
                          0.6666666666666666,
                          "#ed7953"
                        ],
                        [
                          0.7777777777777778,
                          "#fb9f3a"
                        ],
                        [
                          0.8888888888888888,
                          "#fdca26"
                        ],
                        [
                          1,
                          "#f0f921"
                        ]
                      ]
                    },
                    "paper_bgcolor": "white",
                    "plot_bgcolor": "#E5ECF6",
                    "title": {
                      "x": 0.05
                    },
                    "scene": {
                      "zaxis": {
                        "backgroundcolor": "#E5ECF6",
                        "ticks": "",
                        "gridwidth": 2,
                        "showbackground": true,
                        "zerolinecolor": "white",
                        "gridcolor": "white",
                        "linecolor": "white"
                      },
                      "xaxis": {
                        "backgroundcolor": "#E5ECF6",
                        "ticks": "",
                        "gridwidth": 2,
                        "showbackground": true,
                        "zerolinecolor": "white",
                        "gridcolor": "white",
                        "linecolor": "white"
                      },
                      "yaxis": {
                        "backgroundcolor": "#E5ECF6",
                        "ticks": "",
                        "gridwidth": 2,
                        "showbackground": true,
                        "zerolinecolor": "white",
                        "gridcolor": "white",
                        "linecolor": "white"
                      }
                    },
                    "yaxis": {
                      "automargin": true,
                      "zerolinewidth": 2,
                      "ticks": "",
                      "zerolinecolor": "white",
                      "gridcolor": "white",
                      "linecolor": "white"
                    },
                    "hoverlabel": {
                      "align": "left"
                    },
                    "ternary": {
                      "bgcolor": "#E5ECF6",
                      "baxis": {
                        "ticks": "",
                        "gridcolor": "white",
                        "linecolor": "white"
                      },
                      "caxis": {
                        "ticks": "",
                        "gridcolor": "white",
                        "linecolor": "white"
                      },
                      "aaxis": {
                        "ticks": "",
                        "gridcolor": "white",
                        "linecolor": "white"
                      }
                    },
                    "mapbox": {
                      "style": "light"
                    },
                    "hovermode": "closest",
                    "font": {
                      "color": "#2a3f5f"
                    },
                    "geo": {
                      "showland": true,
                      "landcolor": "#E5ECF6",
                      "showlakes": true,
                      "bgcolor": "white",
                      "subunitcolor": "white",
                      "lakecolor": "white"
                    },
                    "annotationdefaults": {
                      "arrowwidth": 1,
                      "arrowhead": 0,
                      "arrowcolor": "#2a3f5f"
                    }
                  },
                  "data": {
                    "mesh3d": [
                      {
                        "colorbar": {
                          "outlinewidth": 0,
                          "ticks": ""
                        },
                        "type": "mesh3d"
                      }
                    ],
                    "scattercarpet": [
                      {
                        "marker": {
                          "colorbar": {
                            "outlinewidth": 0,
                            "ticks": ""
                          }
                        },
                        "type": "scattercarpet"
                      }
                    ],
                    "scatterternary": [
                      {
                        "marker": {
                          "colorbar": {
                            "outlinewidth": 0,
                            "ticks": ""
                          }
                        },
                        "type": "scatterternary"
                      }
                    ],
                    "surface": [
                      {
                        "colorbar": {
                          "outlinewidth": 0,
                          "ticks": ""
                        },
                        "type": "surface",
                        "colorscale": [
                          [
                            0,
                            "#0d0887"
                          ],
                          [
                            0.1111111111111111,
                            "#46039f"
                          ],
                          [
                            0.2222222222222222,
                            "#7201a8"
                          ],
                          [
                            0.3333333333333333,
                            "#9c179e"
                          ],
                          [
                            0.4444444444444444,
                            "#bd3786"
                          ],
                          [
                            0.5555555555555556,
                            "#d8576b"
                          ],
                          [
                            0.6666666666666666,
                            "#ed7953"
                          ],
                          [
                            0.7777777777777778,
                            "#fb9f3a"
                          ],
                          [
                            0.8888888888888888,
                            "#fdca26"
                          ],
                          [
                            1,
                            "#f0f921"
                          ]
                        ]
                      }
                    ],
                    "table": [
                      {
                        "header": {
                          "line": {
                            "color": "white"
                          },
                          "fill": {
                            "color": "#C8D4E3"
                          }
                        },
                        "cells": {
                          "line": {
                            "color": "white"
                          },
                          "fill": {
                            "color": "#EBF0F8"
                          }
                        },
                        "type": "table"
                      }
                    ],
                    "scatterpolargl": [
                      {
                        "marker": {
                          "colorbar": {
                            "outlinewidth": 0,
                            "ticks": ""
                          }
                        },
                        "type": "scatterpolargl"
                      }
                    ],
                    "contour": [
                      {
                        "colorbar": {
                          "outlinewidth": 0,
                          "ticks": ""
                        },
                        "type": "contour",
                        "colorscale": [
                          [
                            0,
                            "#0d0887"
                          ],
                          [
                            0.1111111111111111,
                            "#46039f"
                          ],
                          [
                            0.2222222222222222,
                            "#7201a8"
                          ],
                          [
                            0.3333333333333333,
                            "#9c179e"
                          ],
                          [
                            0.4444444444444444,
                            "#bd3786"
                          ],
                          [
                            0.5555555555555556,
                            "#d8576b"
                          ],
                          [
                            0.6666666666666666,
                            "#ed7953"
                          ],
                          [
                            0.7777777777777778,
                            "#fb9f3a"
                          ],
                          [
                            0.8888888888888888,
                            "#fdca26"
                          ],
                          [
                            1,
                            "#f0f921"
                          ]
                        ]
                      }
                    ],
                    "carpet": [
                      {
                        "type": "carpet",
                        "baxis": {
                          "minorgridcolor": "white",
                          "gridcolor": "white",
                          "linecolor": "white",
                          "endlinecolor": "#2a3f5f",
                          "startlinecolor": "#2a3f5f"
                        },
                        "aaxis": {
                          "minorgridcolor": "white",
                          "gridcolor": "white",
                          "linecolor": "white",
                          "endlinecolor": "#2a3f5f",
                          "startlinecolor": "#2a3f5f"
                        }
                      }
                    ],
                    "contourcarpet": [
                      {
                        "colorbar": {
                          "outlinewidth": 0,
                          "ticks": ""
                        },
                        "type": "contourcarpet"
                      }
                    ],
                    "heatmap": [
                      {
                        "colorbar": {
                          "outlinewidth": 0,
                          "ticks": ""
                        },
                        "type": "heatmap",
                        "colorscale": [
                          [
                            0,
                            "#0d0887"
                          ],
                          [
                            0.1111111111111111,
                            "#46039f"
                          ],
                          [
                            0.2222222222222222,
                            "#7201a8"
                          ],
                          [
                            0.3333333333333333,
                            "#9c179e"
                          ],
                          [
                            0.4444444444444444,
                            "#bd3786"
                          ],
                          [
                            0.5555555555555556,
                            "#d8576b"
                          ],
                          [
                            0.6666666666666666,
                            "#ed7953"
                          ],
                          [
                            0.7777777777777778,
                            "#fb9f3a"
                          ],
                          [
                            0.8888888888888888,
                            "#fdca26"
                          ],
                          [
                            1,
                            "#f0f921"
                          ]
                        ]
                      }
                    ],
                    "scattermapbox": [
                      {
                        "marker": {
                          "colorbar": {
                            "outlinewidth": 0,
                            "ticks": ""
                          }
                        },
                        "type": "scattermapbox"
                      }
                    ],
                    "scatter3d": [
                      {
                        "marker": {
                          "colorbar": {
                            "outlinewidth": 0,
                            "ticks": ""
                          }
                        },
                        "line": {
                          "colorbar": {
                            "outlinewidth": 0,
                            "ticks": ""
                          }
                        },
                        "type": "scatter3d"
                      }
                    ],
                    "scattergl": [
                      {
                        "marker": {
                          "colorbar": {
                            "outlinewidth": 0,
                            "ticks": ""
                          }
                        },
                        "type": "scattergl"
                      }
                    ],
                    "histogram": [
                      {
                        "marker": {
                          "colorbar": {
                            "outlinewidth": 0,
                            "ticks": ""
                          }
                        },
                        "type": "histogram"
                      }
                    ],
                    "heatmapgl": [
                      {
                        "colorbar": {
                          "outlinewidth": 0,
                          "ticks": ""
                        },
                        "type": "heatmapgl",
                        "colorscale": [
                          [
                            0,
                            "#0d0887"
                          ],
                          [
                            0.1111111111111111,
                            "#46039f"
                          ],
                          [
                            0.2222222222222222,
                            "#7201a8"
                          ],
                          [
                            0.3333333333333333,
                            "#9c179e"
                          ],
                          [
                            0.4444444444444444,
                            "#bd3786"
                          ],
                          [
                            0.5555555555555556,
                            "#d8576b"
                          ],
                          [
                            0.6666666666666666,
                            "#ed7953"
                          ],
                          [
                            0.7777777777777778,
                            "#fb9f3a"
                          ],
                          [
                            0.8888888888888888,
                            "#fdca26"
                          ],
                          [
                            1,
                            "#f0f921"
                          ]
                        ]
                      }
                    ],
                    "scatterpolar": [
                      {
                        "marker": {
                          "colorbar": {
                            "outlinewidth": 0,
                            "ticks": ""
                          }
                        },
                        "type": "scatterpolar"
                      }
                    ],
                    "histogram2d": [
                      {
                        "colorbar": {
                          "outlinewidth": 0,
                          "ticks": ""
                        },
                        "type": "histogram2d",
                        "colorscale": [
                          [
                            0,
                            "#0d0887"
                          ],
                          [
                            0.1111111111111111,
                            "#46039f"
                          ],
                          [
                            0.2222222222222222,
                            "#7201a8"
                          ],
                          [
                            0.3333333333333333,
                            "#9c179e"
                          ],
                          [
                            0.4444444444444444,
                            "#bd3786"
                          ],
                          [
                            0.5555555555555556,
                            "#d8576b"
                          ],
                          [
                            0.6666666666666666,
                            "#ed7953"
                          ],
                          [
                            0.7777777777777778,
                            "#fb9f3a"
                          ],
                          [
                            0.8888888888888888,
                            "#fdca26"
                          ],
                          [
                            1,
                            "#f0f921"
                          ]
                        ]
                      }
                    ],
                    "scattergeo": [
                      {
                        "marker": {
                          "colorbar": {
                            "outlinewidth": 0,
                            "ticks": ""
                          }
                        },
                        "type": "scattergeo"
                      }
                    ],
                    "bar": [
                      {
                        "marker": {
                          "line": {
                            "color": "#E5ECF6",
                            "width": 0.5
                          }
                        },
                        "type": "bar",
                        "error_x": {
                          "color": "#2a3f5f"
                        },
                        "error_y": {
                          "color": "#2a3f5f"
                        }
                      }
                    ],
                    "choropleth": [
                      {
                        "colorbar": {
                          "outlinewidth": 0,
                          "ticks": ""
                        },
                        "type": "choropleth"
                      }
                    ],
                    "parcoords": [
                      {
                        "line": {
                          "colorbar": {
                            "outlinewidth": 0,
                            "ticks": ""
                          }
                        },
                        "type": "parcoords"
                      }
                    ],
                    "barpolar": [
                      {
                        "marker": {
                          "line": {
                            "color": "#E5ECF6",
                            "width": 0.5
                          }
                        },
                        "type": "barpolar"
                      }
                    ],
                    "histogram2dcontour": [
                      {
                        "colorbar": {
                          "outlinewidth": 0,
                          "ticks": ""
                        },
                        "type": "histogram2dcontour",
                        "colorscale": [
                          [
                            0,
                            "#0d0887"
                          ],
                          [
                            0.1111111111111111,
                            "#46039f"
                          ],
                          [
                            0.2222222222222222,
                            "#7201a8"
                          ],
                          [
                            0.3333333333333333,
                            "#9c179e"
                          ],
                          [
                            0.4444444444444444,
                            "#bd3786"
                          ],
                          [
                            0.5555555555555556,
                            "#d8576b"
                          ],
                          [
                            0.6666666666666666,
                            "#ed7953"
                          ],
                          [
                            0.7777777777777778,
                            "#fb9f3a"
                          ],
                          [
                            0.8888888888888888,
                            "#fdca26"
                          ],
                          [
                            1,
                            "#f0f921"
                          ]
                        ]
                      }
                    ],
                    "scatter": [
                      {
                        "marker": {
                          "colorbar": {
                            "outlinewidth": 0,
                            "ticks": ""
                          }
                        },
                        "type": "scatter"
                      }
                    ]
                  }
                }
              }
            }
          },
          "metadata": {
            "tags": []
          }
        }
      ]
    },
    {
      "cell_type": "markdown",
      "metadata": {
        "id": "lAPC6cbk1vb4",
        "colab_type": "text"
      },
      "source": [
        "## **ETHEREUM**"
      ]
    },
    {
      "cell_type": "code",
      "metadata": {
        "id": "ZkqVgJx72n_y",
        "colab_type": "code",
        "colab": {}
      },
      "source": [
        "blocks_ETC = client.query('''\n",
        "WITH mined_block AS (\n",
        "  SELECT miner, DATE(timestamp)\n",
        "  FROM `bigquery-public-data.crypto_ethereum.blocks` \n",
        "  WHERE DATE(timestamp) > DATE_SUB(CURRENT_DATE(), INTERVAL 1 MONTH)\n",
        "  ORDER BY miner ASC)\n",
        "SELECT miner, COUNT(miner) AS total_block_reward \n",
        "FROM mined_block \n",
        "GROUP BY miner \n",
        "ORDER BY total_block_reward ASC\n",
        "''')"
      ],
      "execution_count": 0,
      "outputs": []
    },
    {
      "cell_type": "code",
      "metadata": {
        "id": "06Ry2CS62oGB",
        "colab_type": "code",
        "colab": {}
      },
      "source": [
        "query = (\"\"\"\n",
        "WITH mined_block AS (\n",
        "  SELECT miner, DATE(timestamp)\n",
        "  FROM `bigquery-public-data.crypto_ethereum.blocks` \n",
        "  WHERE DATE(timestamp) > DATE_SUB(CURRENT_DATE(), INTERVAL 1 MONTH)\n",
        "  ORDER BY miner ASC)\n",
        "SELECT miner, COUNT(miner) AS total_block_reward \n",
        "FROM mined_block \n",
        "GROUP BY miner \n",
        "ORDER BY total_block_reward DESC\n",
        "LIMIT 10\n",
        "\"\"\")\n",
        "\n",
        "query_job = client.query(query)\n",
        "iterator = query_job.result()"
      ],
      "execution_count": 0,
      "outputs": []
    },
    {
      "cell_type": "code",
      "metadata": {
        "id": "7hx8VhU82oDX",
        "colab_type": "code",
        "outputId": "6d68a7c9-6358-46ea-85a3-5cc25e8b0480",
        "colab": {
          "base_uri": "https://localhost:8080/",
          "height": 359
        }
      },
      "source": [
        "rows = list(iterator)\n",
        "# Transform the rows into a nice pandas dataframe\n",
        "top_miners = pd.DataFrame(data=[list(x.values()) for x in rows], columns=list(rows[0].keys()))\n",
        "# Look at the first 10 headlines\n",
        "top_miners.head(10)"
      ],
      "execution_count": 0,
      "outputs": [
        {
          "output_type": "execute_result",
          "data": {
            "text/html": [
              "<div>\n",
              "<style scoped>\n",
              "    .dataframe tbody tr th:only-of-type {\n",
              "        vertical-align: middle;\n",
              "    }\n",
              "\n",
              "    .dataframe tbody tr th {\n",
              "        vertical-align: top;\n",
              "    }\n",
              "\n",
              "    .dataframe thead th {\n",
              "        text-align: right;\n",
              "    }\n",
              "</style>\n",
              "<table border=\"1\" class=\"dataframe\">\n",
              "  <thead>\n",
              "    <tr style=\"text-align: right;\">\n",
              "      <th></th>\n",
              "      <th>miner</th>\n",
              "      <th>total_block_reward</th>\n",
              "    </tr>\n",
              "  </thead>\n",
              "  <tbody>\n",
              "    <tr>\n",
              "      <th>0</th>\n",
              "      <td>0x5a0b54d5dc17e0aadc383d2db43b0a0d3e029c4c</td>\n",
              "      <td>53109</td>\n",
              "    </tr>\n",
              "    <tr>\n",
              "      <th>1</th>\n",
              "      <td>0xea674fdde714fd979de3edf0f56aa9716b898ec8</td>\n",
              "      <td>36554</td>\n",
              "    </tr>\n",
              "    <tr>\n",
              "      <th>2</th>\n",
              "      <td>0x829bd824b016326a401d083b33d092293333a830</td>\n",
              "      <td>18512</td>\n",
              "    </tr>\n",
              "    <tr>\n",
              "      <th>3</th>\n",
              "      <td>0x52bc44d5378309ee2abf1539bf71de1b7d7be3b5</td>\n",
              "      <td>12765</td>\n",
              "    </tr>\n",
              "    <tr>\n",
              "      <th>4</th>\n",
              "      <td>0x04668ec2f57cc15c381b461b9fedab5d451c8f7f</td>\n",
              "      <td>8681</td>\n",
              "    </tr>\n",
              "    <tr>\n",
              "      <th>5</th>\n",
              "      <td>0xb2930b35844a230f00e51431acae96fe543a0347</td>\n",
              "      <td>5210</td>\n",
              "    </tr>\n",
              "    <tr>\n",
              "      <th>6</th>\n",
              "      <td>0xd224ca0c819e8e97ba0136b3b95ceff503b79f53</td>\n",
              "      <td>2786</td>\n",
              "    </tr>\n",
              "    <tr>\n",
              "      <th>7</th>\n",
              "      <td>0xaa5c4244f05c92781c4f259913319d8ba1acf05e</td>\n",
              "      <td>2677</td>\n",
              "    </tr>\n",
              "    <tr>\n",
              "      <th>8</th>\n",
              "      <td>0xeea5b82b61424df8020f5fedd81767f2d0d25bfb</td>\n",
              "      <td>2283</td>\n",
              "    </tr>\n",
              "    <tr>\n",
              "      <th>9</th>\n",
              "      <td>0x005e288d713a5fb3d7c9cf1b43810a98688c7223</td>\n",
              "      <td>1862</td>\n",
              "    </tr>\n",
              "  </tbody>\n",
              "</table>\n",
              "</div>"
            ],
            "text/plain": [
              "                                        miner  total_block_reward\n",
              "0  0x5a0b54d5dc17e0aadc383d2db43b0a0d3e029c4c               53109\n",
              "1  0xea674fdde714fd979de3edf0f56aa9716b898ec8               36554\n",
              "2  0x829bd824b016326a401d083b33d092293333a830               18512\n",
              "3  0x52bc44d5378309ee2abf1539bf71de1b7d7be3b5               12765\n",
              "4  0x04668ec2f57cc15c381b461b9fedab5d451c8f7f                8681\n",
              "5  0xb2930b35844a230f00e51431acae96fe543a0347                5210\n",
              "6  0xd224ca0c819e8e97ba0136b3b95ceff503b79f53                2786\n",
              "7  0xaa5c4244f05c92781c4f259913319d8ba1acf05e                2677\n",
              "8  0xeea5b82b61424df8020f5fedd81767f2d0d25bfb                2283\n",
              "9  0x005e288d713a5fb3d7c9cf1b43810a98688c7223                1862"
            ]
          },
          "metadata": {
            "tags": []
          },
          "execution_count": 12
        }
      ]
    },
    {
      "cell_type": "markdown",
      "metadata": {
        "id": "pmtLhyFm27O7",
        "colab_type": "text"
      },
      "source": [
        "### Plotting the top miners by their block reward as a pie chart."
      ]
    },
    {
      "cell_type": "code",
      "metadata": {
        "id": "ItgqspbP26eC",
        "colab_type": "code",
        "outputId": "22d14049-39fa-426c-f520-5f4958ec2af1",
        "colab": {
          "base_uri": "https://localhost:8080/",
          "height": 542
        }
      },
      "source": [
        "labels = top_miners['miner']\n",
        "values = top_miners['total_block_reward']\n",
        "\n",
        "trace = go.Pie(labels=labels, values=values)\n",
        "\n",
        "iplot([trace])"
      ],
      "execution_count": 0,
      "outputs": [
        {
          "output_type": "display_data",
          "data": {
            "text/html": [
              "<div>\n",
              "        \n",
              "        \n",
              "            <div id=\"66293f67-4a5f-442b-a756-9dcd66c1dc5c\" class=\"plotly-graph-div\" style=\"height:525px; width:100%;\"></div>\n",
              "            <script type=\"text/javascript\">\n",
              "                require([\"plotly\"], function(Plotly) {\n",
              "                    window.PLOTLYENV=window.PLOTLYENV || {};\n",
              "                    \n",
              "                if (document.getElementById(\"66293f67-4a5f-442b-a756-9dcd66c1dc5c\")) {\n",
              "                    Plotly.newPlot(\n",
              "                        '66293f67-4a5f-442b-a756-9dcd66c1dc5c',\n",
              "                        [{\"labels\": [\"0x5a0b54d5dc17e0aadc383d2db43b0a0d3e029c4c\", \"0xea674fdde714fd979de3edf0f56aa9716b898ec8\", \"0x829bd824b016326a401d083b33d092293333a830\", \"0x52bc44d5378309ee2abf1539bf71de1b7d7be3b5\", \"0x04668ec2f57cc15c381b461b9fedab5d451c8f7f\", \"0xb2930b35844a230f00e51431acae96fe543a0347\", \"0xd224ca0c819e8e97ba0136b3b95ceff503b79f53\", \"0xaa5c4244f05c92781c4f259913319d8ba1acf05e\", \"0xeea5b82b61424df8020f5fedd81767f2d0d25bfb\", \"0x005e288d713a5fb3d7c9cf1b43810a98688c7223\"], \"type\": \"pie\", \"values\": [53109, 36554, 18512, 12765, 8681, 5210, 2786, 2677, 2283, 1862]}],\n",
              "                        {\"template\": {\"data\": {\"bar\": [{\"error_x\": {\"color\": \"#2a3f5f\"}, \"error_y\": {\"color\": \"#2a3f5f\"}, \"marker\": {\"line\": {\"color\": \"#E5ECF6\", \"width\": 0.5}}, \"type\": \"bar\"}], \"barpolar\": [{\"marker\": {\"line\": {\"color\": \"#E5ECF6\", \"width\": 0.5}}, \"type\": \"barpolar\"}], \"carpet\": [{\"aaxis\": {\"endlinecolor\": \"#2a3f5f\", \"gridcolor\": \"white\", \"linecolor\": \"white\", \"minorgridcolor\": \"white\", \"startlinecolor\": \"#2a3f5f\"}, \"baxis\": {\"endlinecolor\": \"#2a3f5f\", \"gridcolor\": \"white\", \"linecolor\": \"white\", \"minorgridcolor\": \"white\", \"startlinecolor\": \"#2a3f5f\"}, \"type\": \"carpet\"}], \"choropleth\": [{\"colorbar\": {\"outlinewidth\": 0, \"ticks\": \"\"}, \"type\": \"choropleth\"}], \"contour\": [{\"colorbar\": {\"outlinewidth\": 0, \"ticks\": \"\"}, \"colorscale\": [[0.0, \"#0d0887\"], [0.1111111111111111, \"#46039f\"], [0.2222222222222222, \"#7201a8\"], [0.3333333333333333, \"#9c179e\"], [0.4444444444444444, \"#bd3786\"], [0.5555555555555556, \"#d8576b\"], [0.6666666666666666, \"#ed7953\"], [0.7777777777777778, \"#fb9f3a\"], [0.8888888888888888, \"#fdca26\"], [1.0, \"#f0f921\"]], \"type\": \"contour\"}], \"contourcarpet\": [{\"colorbar\": {\"outlinewidth\": 0, \"ticks\": \"\"}, \"type\": \"contourcarpet\"}], \"heatmap\": [{\"colorbar\": {\"outlinewidth\": 0, \"ticks\": \"\"}, \"colorscale\": [[0.0, \"#0d0887\"], [0.1111111111111111, \"#46039f\"], [0.2222222222222222, \"#7201a8\"], [0.3333333333333333, \"#9c179e\"], [0.4444444444444444, \"#bd3786\"], [0.5555555555555556, \"#d8576b\"], [0.6666666666666666, \"#ed7953\"], [0.7777777777777778, \"#fb9f3a\"], [0.8888888888888888, \"#fdca26\"], [1.0, \"#f0f921\"]], \"type\": \"heatmap\"}], \"heatmapgl\": [{\"colorbar\": {\"outlinewidth\": 0, \"ticks\": \"\"}, \"colorscale\": [[0.0, \"#0d0887\"], [0.1111111111111111, \"#46039f\"], [0.2222222222222222, \"#7201a8\"], [0.3333333333333333, \"#9c179e\"], [0.4444444444444444, \"#bd3786\"], [0.5555555555555556, \"#d8576b\"], [0.6666666666666666, \"#ed7953\"], [0.7777777777777778, \"#fb9f3a\"], [0.8888888888888888, \"#fdca26\"], [1.0, \"#f0f921\"]], \"type\": \"heatmapgl\"}], \"histogram\": [{\"marker\": {\"colorbar\": {\"outlinewidth\": 0, \"ticks\": \"\"}}, \"type\": \"histogram\"}], \"histogram2d\": [{\"colorbar\": {\"outlinewidth\": 0, \"ticks\": \"\"}, \"colorscale\": [[0.0, \"#0d0887\"], [0.1111111111111111, \"#46039f\"], [0.2222222222222222, \"#7201a8\"], [0.3333333333333333, \"#9c179e\"], [0.4444444444444444, \"#bd3786\"], [0.5555555555555556, \"#d8576b\"], [0.6666666666666666, \"#ed7953\"], [0.7777777777777778, \"#fb9f3a\"], [0.8888888888888888, \"#fdca26\"], [1.0, \"#f0f921\"]], \"type\": \"histogram2d\"}], \"histogram2dcontour\": [{\"colorbar\": {\"outlinewidth\": 0, \"ticks\": \"\"}, \"colorscale\": [[0.0, \"#0d0887\"], [0.1111111111111111, \"#46039f\"], [0.2222222222222222, \"#7201a8\"], [0.3333333333333333, \"#9c179e\"], [0.4444444444444444, \"#bd3786\"], [0.5555555555555556, \"#d8576b\"], [0.6666666666666666, \"#ed7953\"], [0.7777777777777778, \"#fb9f3a\"], [0.8888888888888888, \"#fdca26\"], [1.0, \"#f0f921\"]], \"type\": \"histogram2dcontour\"}], \"mesh3d\": [{\"colorbar\": {\"outlinewidth\": 0, \"ticks\": \"\"}, \"type\": \"mesh3d\"}], \"parcoords\": [{\"line\": {\"colorbar\": {\"outlinewidth\": 0, \"ticks\": \"\"}}, \"type\": \"parcoords\"}], \"scatter\": [{\"marker\": {\"colorbar\": {\"outlinewidth\": 0, \"ticks\": \"\"}}, \"type\": \"scatter\"}], \"scatter3d\": [{\"line\": {\"colorbar\": {\"outlinewidth\": 0, \"ticks\": \"\"}}, \"marker\": {\"colorbar\": {\"outlinewidth\": 0, \"ticks\": \"\"}}, \"type\": \"scatter3d\"}], \"scattercarpet\": [{\"marker\": {\"colorbar\": {\"outlinewidth\": 0, \"ticks\": \"\"}}, \"type\": \"scattercarpet\"}], \"scattergeo\": [{\"marker\": {\"colorbar\": {\"outlinewidth\": 0, \"ticks\": \"\"}}, \"type\": \"scattergeo\"}], \"scattergl\": [{\"marker\": {\"colorbar\": {\"outlinewidth\": 0, \"ticks\": \"\"}}, \"type\": \"scattergl\"}], \"scattermapbox\": [{\"marker\": {\"colorbar\": {\"outlinewidth\": 0, \"ticks\": \"\"}}, \"type\": \"scattermapbox\"}], \"scatterpolar\": [{\"marker\": {\"colorbar\": {\"outlinewidth\": 0, \"ticks\": \"\"}}, \"type\": \"scatterpolar\"}], \"scatterpolargl\": [{\"marker\": {\"colorbar\": {\"outlinewidth\": 0, \"ticks\": \"\"}}, \"type\": \"scatterpolargl\"}], \"scatterternary\": [{\"marker\": {\"colorbar\": {\"outlinewidth\": 0, \"ticks\": \"\"}}, \"type\": \"scatterternary\"}], \"surface\": [{\"colorbar\": {\"outlinewidth\": 0, \"ticks\": \"\"}, \"colorscale\": [[0.0, \"#0d0887\"], [0.1111111111111111, \"#46039f\"], [0.2222222222222222, \"#7201a8\"], [0.3333333333333333, \"#9c179e\"], [0.4444444444444444, \"#bd3786\"], [0.5555555555555556, \"#d8576b\"], [0.6666666666666666, \"#ed7953\"], [0.7777777777777778, \"#fb9f3a\"], [0.8888888888888888, \"#fdca26\"], [1.0, \"#f0f921\"]], \"type\": \"surface\"}], \"table\": [{\"cells\": {\"fill\": {\"color\": \"#EBF0F8\"}, \"line\": {\"color\": \"white\"}}, \"header\": {\"fill\": {\"color\": \"#C8D4E3\"}, \"line\": {\"color\": \"white\"}}, \"type\": \"table\"}]}, \"layout\": {\"annotationdefaults\": {\"arrowcolor\": \"#2a3f5f\", \"arrowhead\": 0, \"arrowwidth\": 1}, \"colorscale\": {\"diverging\": [[0, \"#8e0152\"], [0.1, \"#c51b7d\"], [0.2, \"#de77ae\"], [0.3, \"#f1b6da\"], [0.4, \"#fde0ef\"], [0.5, \"#f7f7f7\"], [0.6, \"#e6f5d0\"], [0.7, \"#b8e186\"], [0.8, \"#7fbc41\"], [0.9, \"#4d9221\"], [1, \"#276419\"]], \"sequential\": [[0.0, \"#0d0887\"], [0.1111111111111111, \"#46039f\"], [0.2222222222222222, \"#7201a8\"], [0.3333333333333333, \"#9c179e\"], [0.4444444444444444, \"#bd3786\"], [0.5555555555555556, \"#d8576b\"], [0.6666666666666666, \"#ed7953\"], [0.7777777777777778, \"#fb9f3a\"], [0.8888888888888888, \"#fdca26\"], [1.0, \"#f0f921\"]], \"sequentialminus\": [[0.0, \"#0d0887\"], [0.1111111111111111, \"#46039f\"], [0.2222222222222222, \"#7201a8\"], [0.3333333333333333, \"#9c179e\"], [0.4444444444444444, \"#bd3786\"], [0.5555555555555556, \"#d8576b\"], [0.6666666666666666, \"#ed7953\"], [0.7777777777777778, \"#fb9f3a\"], [0.8888888888888888, \"#fdca26\"], [1.0, \"#f0f921\"]]}, \"colorway\": [\"#636efa\", \"#EF553B\", \"#00cc96\", \"#ab63fa\", \"#FFA15A\", \"#19d3f3\", \"#FF6692\", \"#B6E880\", \"#FF97FF\", \"#FECB52\"], \"font\": {\"color\": \"#2a3f5f\"}, \"geo\": {\"bgcolor\": \"white\", \"lakecolor\": \"white\", \"landcolor\": \"#E5ECF6\", \"showlakes\": true, \"showland\": true, \"subunitcolor\": \"white\"}, \"hoverlabel\": {\"align\": \"left\"}, \"hovermode\": \"closest\", \"mapbox\": {\"style\": \"light\"}, \"paper_bgcolor\": \"white\", \"plot_bgcolor\": \"#E5ECF6\", \"polar\": {\"angularaxis\": {\"gridcolor\": \"white\", \"linecolor\": \"white\", \"ticks\": \"\"}, \"bgcolor\": \"#E5ECF6\", \"radialaxis\": {\"gridcolor\": \"white\", \"linecolor\": \"white\", \"ticks\": \"\"}}, \"scene\": {\"xaxis\": {\"backgroundcolor\": \"#E5ECF6\", \"gridcolor\": \"white\", \"gridwidth\": 2, \"linecolor\": \"white\", \"showbackground\": true, \"ticks\": \"\", \"zerolinecolor\": \"white\"}, \"yaxis\": {\"backgroundcolor\": \"#E5ECF6\", \"gridcolor\": \"white\", \"gridwidth\": 2, \"linecolor\": \"white\", \"showbackground\": true, \"ticks\": \"\", \"zerolinecolor\": \"white\"}, \"zaxis\": {\"backgroundcolor\": \"#E5ECF6\", \"gridcolor\": \"white\", \"gridwidth\": 2, \"linecolor\": \"white\", \"showbackground\": true, \"ticks\": \"\", \"zerolinecolor\": \"white\"}}, \"shapedefaults\": {\"line\": {\"color\": \"#2a3f5f\"}}, \"ternary\": {\"aaxis\": {\"gridcolor\": \"white\", \"linecolor\": \"white\", \"ticks\": \"\"}, \"baxis\": {\"gridcolor\": \"white\", \"linecolor\": \"white\", \"ticks\": \"\"}, \"bgcolor\": \"#E5ECF6\", \"caxis\": {\"gridcolor\": \"white\", \"linecolor\": \"white\", \"ticks\": \"\"}}, \"title\": {\"x\": 0.05}, \"xaxis\": {\"automargin\": true, \"gridcolor\": \"white\", \"linecolor\": \"white\", \"ticks\": \"\", \"zerolinecolor\": \"white\", \"zerolinewidth\": 2}, \"yaxis\": {\"automargin\": true, \"gridcolor\": \"white\", \"linecolor\": \"white\", \"ticks\": \"\", \"zerolinecolor\": \"white\", \"zerolinewidth\": 2}}}},\n",
              "                        {\"responsive\": true}\n",
              "                    ).then(function(){\n",
              "                            \n",
              "var gd = document.getElementById('66293f67-4a5f-442b-a756-9dcd66c1dc5c');\n",
              "var x = new MutationObserver(function (mutations, observer) {{\n",
              "        var display = window.getComputedStyle(gd).display;\n",
              "        if (!display || display === 'none') {{\n",
              "            console.log([gd, 'removed!']);\n",
              "            Plotly.purge(gd);\n",
              "            observer.disconnect();\n",
              "        }}\n",
              "}});\n",
              "\n",
              "// Listen for the removal of the full notebook cells\n",
              "var notebookContainer = gd.closest('#notebook-container');\n",
              "if (notebookContainer) {{\n",
              "    x.observe(notebookContainer, {childList: true});\n",
              "}}\n",
              "\n",
              "// Listen for the clearing of the current output cell\n",
              "var outputEl = gd.closest('.output');\n",
              "if (outputEl) {{\n",
              "    x.observe(outputEl, {childList: true});\n",
              "}}\n",
              "\n",
              "                        })\n",
              "                };\n",
              "                });\n",
              "            </script>\n",
              "        </div>"
            ],
            "application/vnd.plotly.v1+json": {
              "data": [
                {
                  "values": [
                    53109,
                    36554,
                    18512,
                    12765,
                    8681,
                    5210,
                    2786,
                    2677,
                    2283,
                    1862
                  ],
                  "labels": [
                    "0x5a0b54d5dc17e0aadc383d2db43b0a0d3e029c4c",
                    "0xea674fdde714fd979de3edf0f56aa9716b898ec8",
                    "0x829bd824b016326a401d083b33d092293333a830",
                    "0x52bc44d5378309ee2abf1539bf71de1b7d7be3b5",
                    "0x04668ec2f57cc15c381b461b9fedab5d451c8f7f",
                    "0xb2930b35844a230f00e51431acae96fe543a0347",
                    "0xd224ca0c819e8e97ba0136b3b95ceff503b79f53",
                    "0xaa5c4244f05c92781c4f259913319d8ba1acf05e",
                    "0xeea5b82b61424df8020f5fedd81767f2d0d25bfb",
                    "0x005e288d713a5fb3d7c9cf1b43810a98688c7223"
                  ],
                  "type": "pie"
                }
              ],
              "config": {
                "plotlyServerURL": "https://plot.ly",
                "linkText": "Export to plot.ly",
                "showLink": false
              },
              "layout": {
                "template": {
                  "layout": {
                    "shapedefaults": {
                      "line": {
                        "color": "#2a3f5f"
                      }
                    },
                    "polar": {
                      "radialaxis": {
                        "ticks": "",
                        "gridcolor": "white",
                        "linecolor": "white"
                      },
                      "bgcolor": "#E5ECF6",
                      "angularaxis": {
                        "ticks": "",
                        "gridcolor": "white",
                        "linecolor": "white"
                      }
                    },
                    "colorway": [
                      "#636efa",
                      "#EF553B",
                      "#00cc96",
                      "#ab63fa",
                      "#FFA15A",
                      "#19d3f3",
                      "#FF6692",
                      "#B6E880",
                      "#FF97FF",
                      "#FECB52"
                    ],
                    "xaxis": {
                      "automargin": true,
                      "zerolinewidth": 2,
                      "ticks": "",
                      "zerolinecolor": "white",
                      "gridcolor": "white",
                      "linecolor": "white"
                    },
                    "colorscale": {
                      "diverging": [
                        [
                          0,
                          "#8e0152"
                        ],
                        [
                          0.1,
                          "#c51b7d"
                        ],
                        [
                          0.2,
                          "#de77ae"
                        ],
                        [
                          0.3,
                          "#f1b6da"
                        ],
                        [
                          0.4,
                          "#fde0ef"
                        ],
                        [
                          0.5,
                          "#f7f7f7"
                        ],
                        [
                          0.6,
                          "#e6f5d0"
                        ],
                        [
                          0.7,
                          "#b8e186"
                        ],
                        [
                          0.8,
                          "#7fbc41"
                        ],
                        [
                          0.9,
                          "#4d9221"
                        ],
                        [
                          1,
                          "#276419"
                        ]
                      ],
                      "sequential": [
                        [
                          0,
                          "#0d0887"
                        ],
                        [
                          0.1111111111111111,
                          "#46039f"
                        ],
                        [
                          0.2222222222222222,
                          "#7201a8"
                        ],
                        [
                          0.3333333333333333,
                          "#9c179e"
                        ],
                        [
                          0.4444444444444444,
                          "#bd3786"
                        ],
                        [
                          0.5555555555555556,
                          "#d8576b"
                        ],
                        [
                          0.6666666666666666,
                          "#ed7953"
                        ],
                        [
                          0.7777777777777778,
                          "#fb9f3a"
                        ],
                        [
                          0.8888888888888888,
                          "#fdca26"
                        ],
                        [
                          1,
                          "#f0f921"
                        ]
                      ],
                      "sequentialminus": [
                        [
                          0,
                          "#0d0887"
                        ],
                        [
                          0.1111111111111111,
                          "#46039f"
                        ],
                        [
                          0.2222222222222222,
                          "#7201a8"
                        ],
                        [
                          0.3333333333333333,
                          "#9c179e"
                        ],
                        [
                          0.4444444444444444,
                          "#bd3786"
                        ],
                        [
                          0.5555555555555556,
                          "#d8576b"
                        ],
                        [
                          0.6666666666666666,
                          "#ed7953"
                        ],
                        [
                          0.7777777777777778,
                          "#fb9f3a"
                        ],
                        [
                          0.8888888888888888,
                          "#fdca26"
                        ],
                        [
                          1,
                          "#f0f921"
                        ]
                      ]
                    },
                    "paper_bgcolor": "white",
                    "plot_bgcolor": "#E5ECF6",
                    "title": {
                      "x": 0.05
                    },
                    "scene": {
                      "zaxis": {
                        "backgroundcolor": "#E5ECF6",
                        "ticks": "",
                        "gridwidth": 2,
                        "showbackground": true,
                        "zerolinecolor": "white",
                        "gridcolor": "white",
                        "linecolor": "white"
                      },
                      "xaxis": {
                        "backgroundcolor": "#E5ECF6",
                        "ticks": "",
                        "gridwidth": 2,
                        "showbackground": true,
                        "zerolinecolor": "white",
                        "gridcolor": "white",
                        "linecolor": "white"
                      },
                      "yaxis": {
                        "backgroundcolor": "#E5ECF6",
                        "ticks": "",
                        "gridwidth": 2,
                        "showbackground": true,
                        "zerolinecolor": "white",
                        "gridcolor": "white",
                        "linecolor": "white"
                      }
                    },
                    "yaxis": {
                      "automargin": true,
                      "zerolinewidth": 2,
                      "ticks": "",
                      "zerolinecolor": "white",
                      "gridcolor": "white",
                      "linecolor": "white"
                    },
                    "hoverlabel": {
                      "align": "left"
                    },
                    "ternary": {
                      "bgcolor": "#E5ECF6",
                      "baxis": {
                        "ticks": "",
                        "gridcolor": "white",
                        "linecolor": "white"
                      },
                      "caxis": {
                        "ticks": "",
                        "gridcolor": "white",
                        "linecolor": "white"
                      },
                      "aaxis": {
                        "ticks": "",
                        "gridcolor": "white",
                        "linecolor": "white"
                      }
                    },
                    "mapbox": {
                      "style": "light"
                    },
                    "hovermode": "closest",
                    "font": {
                      "color": "#2a3f5f"
                    },
                    "geo": {
                      "showland": true,
                      "landcolor": "#E5ECF6",
                      "showlakes": true,
                      "bgcolor": "white",
                      "subunitcolor": "white",
                      "lakecolor": "white"
                    },
                    "annotationdefaults": {
                      "arrowwidth": 1,
                      "arrowhead": 0,
                      "arrowcolor": "#2a3f5f"
                    }
                  },
                  "data": {
                    "mesh3d": [
                      {
                        "colorbar": {
                          "outlinewidth": 0,
                          "ticks": ""
                        },
                        "type": "mesh3d"
                      }
                    ],
                    "scattercarpet": [
                      {
                        "marker": {
                          "colorbar": {
                            "outlinewidth": 0,
                            "ticks": ""
                          }
                        },
                        "type": "scattercarpet"
                      }
                    ],
                    "scatterternary": [
                      {
                        "marker": {
                          "colorbar": {
                            "outlinewidth": 0,
                            "ticks": ""
                          }
                        },
                        "type": "scatterternary"
                      }
                    ],
                    "surface": [
                      {
                        "colorbar": {
                          "outlinewidth": 0,
                          "ticks": ""
                        },
                        "type": "surface",
                        "colorscale": [
                          [
                            0,
                            "#0d0887"
                          ],
                          [
                            0.1111111111111111,
                            "#46039f"
                          ],
                          [
                            0.2222222222222222,
                            "#7201a8"
                          ],
                          [
                            0.3333333333333333,
                            "#9c179e"
                          ],
                          [
                            0.4444444444444444,
                            "#bd3786"
                          ],
                          [
                            0.5555555555555556,
                            "#d8576b"
                          ],
                          [
                            0.6666666666666666,
                            "#ed7953"
                          ],
                          [
                            0.7777777777777778,
                            "#fb9f3a"
                          ],
                          [
                            0.8888888888888888,
                            "#fdca26"
                          ],
                          [
                            1,
                            "#f0f921"
                          ]
                        ]
                      }
                    ],
                    "table": [
                      {
                        "header": {
                          "line": {
                            "color": "white"
                          },
                          "fill": {
                            "color": "#C8D4E3"
                          }
                        },
                        "cells": {
                          "line": {
                            "color": "white"
                          },
                          "fill": {
                            "color": "#EBF0F8"
                          }
                        },
                        "type": "table"
                      }
                    ],
                    "scatterpolargl": [
                      {
                        "marker": {
                          "colorbar": {
                            "outlinewidth": 0,
                            "ticks": ""
                          }
                        },
                        "type": "scatterpolargl"
                      }
                    ],
                    "contour": [
                      {
                        "colorbar": {
                          "outlinewidth": 0,
                          "ticks": ""
                        },
                        "type": "contour",
                        "colorscale": [
                          [
                            0,
                            "#0d0887"
                          ],
                          [
                            0.1111111111111111,
                            "#46039f"
                          ],
                          [
                            0.2222222222222222,
                            "#7201a8"
                          ],
                          [
                            0.3333333333333333,
                            "#9c179e"
                          ],
                          [
                            0.4444444444444444,
                            "#bd3786"
                          ],
                          [
                            0.5555555555555556,
                            "#d8576b"
                          ],
                          [
                            0.6666666666666666,
                            "#ed7953"
                          ],
                          [
                            0.7777777777777778,
                            "#fb9f3a"
                          ],
                          [
                            0.8888888888888888,
                            "#fdca26"
                          ],
                          [
                            1,
                            "#f0f921"
                          ]
                        ]
                      }
                    ],
                    "carpet": [
                      {
                        "type": "carpet",
                        "baxis": {
                          "minorgridcolor": "white",
                          "gridcolor": "white",
                          "linecolor": "white",
                          "endlinecolor": "#2a3f5f",
                          "startlinecolor": "#2a3f5f"
                        },
                        "aaxis": {
                          "minorgridcolor": "white",
                          "gridcolor": "white",
                          "linecolor": "white",
                          "endlinecolor": "#2a3f5f",
                          "startlinecolor": "#2a3f5f"
                        }
                      }
                    ],
                    "contourcarpet": [
                      {
                        "colorbar": {
                          "outlinewidth": 0,
                          "ticks": ""
                        },
                        "type": "contourcarpet"
                      }
                    ],
                    "heatmap": [
                      {
                        "colorbar": {
                          "outlinewidth": 0,
                          "ticks": ""
                        },
                        "type": "heatmap",
                        "colorscale": [
                          [
                            0,
                            "#0d0887"
                          ],
                          [
                            0.1111111111111111,
                            "#46039f"
                          ],
                          [
                            0.2222222222222222,
                            "#7201a8"
                          ],
                          [
                            0.3333333333333333,
                            "#9c179e"
                          ],
                          [
                            0.4444444444444444,
                            "#bd3786"
                          ],
                          [
                            0.5555555555555556,
                            "#d8576b"
                          ],
                          [
                            0.6666666666666666,
                            "#ed7953"
                          ],
                          [
                            0.7777777777777778,
                            "#fb9f3a"
                          ],
                          [
                            0.8888888888888888,
                            "#fdca26"
                          ],
                          [
                            1,
                            "#f0f921"
                          ]
                        ]
                      }
                    ],
                    "scattermapbox": [
                      {
                        "marker": {
                          "colorbar": {
                            "outlinewidth": 0,
                            "ticks": ""
                          }
                        },
                        "type": "scattermapbox"
                      }
                    ],
                    "scatter3d": [
                      {
                        "marker": {
                          "colorbar": {
                            "outlinewidth": 0,
                            "ticks": ""
                          }
                        },
                        "line": {
                          "colorbar": {
                            "outlinewidth": 0,
                            "ticks": ""
                          }
                        },
                        "type": "scatter3d"
                      }
                    ],
                    "scattergl": [
                      {
                        "marker": {
                          "colorbar": {
                            "outlinewidth": 0,
                            "ticks": ""
                          }
                        },
                        "type": "scattergl"
                      }
                    ],
                    "histogram": [
                      {
                        "marker": {
                          "colorbar": {
                            "outlinewidth": 0,
                            "ticks": ""
                          }
                        },
                        "type": "histogram"
                      }
                    ],
                    "heatmapgl": [
                      {
                        "colorbar": {
                          "outlinewidth": 0,
                          "ticks": ""
                        },
                        "type": "heatmapgl",
                        "colorscale": [
                          [
                            0,
                            "#0d0887"
                          ],
                          [
                            0.1111111111111111,
                            "#46039f"
                          ],
                          [
                            0.2222222222222222,
                            "#7201a8"
                          ],
                          [
                            0.3333333333333333,
                            "#9c179e"
                          ],
                          [
                            0.4444444444444444,
                            "#bd3786"
                          ],
                          [
                            0.5555555555555556,
                            "#d8576b"
                          ],
                          [
                            0.6666666666666666,
                            "#ed7953"
                          ],
                          [
                            0.7777777777777778,
                            "#fb9f3a"
                          ],
                          [
                            0.8888888888888888,
                            "#fdca26"
                          ],
                          [
                            1,
                            "#f0f921"
                          ]
                        ]
                      }
                    ],
                    "scatterpolar": [
                      {
                        "marker": {
                          "colorbar": {
                            "outlinewidth": 0,
                            "ticks": ""
                          }
                        },
                        "type": "scatterpolar"
                      }
                    ],
                    "histogram2d": [
                      {
                        "colorbar": {
                          "outlinewidth": 0,
                          "ticks": ""
                        },
                        "type": "histogram2d",
                        "colorscale": [
                          [
                            0,
                            "#0d0887"
                          ],
                          [
                            0.1111111111111111,
                            "#46039f"
                          ],
                          [
                            0.2222222222222222,
                            "#7201a8"
                          ],
                          [
                            0.3333333333333333,
                            "#9c179e"
                          ],
                          [
                            0.4444444444444444,
                            "#bd3786"
                          ],
                          [
                            0.5555555555555556,
                            "#d8576b"
                          ],
                          [
                            0.6666666666666666,
                            "#ed7953"
                          ],
                          [
                            0.7777777777777778,
                            "#fb9f3a"
                          ],
                          [
                            0.8888888888888888,
                            "#fdca26"
                          ],
                          [
                            1,
                            "#f0f921"
                          ]
                        ]
                      }
                    ],
                    "scattergeo": [
                      {
                        "marker": {
                          "colorbar": {
                            "outlinewidth": 0,
                            "ticks": ""
                          }
                        },
                        "type": "scattergeo"
                      }
                    ],
                    "bar": [
                      {
                        "marker": {
                          "line": {
                            "color": "#E5ECF6",
                            "width": 0.5
                          }
                        },
                        "type": "bar",
                        "error_x": {
                          "color": "#2a3f5f"
                        },
                        "error_y": {
                          "color": "#2a3f5f"
                        }
                      }
                    ],
                    "choropleth": [
                      {
                        "colorbar": {
                          "outlinewidth": 0,
                          "ticks": ""
                        },
                        "type": "choropleth"
                      }
                    ],
                    "parcoords": [
                      {
                        "line": {
                          "colorbar": {
                            "outlinewidth": 0,
                            "ticks": ""
                          }
                        },
                        "type": "parcoords"
                      }
                    ],
                    "barpolar": [
                      {
                        "marker": {
                          "line": {
                            "color": "#E5ECF6",
                            "width": 0.5
                          }
                        },
                        "type": "barpolar"
                      }
                    ],
                    "histogram2dcontour": [
                      {
                        "colorbar": {
                          "outlinewidth": 0,
                          "ticks": ""
                        },
                        "type": "histogram2dcontour",
                        "colorscale": [
                          [
                            0,
                            "#0d0887"
                          ],
                          [
                            0.1111111111111111,
                            "#46039f"
                          ],
                          [
                            0.2222222222222222,
                            "#7201a8"
                          ],
                          [
                            0.3333333333333333,
                            "#9c179e"
                          ],
                          [
                            0.4444444444444444,
                            "#bd3786"
                          ],
                          [
                            0.5555555555555556,
                            "#d8576b"
                          ],
                          [
                            0.6666666666666666,
                            "#ed7953"
                          ],
                          [
                            0.7777777777777778,
                            "#fb9f3a"
                          ],
                          [
                            0.8888888888888888,
                            "#fdca26"
                          ],
                          [
                            1,
                            "#f0f921"
                          ]
                        ]
                      }
                    ],
                    "scatter": [
                      {
                        "marker": {
                          "colorbar": {
                            "outlinewidth": 0,
                            "ticks": ""
                          }
                        },
                        "type": "scatter"
                      }
                    ]
                  }
                }
              }
            }
          },
          "metadata": {
            "tags": []
          }
        }
      ]
    },
    {
      "cell_type": "markdown",
      "metadata": {
        "id": "lBepYCyKyW9b",
        "colab_type": "text"
      },
      "source": [
        "# Top Miners By Block Rewards All Time\n",
        "Plot the total rewards of everyone who has ever mined Ethereum Classic from the genesis block. Limit it to just miners who's daily block rewards are greater than 100. "
      ]
    },
    {
      "cell_type": "markdown",
      "metadata": {
        "id": "V2YihwON15fv",
        "colab_type": "text"
      },
      "source": [
        "## **ETHEREUM-CLASSIC**"
      ]
    },
    {
      "cell_type": "code",
      "metadata": {
        "id": "FSYLpnhfu2Vn",
        "colab_type": "code",
        "colab": {}
      },
      "source": [
        "query = ('''\n",
        "SELECT miner, \n",
        "    DATE(timestamp) as date,\n",
        "    COUNT(miner) as total_block_reward\n",
        "FROM `bigquery-public-data.crypto_ethereum_classic.blocks` \n",
        "GROUP BY miner, date\n",
        "HAVING COUNT(miner) > 100\n",
        "ORDER BY date, COUNT(miner) ASC\n",
        "\"\"\"\n",
        "query_job = client.query(query)\n",
        "iterator = query_job.result()\n",
        "''')\n"
      ],
      "execution_count": 0,
      "outputs": []
    },
    {
      "cell_type": "code",
      "metadata": {
        "id": "zU8IT4WCwG4f",
        "colab_type": "code",
        "colab": {}
      },
      "source": [
        "rows = list(iterator)\n",
        "# Transform the rows into a nice pandas dataframe\n",
        "top_miners_by_date = pd.DataFrame(data=[list(x.values()) for x in rows], columns=list(rows[0].keys()))\n",
        "top_miners_by_date.head(10)"
      ],
      "execution_count": 0,
      "outputs": []
    },
    {
      "cell_type": "code",
      "metadata": {
        "id": "99N2XE5WwG1m",
        "colab_type": "code",
        "colab": {}
      },
      "source": [
        "date_series = top_miners_by_date['date'].unique()\n",
        "date_series"
      ],
      "execution_count": 0,
      "outputs": []
    },
    {
      "cell_type": "code",
      "metadata": {
        "id": "rMK6J7B5wGye",
        "colab_type": "code",
        "colab": {}
      },
      "source": [
        "traces = []\n",
        "miner_series = top_miners_by_date['miner'].unique()\n",
        "\n",
        "for index, miner in enumerate(miner_series):\n",
        "    miner_reward_by_date = top_miners_by_date.loc[top_miners_by_date['miner'] == miner]\n",
        "    miner_reward = miner_reward_by_date['total_block_reward']\n",
        "    miner_date = miner_reward_by_date['date']\n",
        "    trace = dict(\n",
        "        x=miner_date,\n",
        "        y=miner_reward,\n",
        "        mode='lines',\n",
        "        stackgroup='one'\n",
        "    )\n",
        "    traces.append(trace)\n",
        "fig = dict(data=traces)\n",
        "\n",
        "iplot(fig)"
      ],
      "execution_count": 0,
      "outputs": []
    },
    {
      "cell_type": "markdown",
      "metadata": {
        "id": "F0fplEkr17_Z",
        "colab_type": "text"
      },
      "source": [
        "## **ETHEREUM**"
      ]
    },
    {
      "cell_type": "code",
      "metadata": {
        "id": "86eUloif3JpP",
        "colab_type": "code",
        "colab": {}
      },
      "source": [
        "query = ('''\n",
        "SELECT miner, \n",
        "    DATE(timestamp) as date,\n",
        "    COUNT(miner) as total_block_reward\n",
        "FROM `bigquery-public-data.crypto_ethereum.blocks` \n",
        "GROUP BY miner, date\n",
        "HAVING COUNT(miner) > 100\n",
        "ORDER BY date, COUNT(miner) ASC\n",
        "\"\"\"\n",
        "query_job = client.query(query)\n",
        "iterator = query_job.result()\n",
        "''')\n"
      ],
      "execution_count": 0,
      "outputs": []
    },
    {
      "cell_type": "code",
      "metadata": {
        "id": "FgMAl8iI3Jii",
        "colab_type": "code",
        "colab": {}
      },
      "source": [
        "rows = list(iterator)\n",
        "# Transform the rows into a nice pandas dataframe\n",
        "top_miners_by_date = pd.DataFrame(data=[list(x.values()) for x in rows], columns=list(rows[0].keys()))\n",
        "top_miners_by_date.head(10)"
      ],
      "execution_count": 0,
      "outputs": []
    },
    {
      "cell_type": "code",
      "metadata": {
        "id": "pU1xfC5o3JfC",
        "colab_type": "code",
        "colab": {}
      },
      "source": [
        "date_series = top_miners_by_date['date'].unique()\n",
        "date_series"
      ],
      "execution_count": 0,
      "outputs": []
    },
    {
      "cell_type": "code",
      "metadata": {
        "id": "A4pN5ake3JZ7",
        "colab_type": "code",
        "colab": {}
      },
      "source": [
        "traces = []\n",
        "miner_series = top_miners_by_date['miner'].unique()\n",
        "\n",
        "for index, miner in enumerate(miner_series):\n",
        "    miner_reward_by_date = top_miners_by_date.loc[top_miners_by_date['miner'] == miner]\n",
        "    miner_reward = miner_reward_by_date['total_block_reward']\n",
        "    miner_date = miner_reward_by_date['date']\n",
        "    trace = dict(\n",
        "        x=miner_date,\n",
        "        y=miner_reward,\n",
        "        mode='lines',\n",
        "        stackgroup='one'\n",
        "    )\n",
        "    traces.append(trace)\n",
        "fig = dict(data=traces)\n",
        "\n",
        "iplot(fig)"
      ],
      "execution_count": 0,
      "outputs": []
    },
    {
      "cell_type": "markdown",
      "metadata": {
        "id": "kSJeC2P9zMJG",
        "colab_type": "text"
      },
      "source": [
        "# Latest Daily Balance of Ethereum Classic (Top 20 Rich List)\n",
        "The latest daily balance for Ethereum Classic. Ordered by balance, getting us a nice rich list we can plot."
      ]
    },
    {
      "cell_type": "markdown",
      "metadata": {
        "id": "-R6fz1H7190j",
        "colab_type": "text"
      },
      "source": [
        "## **ETHEREUM-CLASSIC**"
      ]
    },
    {
      "cell_type": "code",
      "metadata": {
        "id": "W6vIvbFtwSl7",
        "colab_type": "code",
        "colab": {}
      },
      "source": [
        "query = ('''\n",
        "with double_entry_book as (\n",
        "    -- debits\n",
        "    select to_address as address, value as value\n",
        "    from `bigquery-public-data.crypto_ethereum_classic.traces`\n",
        "    where to_address is not null\n",
        "    and status = 1\n",
        "    and (call_type not in ('delegatecall', 'callcode', 'staticcall') or call_type is null)\n",
        "    union all\n",
        "    -- credits\n",
        "    select from_address as address, -value as value\n",
        "    from `bigquery-public-data.crypto_ethereum_classic.traces`\n",
        "    where from_address is not null\n",
        "    and status = 1\n",
        "    and (call_type not in ('delegatecall', 'callcode', 'staticcall') or call_type is null)\n",
        "    union all\n",
        "    -- transaction fees debits\n",
        "    select miner as address, sum(cast(receipt_gas_used as numeric) * cast(gas_price as numeric)) as value\n",
        "    from `bigquery-public-data.crypto_ethereum_classic.transactions` as transactions\n",
        "    join `bigquery-public-data.crypto_ethereum_classic.blocks` as blocks on blocks.number = transactions.block_number\n",
        "    group by blocks.miner\n",
        "    union all\n",
        "    -- transaction fees credits\n",
        "    select from_address as address, -(cast(receipt_gas_used as numeric) * cast(gas_price as numeric)) as value\n",
        "    from `bigquery-public-data.crypto_ethereum_classic.transactions`\n",
        ")\n",
        "select address, \n",
        "sum(value) / 1000000000 as balance\n",
        "from double_entry_book\n",
        "group by address\n",
        "order by balance desc\n",
        "limit 20\n",
        "''')\n",
        "\n",
        "query_job = client.query(query)\n",
        "iterator = query_job.result()"
      ],
      "execution_count": 0,
      "outputs": []
    },
    {
      "cell_type": "code",
      "metadata": {
        "id": "Fm1rTHO_wShf",
        "colab_type": "code",
        "colab": {}
      },
      "source": [
        "rows = list(iterator)\n",
        "# Transform the rows into a nice pandas dataframe\n",
        "top_address_rich_list = pd.DataFrame(data=[list(x.values()) for x in rows], columns=list(rows[0].keys()))\n",
        "top_address_rich_list.head(10)"
      ],
      "execution_count": 0,
      "outputs": []
    },
    {
      "cell_type": "code",
      "metadata": {
        "id": "ruwye8kGwGug",
        "colab_type": "code",
        "colab": {}
      },
      "source": [
        "labels = top_address_rich_list['address']\n",
        "values = top_address_rich_list['balance']\n",
        "\n",
        "trace = go.Pie(labels=labels, values=values)\n",
        "\n",
        "iplot([trace])"
      ],
      "execution_count": 0,
      "outputs": []
    },
    {
      "cell_type": "markdown",
      "metadata": {
        "id": "PHw6SzAU2ALM",
        "colab_type": "text"
      },
      "source": [
        "## **ETHEREUM**"
      ]
    },
    {
      "cell_type": "code",
      "metadata": {
        "id": "LMRo2Jagw3eb",
        "colab_type": "code",
        "colab": {}
      },
      "source": [
        "query = ('''\n",
        "with double_entry_book as (\n",
        "    -- debits\n",
        "    select to_address as address, value as value\n",
        "    from `bigquery-public-data.crypto_ethereum.traces`\n",
        "    where to_address is not null\n",
        "    and status = 1\n",
        "    and (call_type not in ('delegatecall', 'callcode', 'staticcall') or call_type is null)\n",
        "    union all\n",
        "    -- credits\n",
        "    select from_address as address, -value as value\n",
        "    from `bigquery-public-data.crypto_ethereum_classic.traces`\n",
        "    where from_address is not null\n",
        "    and status = 1\n",
        "    and (call_type not in ('delegatecall', 'callcode', 'staticcall') or call_type is null)\n",
        "    union all\n",
        "    -- transaction fees debits\n",
        "    select miner as address, sum(cast(receipt_gas_used as numeric) * cast(gas_price as numeric)) as value\n",
        "    from `bigquery-public-data.crypto_ethereum_classic.transactions` as transactions\n",
        "    join `bigquery-public-data.crypto_ethereum_classic.blocks` as blocks on blocks.number = transactions.block_number\n",
        "    group by blocks.miner\n",
        "    union all\n",
        "    -- transaction fees credits\n",
        "    select from_address as address, -(cast(receipt_gas_used as numeric) * cast(gas_price as numeric)) as value\n",
        "    from `bigquery-public-data.crypto_ethereum_classic.transactions`\n",
        ")\n",
        "select address, \n",
        "sum(value) / 1000000000 as balance\n",
        "from double_entry_book\n",
        "group by address\n",
        "order by balance desc\n",
        "limit 20\n",
        "''')\n",
        "\n",
        "query_job = client.query(query)\n",
        "iterator = query_job.result()"
      ],
      "execution_count": 0,
      "outputs": []
    },
    {
      "cell_type": "code",
      "metadata": {
        "id": "rK9scBU532Zx",
        "colab_type": "code",
        "colab": {}
      },
      "source": [
        "rows = list(iterator)\n",
        "# Transform the rows into a nice pandas dataframe\n",
        "top_address_rich_list = pd.DataFrame(data=[list(x.values()) for x in rows], columns=list(rows[0].keys()))\n",
        "top_address_rich_list.head(10)"
      ],
      "execution_count": 0,
      "outputs": []
    },
    {
      "cell_type": "code",
      "metadata": {
        "id": "dY_GP46e32c3",
        "colab_type": "code",
        "colab": {}
      },
      "source": [
        "labels = top_address_rich_list['address']\n",
        "values = top_address_rich_list['balance']\n",
        "\n",
        "trace = go.Pie(labels=labels, values=values)\n",
        "\n",
        "iplot([trace])"
      ],
      "execution_count": 0,
      "outputs": []
    },
    {
      "cell_type": "markdown",
      "metadata": {
        "id": "pQh-Hgp7zntG",
        "colab_type": "text"
      },
      "source": [
        "# Daily Hashrate\n",
        "Hashrate is a measure of difficulty over block time. This is measured by getting the delta time of each block timestamp from the previous block timestamp. This is \"averaged\" out by day. That is, the query can average out all difficulty and delta times per day and divide them by one another. I further divide by 1 billion to get the GH/s."
      ]
    },
    {
      "cell_type": "markdown",
      "metadata": {
        "id": "Ie_Ifur12Bsz",
        "colab_type": "text"
      },
      "source": [
        "## **ETHEREUM-CLASSIC**"
      ]
    },
    {
      "cell_type": "code",
      "metadata": {
        "id": "S8_TnEX0w3cd",
        "colab_type": "code",
        "colab": {}
      },
      "source": [
        "query = ('''\n",
        "WITH block_rows AS (\n",
        "  SELECT *, ROW_NUMBER() OVER (ORDER BY timestamp) AS rn\n",
        "  FROM `bigquery-public-data.crypto_ethereum_classic.blocks`\n",
        "),\n",
        "delta_time AS (\n",
        "  SELECT\n",
        "  mp.timestamp AS block_time,\n",
        "  mp.difficulty AS difficulty,\n",
        "  TIMESTAMP_DIFF(mp.timestamp, mc.timestamp, SECOND) AS delta_block_time\n",
        "  FROM block_rows mc\n",
        "  JOIN block_rows mp\n",
        "  ON mc.rn = mp.rn - 1\n",
        "),\n",
        "hashrate_book AS (\n",
        "  SELECT TIMESTAMP_TRUNC(block_time, DAY) AS block_day,\n",
        "  AVG(delta_block_time) as daily_avg_block_time,\n",
        "  AVG(difficulty) as daily_avg_difficulty\n",
        "  FROM delta_time\n",
        "  GROUP BY TIMESTAMP_TRUNC(block_time, DAY)\n",
        ")\n",
        "SELECT block_day,\n",
        "(daily_avg_difficulty/daily_avg_block_time)/1000000000 as hashrate\n",
        "FROM hashrate_book\n",
        "ORDER BY block_day ASC\n",
        "''')\n",
        "\n",
        "query_job = client.query(query)\n",
        "iterator = query_job.result()"
      ],
      "execution_count": 0,
      "outputs": []
    },
    {
      "cell_type": "code",
      "metadata": {
        "id": "WVqquBWww3Y5",
        "colab_type": "code",
        "colab": {}
      },
      "source": [
        "rows = list(iterator)\n",
        "# Transform the rows into a nice pandas dataframe\n",
        "daily_hashrate = pd.DataFrame(data=[list(x.values()) for x in rows], columns=list(rows[0].keys()))\n",
        "daily_hashrate.head(10)"
      ],
      "execution_count": 0,
      "outputs": []
    },
    {
      "cell_type": "code",
      "metadata": {
        "id": "c7oK7WZ0w3W1",
        "colab_type": "code",
        "colab": {}
      },
      "source": [
        "trace = go.Scatter(\n",
        "    x=daily_hashrate['block_day'],\n",
        "    y=daily_hashrate['hashrate'],\n",
        "    mode='lines'\n",
        ")\n",
        "data = [trace]\n",
        "iplot(data)"
      ],
      "execution_count": 0,
      "outputs": []
    },
    {
      "cell_type": "markdown",
      "metadata": {
        "id": "5h5N3XTc2Dnj",
        "colab_type": "text"
      },
      "source": [
        "## **ETHEREUM**"
      ]
    },
    {
      "cell_type": "code",
      "metadata": {
        "id": "TuUuHedsw3Sx",
        "colab_type": "code",
        "colab": {}
      },
      "source": [
        "query = ('''\n",
        "WITH block_rows AS (\n",
        "  SELECT *, ROW_NUMBER() OVER (ORDER BY timestamp) AS rn\n",
        "  FROM `bigquery-public-data.crypto_ethereum.blocks`\n",
        "),\n",
        "delta_time AS (\n",
        "  SELECT\n",
        "  mp.timestamp AS block_time,\n",
        "  mp.difficulty AS difficulty,\n",
        "  TIMESTAMP_DIFF(mp.timestamp, mc.timestamp, SECOND) AS delta_block_time\n",
        "  FROM block_rows mc\n",
        "  JOIN block_rows mp\n",
        "  ON mc.rn = mp.rn - 1\n",
        "),\n",
        "hashrate_book AS (\n",
        "  SELECT TIMESTAMP_TRUNC(block_time, DAY) AS block_day,\n",
        "  AVG(delta_block_time) as daily_avg_block_time,\n",
        "  AVG(difficulty) as daily_avg_difficulty\n",
        "  FROM delta_time\n",
        "  GROUP BY TIMESTAMP_TRUNC(block_time, DAY)\n",
        ")\n",
        "SELECT block_day,\n",
        "(daily_avg_difficulty/daily_avg_block_time)/1000000000 as hashrate\n",
        "FROM hashrate_book\n",
        "ORDER BY block_day ASC\n",
        "''')\n",
        "\n",
        "query_job = client.query(query)\n",
        "iterator = query_job.result()"
      ],
      "execution_count": 0,
      "outputs": []
    },
    {
      "cell_type": "code",
      "metadata": {
        "id": "NqEVfvWlw3Qz",
        "colab_type": "code",
        "colab": {}
      },
      "source": [
        "rows = list(iterator)\n",
        "# Transform the rows into a nice pandas dataframe\n",
        "daily_hashrate = pd.DataFrame(data=[list(x.values()) for x in rows], columns=list(rows[0].keys()))\n",
        "daily_hashrate.head(10)"
      ],
      "execution_count": 0,
      "outputs": []
    },
    {
      "cell_type": "code",
      "metadata": {
        "id": "vjXmw1tLw3OD",
        "colab_type": "code",
        "colab": {}
      },
      "source": [
        "trace = go.Scatter(\n",
        "    x=daily_hashrate['block_day'],\n",
        "    y=daily_hashrate['hashrate'],\n",
        "    mode='lines'\n",
        ")\n",
        "data = [trace]\n",
        "iplot(data)"
      ],
      "execution_count": 0,
      "outputs": []
    },
    {
      "cell_type": "code",
      "metadata": {
        "id": "WQv8_6uIw3KT",
        "colab_type": "code",
        "colab": {}
      },
      "source": [
        ""
      ],
      "execution_count": 0,
      "outputs": []
    },
    {
      "cell_type": "markdown",
      "metadata": {
        "id": "OgFQM_8U4Hnd",
        "colab_type": "text"
      },
      "source": [
        "# Other"
      ]
    },
    {
      "cell_type": "code",
      "metadata": {
        "id": "w0-IzLP_w3Bq",
        "colab_type": "code",
        "colab": {}
      },
      "source": [
        ""
      ],
      "execution_count": 0,
      "outputs": []
    },
    {
      "cell_type": "code",
      "metadata": {
        "id": "vjjq1IyMS52V",
        "colab_type": "code",
        "colab": {}
      },
      "source": [
        "blocks_ETH = client.query('''\n",
        "  SELECT DATE(timestamp) as date, number, miner, difficulty, total_difficulty, size, gas_limit, gas_used, transaction_count\n",
        "  FROM `bigquery-public-data.crypto_ethereum.blocks`\n",
        "  WHERE DATE(timestamp) >= \"2016-01-01\" AND DATE(timestamp) < \"2019-10-31\" ''').to_dataframe()"
      ],
      "execution_count": 0,
      "outputs": []
    },
    {
      "cell_type": "code",
      "metadata": {
        "id": "6cYJbtDbrBYm",
        "colab_type": "code",
        "colab": {}
      },
      "source": [
        "blocks_ETC = client.query('''\n",
        "  SELECT DATE(timestamp) as date, number, miner, difficulty, total_difficulty, size, gas_limit, gas_used, transaction_count\n",
        "  FROM `bigquery-public-data.crypto_ethereum_classic.blocks`\n",
        "  WHERE DATE(timestamp) >= \"2016-01-01\" AND DATE(timestamp) < \"2019-10-31\" ''').to_dataframe()"
      ],
      "execution_count": 0,
      "outputs": []
    },
    {
      "cell_type": "code",
      "metadata": {
        "id": "8LMn8Z6eTAK6",
        "colab_type": "code",
        "colab": {}
      },
      "source": [
        "blocks_ETH.head()"
      ],
      "execution_count": 0,
      "outputs": []
    },
    {
      "cell_type": "code",
      "metadata": {
        "id": "Y3vmMegCndgX",
        "colab_type": "code",
        "colab": {}
      },
      "source": [
        "blocks_ETH.describe()"
      ],
      "execution_count": 0,
      "outputs": []
    },
    {
      "cell_type": "code",
      "metadata": {
        "id": "EzcHvNaBTIqM",
        "colab_type": "code",
        "colab": {}
      },
      "source": [
        "trans_ETH = client.query('''\n",
        "  SELECT DATE(timestamp) as date, number, miner, difficulty, total_difficulty, size, gas_limit, gas_used, transaction_count\n",
        "  FROM `bigquery-public-data.crypto_ethereum.transactions`\n",
        "  WHERE DATE(timestamp) >= \"2016-01-01\" AND DATE(timestamp) < \"2019-10-31\" ''').to_dataframe()"
      ],
      "execution_count": 0,
      "outputs": []
    },
    {
      "cell_type": "code",
      "metadata": {
        "id": "8A9Wq-jXLzdA",
        "colab_type": "code",
        "colab": {}
      },
      "source": [
        ""
      ],
      "execution_count": 0,
      "outputs": []
    }
  ]
}